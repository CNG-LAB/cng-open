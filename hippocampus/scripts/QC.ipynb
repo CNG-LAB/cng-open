{
 "cells": [
  {
   "cell_type": "code",
   "execution_count": 1,
   "metadata": {},
   "outputs": [],
   "source": [
    "import os\n",
    "import numpy as np\n",
    "import pandas as pd\n",
    "import h5py\n",
    "import nibabel as nb\n",
    "import matplotlib.pyplot as plt\n",
    "from nilearn import plotting\n",
    "import seaborn as sns\n",
    "import matlab.engine\n",
    "import matlab\n",
    "import nipype.interfaces.freesurfer as fs\n",
    "from nipype.interfaces.base import CommandLine\n"
   ]
  },
  {
   "cell_type": "markdown",
   "metadata": {},
   "source": [
    "#### start matlab engine"
   ]
  },
  {
   "cell_type": "code",
   "execution_count": 2,
   "metadata": {},
   "outputs": [],
   "source": [
    "def matlab_init_surfstat():\n",
    "    global eng\n",
    "    eng = matlab.engine.start_matlab()\n",
    "    addpath = eng.addpath('../../BrainStat/surfstat/matlab')\n",
    "\n",
    "matlab_init_surfstat()"
   ]
  },
  {
   "cell_type": "markdown",
   "metadata": {},
   "source": [
    "### resample T1w-T2w-Ratios (native) to MNI Space (template)"
   ]
  },
  {
   "cell_type": "code",
   "execution_count": 2,
   "metadata": {},
   "outputs": [
    {
     "data": {
      "text/plain": [
       "1113"
      ]
     },
     "execution_count": 2,
     "metadata": {},
     "output_type": "execute_result"
    }
   ],
   "source": [
    "subjlist = '../data/subjectList1200.txt'\n",
    "f = open(subjlist); mylist = f.read().split(\"\\n\"); f.close() \n",
    "subjlist = joinedlist = mylist[:-1]\n",
    "len(subjlist)"
   ]
  },
  {
   "cell_type": "code",
   "execution_count": 5,
   "metadata": {},
   "outputs": [],
   "source": [
    "ddir = '../data/'\n",
    "odir = '../data/hcp_MNI_T1wT2w/'\n",
    "\n",
    "\n",
    "for subjid in subjlist:\n",
    "\n",
    "    # existing files\n",
    "    t1t2_native = os.path.join(ddir, \n",
    "                               'hcp-structural-preprocessed/%s/T1w/T1wDividedByT2w.nii.gz' \n",
    "                               % (subjid))\n",
    "    t1_native   = os.path.join(ddir, \n",
    "                               'hcp-structural-preprocessed/%s/T1w/T1w_acpc_dc.nii.gz' \n",
    "                               %(subjid))\n",
    "    t1_mni_trf  = os.path.join(ddir, \n",
    "                               'hcp_MNI_T1w/%s/MNINonLinear/xfms/acpc_dc2standard.nii.gz' \n",
    "                               % (subjid))\n",
    "\n",
    "    fsl_mni     = '../data/MNI152_T1_1mm_brain.nii.gz'\n",
    "\n",
    "    # will be generated \n",
    "    if not os.path.exists(os.path.join(odir, subjid)):\n",
    "        os.makedirs(os.path.join(odir, subjid))\n",
    "        \n",
    "    t1t2_mni = os.path.join(odir, subjid, 'T1wDividedByT2w_mni.nii.gz')\n",
    "\n",
    "\n",
    "    # Here we go...\n",
    "    if os.path.isfile(t1t2_native) and os.path.isfile(t1_native) \\\n",
    "    and os.path.isfile(t1_mni_trf) and not os.path.isfile(t1t2_mni):        \n",
    "\n",
    "        print(subjid)\n",
    "\n",
    "        # nipype wrapper for $wb_command\n",
    "        cli = CommandLine(command = 'wb_command')\n",
    "        cli.inputs.args = ('-volume-warpfield-resample %s %s %s  ENCLOSING_VOXEL %s -fnirt %s ' \n",
    "                           % (t1t2_native, t1_mni_trf, fsl_mni, t1t2_mni, t1_native))\n",
    "        cli.run()    \n"
   ]
  },
  {
   "cell_type": "markdown",
   "metadata": {},
   "source": [
    "### resample T1w-T2w-Ratios (MNI) along hippocampus surfaces"
   ]
  },
  {
   "cell_type": "code",
   "execution_count": 3,
   "metadata": {},
   "outputs": [
    {
     "data": {
      "text/plain": [
       "1113"
      ]
     },
     "execution_count": 3,
     "metadata": {},
     "output_type": "execute_result"
    }
   ],
   "source": [
    "bladesdir = '../data/bladesMni/'\n",
    "workdir   = '../data/bladesMniGifti_T1wT2w/'\n",
    "t1t2dir   = '../data/hcp_MNI_T1wT2w/'\n",
    "\n",
    "subjlist = '../data/subjectList1200.txt'\n",
    "f = open(subjlist); mylist = f.read().split(\"\\n\"); f.close() \n",
    "subjlist = joinedlist = mylist[:-1]\n",
    "len(subjlist)\n"
   ]
  },
  {
   "cell_type": "code",
   "execution_count": 7,
   "metadata": {
    "scrolled": true
   },
   "outputs": [],
   "source": [
    "roi_strings = ['L_SUB', 'L_CA', 'L_DG', 'R_SUB', 'R_CA', 'R_DG']                                        \n",
    "\n",
    "for subjid in subjlist:\n",
    "\n",
    "    for roi in roi_strings:\n",
    "    \n",
    "        # get existing files\n",
    "        fname     = os.path.join(bladesdir, 'HCP_%s_%s_skelFinal.obj' % (subjid, roi))  \n",
    "        volfile   = os.path.join(t1t2dir, subjid, 'T1wDividedByT2w_mni.nii.gz')\n",
    "\n",
    "        if os.path.isfile(fname) and os.path.isfile(volfile): \n",
    "\n",
    "            # ... will be generated\n",
    "            fsFile    = os.path.join(workdir, os.path.basename(fname)[:-4] + '.fs')\n",
    "            giftiFile = os.path.join(workdir, os.path.basename(fname)[:-4] + '.surf.gii')\n",
    "            vol2hipp  = os.path.join(workdir, os.path.basename(fname)[:-4] + '.shape.gii')\n",
    "\n",
    "            if not os.path.isfile(vol2hipp):\n",
    "\n",
    "                # read hippocampal surface (*obj) and write in freesurfer format (*fs)\n",
    "                data = eng.SurfStatReadSurf(fname)\n",
    "                eng.SurfStatWriteSurf1(fsFile, data);\n",
    "\n",
    "                # nipype wrapper for $ mris_convert\n",
    "                mris = fs.MRIsConvert()\n",
    "                mris.inputs.in_file  = fsFile\n",
    "                mris.inputs.out_file = giftiFile\n",
    "                mris.run() \n",
    "\n",
    "                # nipype wrapper for $wb_command\n",
    "                cli = CommandLine(command = 'wb_command')\n",
    "                cli.inputs.args = ('-volume-to-surface-mapping %s %s %s  -trilinear ' \n",
    "                                   % (volfile, giftiFile, vol2hipp))\n",
    "                cli.run()\n",
    "\n",
    "                # read data from the gifti file\n",
    "                qc_data = nb.load(vol2hipp).agg_data()\n",
    "\n",
    "\n"
   ]
  },
  {
   "cell_type": "markdown",
   "metadata": {},
   "source": [
    "## sanity check: T1w/T2w mean distributions"
   ]
  },
  {
   "cell_type": "code",
   "execution_count": 4,
   "metadata": {},
   "outputs": [],
   "source": [
    "\n",
    "# this data frame will be filled out through this jupyter notebook\n",
    "\n",
    "qc_file = '../data/qualityControl_Bayrak.xlsx'\n",
    "\n",
    "df = pd.read_excel(qc_file, index_col=0)\n",
    "df.index = df.index.map(str)\n",
    "\n",
    "DF = df.copy(deep=True)\n"
   ]
  },
  {
   "cell_type": "code",
   "execution_count": 6,
   "metadata": {},
   "outputs": [],
   "source": [
    "#DF"
   ]
  },
  {
   "cell_type": "markdown",
   "metadata": {},
   "source": [
    "### write in the qc file (mean t1w-t2w-ratios along the subfields)"
   ]
  },
  {
   "cell_type": "code",
   "execution_count": 5,
   "metadata": {},
   "outputs": [],
   "source": [
    "workdir   = '../data/bladesMniGifti_T1wT2w/'\n",
    "\n",
    "for subjid in subjlist:\n",
    "\n",
    "    # filename for t1w-t2w ratio, resampled along hippocampus\n",
    "    vol2hipp_L_SUB = os.path.join(workdir, 'HCP_%s_L_SUB_skelFinal.shape.gii' % (subjid))  \n",
    "    vol2hipp_R_SUB = os.path.join(workdir, 'HCP_%s_R_SUB_skelFinal.shape.gii' % (subjid))  \n",
    "    vol2hipp_L_DG  = os.path.join(workdir, 'HCP_%s_L_DG_skelFinal.shape.gii' % (subjid))  \n",
    "    vol2hipp_R_DG  = os.path.join(workdir, 'HCP_%s_R_DG_skelFinal.shape.gii' % (subjid))  \n",
    "    vol2hipp_L_CA  = os.path.join(workdir, 'HCP_%s_L_CA_skelFinal.shape.gii' % (subjid))  \n",
    "    vol2hipp_R_CA  = os.path.join(workdir, 'HCP_%s_R_CA_skelFinal.shape.gii' % (subjid))  \n",
    "\n",
    "    if os.path.isfile(vol2hipp_L_SUB): \n",
    "        # read data from the gifti file\n",
    "        qc_data_L_SUB = nb.load(vol2hipp_L_SUB).agg_data()\n",
    "        # set mean t1w-t2w ratios at dataframe\n",
    "        DF.at[subjid, 't1-t2-LSUB'] = qc_data_L_SUB.mean()\n",
    "\n",
    "    if os.path.isfile(vol2hipp_R_SUB):\n",
    "        qc_data_R_SUB = nb.load(vol2hipp_R_SUB).agg_data()\n",
    "        DF.at[subjid, 't1-t2-RSUB'] = qc_data_R_SUB.mean()\n",
    "    \n",
    "    if os.path.isfile(vol2hipp_L_DG):\n",
    "        qc_data_L_DG  = nb.load(vol2hipp_L_DG).agg_data()\n",
    "        DF.at[subjid, 't1-t2-LDG']  = qc_data_L_DG.mean()\n",
    "        \n",
    "    if os.path.isfile(vol2hipp_R_DG):\n",
    "        qc_data_R_DG  = nb.load(vol2hipp_R_DG).agg_data()\n",
    "        DF.at[subjid, 't1-t2-RDG']  = qc_data_R_DG.mean()\n",
    "        \n",
    "    if os.path.isfile(vol2hipp_L_CA):\n",
    "        qc_data_L_CA  = nb.load(vol2hipp_L_CA).agg_data()\n",
    "        DF.at[subjid, 't1-t2-LCA']  = qc_data_L_CA.mean()\n",
    "        \n",
    "    if os.path.isfile(vol2hipp_R_CA):\n",
    "        qc_data_R_CA  = nb.load(vol2hipp_R_CA).agg_data()\n",
    "        DF.at[subjid, 't1-t2-RCA']  = qc_data_R_CA.mean()\n"
   ]
  },
  {
   "cell_type": "markdown",
   "metadata": {},
   "source": [
    "### plot mean T1w/T2w ratios for left hem. subfields"
   ]
  },
  {
   "cell_type": "code",
   "execution_count": 6,
   "metadata": {},
   "outputs": [
    {
     "name": "stdout",
     "output_type": "stream",
     "text": [
      "0 t1-t2-LSUB\n",
      "1 t1-t2-LCA\n",
      "2 t1-t2-LDG\n"
     ]
    },
    {
     "data": {
      "text/plain": [
       "Text(0.5, 1.0, 'T1w-T2w-ratio')"
      ]
     },
     "execution_count": 6,
     "metadata": {},
     "output_type": "execute_result"
    },
    {
     "data": {
      "image/png": "[encoded data removed]",
      "text/plain": [
       "<Figure size 432x288 with 1 Axes>"
      ]
     },
     "metadata": {
      "needs_background": "light"
     },
     "output_type": "display_data"
    }
   ],
   "source": [
    "sns.set_context(\"talk\", font_scale=1.1)\n",
    "\n",
    "colstoplot = ['t1-t2-LSUB', 't1-t2-LCA', 't1-t2-LDG']\n",
    "\n",
    "\n",
    "for i,d in enumerate(colstoplot):\n",
    "    print(i, d)\n",
    "    y = DF[d]\n",
    "    x = np.random.normal(i+1, 0.08, len(y))\n",
    "    plt.plot(x, y, \n",
    "             marker=\"o\", \n",
    "             markeredgewidth = 1,\n",
    "             linestyle='None',\n",
    "             color='grey', \n",
    "             markersize=4,  \n",
    "             alpha=0.8)\n",
    "\n",
    "ax = DF.boxplot(column=colstoplot,\n",
    "                fontsize=17, \n",
    "\n",
    "                color=dict(boxes='k', whiskers='k', medians='k', caps='k'),\n",
    "                boxprops=dict(linestyle='-', linewidth=2),\n",
    "                flierprops=dict(linestyle='-', linewidth=2),\n",
    "                medianprops=dict(linestyle='-', linewidth=2),\n",
    "                whiskerprops=dict(linestyle='-', linewidth=2),\n",
    "                capprops=dict(linestyle='-', linewidth=2),\n",
    "                widths=(0.75, 0.75, 0.75),\n",
    "                showfliers=False,)\n",
    "\n",
    "\n",
    "ax.set_title(\"T1w-T2w-ratio\")    \n",
    "#ax.set(ylim=(1.2, 3))\n",
    "#plt.savefig('../figures/method_t1t2-ratios_left.png', dpi=300)"
   ]
  },
  {
   "cell_type": "markdown",
   "metadata": {},
   "source": [
    "### plot mean T1w/T2w ratios for right hem. subfields"
   ]
  },
  {
   "cell_type": "code",
   "execution_count": 7,
   "metadata": {},
   "outputs": [
    {
     "name": "stdout",
     "output_type": "stream",
     "text": [
      "0 t1-t2-RSUB\n",
      "1 t1-t2-RCA\n",
      "2 t1-t2-RDG\n"
     ]
    },
    {
     "name": "stderr",
     "output_type": "stream",
     "text": [
      "/data/u_bayrak_software/anaconda3/envs/hippoc/lib/python3.7/site-packages/matplotlib/cbook/__init__.py:1376: VisibleDeprecationWarning: Creating an ndarray from ragged nested sequences (which is a list-or-tuple of lists-or-tuples-or ndarrays with different lengths or shapes) is deprecated. If you meant to do this, you must specify 'dtype=object' when creating the ndarray.\n",
      "  X = np.atleast_1d(X.T if isinstance(X, np.ndarray) else np.asarray(X))\n"
     ]
    },
    {
     "data": {
      "text/plain": [
       "Text(0.5, 1.0, 'T1w-T2w-ratio')"
      ]
     },
     "execution_count": 7,
     "metadata": {},
     "output_type": "execute_result"
    },
    {
     "data": {
      "image/png": "[encoded data removed]",
      "text/plain": [
       "<Figure size 432x288 with 1 Axes>"
      ]
     },
     "metadata": {
      "needs_background": "light"
     },
     "output_type": "display_data"
    }
   ],
   "source": [
    "sns.set_context(\"talk\", font_scale=1.1)\n",
    "\n",
    "colstoplot = ['t1-t2-RSUB', 't1-t2-RCA', 't1-t2-RDG']\n",
    "\n",
    "\n",
    "for i,d in enumerate(colstoplot):\n",
    "    print(i, d)\n",
    "    y = DF[d]\n",
    "    x = np.random.normal(i+1, 0.08, len(y))\n",
    "    plt.plot(x, y, \n",
    "             marker=\"o\", \n",
    "             markeredgewidth = 1,\n",
    "             linestyle='None',\n",
    "             color='grey', \n",
    "             markersize=4,  \n",
    "             alpha=0.8)\n",
    "    \n",
    "\n",
    "ax = DF.boxplot(column=colstoplot,\n",
    "                fontsize=17, \n",
    "\n",
    "                color=dict(boxes='k', whiskers='k', medians='k', caps='k'),\n",
    "                boxprops=dict(linestyle='-', linewidth=2),\n",
    "                flierprops=dict(linestyle='-', linewidth=2),\n",
    "                medianprops=dict(linestyle='-', linewidth=2),\n",
    "                whiskerprops=dict(linestyle='-', linewidth=2),\n",
    "                capprops=dict(linestyle='-', linewidth=2),\n",
    "                widths=(0.75, 0.75, 0.75),\n",
    "                showfliers=False,)\n",
    "\n",
    "\n",
    "ax.set_title(\"T1w-T2w-ratio\")    \n",
    "#ax.set(ylim=(1.2, 3))\n",
    "#plt.savefig('../figures/method_t1t2-ratios_right.png', dpi=300)"
   ]
  },
  {
   "cell_type": "code",
   "execution_count": null,
   "metadata": {},
   "outputs": [],
   "source": []
  },
  {
   "cell_type": "markdown",
   "metadata": {},
   "source": [
    "# QC-Step 1) identify subjects with HCP-issues"
   ]
  },
  {
   "cell_type": "code",
   "execution_count": 8,
   "metadata": {},
   "outputs": [],
   "source": [
    "# get the QC file from the vos-de-Wael et al, 2018\n",
    "\n",
    "qc_file_pnas = '../data/qualityControl_VosdeWael.xlsx'\n",
    "\n",
    "df_pnas = pd.read_excel(qc_file_pnas, index_col=0)\n",
    "df_pnas.index = df_pnas.index.map(str)\n",
    "\n",
    "DF_pnas = df_pnas.copy(deep=True)"
   ]
  },
  {
   "cell_type": "code",
   "execution_count": 9,
   "metadata": {},
   "outputs": [
    {
     "name": "stdout",
     "output_type": "stream",
     "text": [
      "105620 A\n",
      "110613 AB\n",
      "111312 A\n",
      "112112 A\n",
      "113821 B\n",
      "114924 A\n",
      "122620 A\n",
      "124422 A\n",
      "134829 A\n",
      "139637 AB\n",
      "140117 A\n",
      "145127 A\n",
      "147737 A\n",
      "148840 A\n",
      "150019 A\n",
      "156435 A\n",
      "163432 A\n",
      "166438 A\n",
      "168139 AB\n",
      "175035 B\n",
      "176239 B\n",
      "178849 A\n",
      "180836 A\n",
      "181131 A\n",
      "190132 A\n",
      "195849 A\n",
      "199655 A\n",
      "199958 B\n",
      "200210 A\n",
      "201515 AB\n",
      "224022 A\n",
      "270332 A\n",
      "415837 B\n",
      "433839 AB\n",
      "465852 B\n",
      "522434 A\n",
      "552544 A\n",
      "628248 A\n",
      "656657 AB\n",
      "709551 A\n",
      "734045 A\n",
      "767464 AB\n",
      "872764 B\n",
      "958976 A\n",
      "965367 B\n",
      "987983 B\n",
      "994273 AB\n"
     ]
    }
   ],
   "source": [
    "\n",
    "k = 0    \n",
    "for subjS900 in DF_pnas.index:\n",
    "    if not pd.isnull(DF.at[subjS900, 'HCP-issues']):\n",
    "        k += 1\n",
    "        print(subjS900, DF.at[subjS900, 'HCP-issues'])"
   ]
  },
  {
   "cell_type": "code",
   "execution_count": 10,
   "metadata": {},
   "outputs": [
    {
     "data": {
      "text/plain": [
       "47"
      ]
     },
     "execution_count": 10,
     "metadata": {},
     "output_type": "execute_result"
    }
   ],
   "source": [
    "k"
   ]
  },
  {
   "cell_type": "code",
   "execution_count": 11,
   "metadata": {},
   "outputs": [
    {
     "data": {
      "text/plain": [
       "898"
      ]
     },
     "execution_count": 11,
     "metadata": {},
     "output_type": "execute_result"
    }
   ],
   "source": [
    "len(DF_pnas.index)"
   ]
  },
  {
   "cell_type": "code",
   "execution_count": 12,
   "metadata": {},
   "outputs": [
    {
     "data": {
      "text/plain": [
       "851"
      ]
     },
     "execution_count": 12,
     "metadata": {},
     "output_type": "execute_result"
    }
   ],
   "source": [
    "len(DF_pnas.index) - k"
   ]
  },
  {
   "cell_type": "markdown",
   "metadata": {},
   "source": [
    "# QC-Step 2) subjects with complete four HCP scan sessions"
   ]
  },
  {
   "cell_type": "code",
   "execution_count": 13,
   "metadata": {},
   "outputs": [],
   "source": [
    "# data dir\n",
    "ddir     = '../data/'  \n",
    "                \n",
    "glassdir = os.path.join(ddir, 'glasserTimeseries/');    # cortex t-series\n",
    "hippdir  = os.path.join(ddir, 'smoothTimeseries/');     # hippocampus t-series\n"
   ]
  },
  {
   "cell_type": "code",
   "execution_count": 14,
   "metadata": {},
   "outputs": [],
   "source": [
    "# it is HCP data, so there will be 4 scans\n",
    "scans = ['rfMRI_REST1_LR', 'rfMRI_REST1_RL', \n",
    "         'rfMRI_REST2_LR', 'rfMRI_REST2_RL'];\n",
    "\n",
    "# hippocampus segmentations\n",
    "rois = ['L_SUB', 'L_CA', 'L_DG', 'R_SUB', 'R_CA', 'R_DG']\n",
    "\n",
    "j = 0\n",
    "\n",
    "for subjid in subjlist:\n",
    "\n",
    "    objname1 = os.path.join(ddir, 'bladesMni/HCP_%s_L_SUB_skelFinal.obj' % (subjid))\n",
    "    objname2 = os.path.join(ddir, 'bladesMni/HCP_%s_R_SUB_skelFinal.obj' % (subjid))\n",
    "    objname3 = os.path.join(ddir, 'bladesMni/HCP_%s_L_DG_skelFinal.obj' % (subjid))\n",
    "    objname4 = os.path.join(ddir, 'bladesMni/HCP_%s_R_DG_skelFinal.obj' % (subjid))\n",
    "    objname5 = os.path.join(ddir, 'bladesMni/HCP_%s_L_CA_skelFinal.obj' % (subjid))\n",
    "    objname6 = os.path.join(ddir, 'bladesMni/HCP_%s_R_CA_skelFinal.obj' % (subjid))\n",
    "\n",
    "    # check if segmentation files exist\n",
    "    if os.path.isfile(objname1) and os.path.isfile(objname2) \\\n",
    "    and os.path.isfile(objname3) and os.path.isfile(objname4) \\\n",
    "    and os.path.isfile(objname5) and os.path.isfile(objname6):\n",
    "\n",
    "\n",
    "        # check if timeseries exist\n",
    "        subj_glass_file = os.path.join(glassdir, 'HCP_%s_glasserTimeseries.mat' % (subjid))\n",
    "        subj_hipp_file  = os.path.join(hippdir, 'HCP_%s_smoothTimeseries.mat' % (subjid))\n",
    "\n",
    "        if os.path.isfile(subj_glass_file) and os.path.isfile(subj_hipp_file):\n",
    "\n",
    "            #  HDF reader for matlab v7.3 files\n",
    "            f_subj_glass = h5py.File(subj_glass_file, 'r')\n",
    "            f_subj_hipp  = h5py.File(subj_hipp_file, 'r')\n",
    "\n",
    "            # check the data for each of the 4 scans\n",
    "            scan_check = []\n",
    "            for scan in scans:\n",
    "                if scan in f_subj_glass.keys():\n",
    "                    scan_check.append(True)\n",
    "                    \n",
    "            if len(scan_check) == 4:\n",
    "                DF.at[subjid, '4scans'] = int(1)\n",
    "            else:\n",
    "                DF.at[subjid, '4scans'] = int(0)\n",
    "            \n",
    "            j += 1\n"
   ]
  },
  {
   "cell_type": "code",
   "execution_count": 15,
   "metadata": {},
   "outputs": [],
   "source": [
    "m = 0    \n",
    "y = 0\n",
    "\n",
    "for subjS900 in DF_pnas.index:\n",
    "    if pd.isnull(DF.at[subjS900, 'HCP-issues']):\n",
    "        y += 1\n",
    "        if DF.at[subjS900, '4scans'] == 1:\n",
    "            m += 1"
   ]
  },
  {
   "cell_type": "code",
   "execution_count": 16,
   "metadata": {},
   "outputs": [
    {
     "data": {
      "text/plain": [
       "782"
      ]
     },
     "execution_count": 16,
     "metadata": {},
     "output_type": "execute_result"
    }
   ],
   "source": [
    "m"
   ]
  },
  {
   "cell_type": "markdown",
   "metadata": {},
   "source": [
    "# QC-Step 3) visual inspections on SurfPatch subfield segmentations"
   ]
  },
  {
   "cell_type": "markdown",
   "metadata": {},
   "source": [
    "### for MANUAL visualizing purposes, T1w_restore (mni) resampled along hippocampus shells"
   ]
  },
  {
   "cell_type": "code",
   "execution_count": 17,
   "metadata": {},
   "outputs": [
    {
     "data": {
      "text/plain": [
       "1113"
      ]
     },
     "execution_count": 17,
     "metadata": {},
     "output_type": "execute_result"
    }
   ],
   "source": [
    "shellsdir = '../data/shellsMni/'\n",
    "outdir    = '../data/shellsMniGifti'\n",
    "t1dir     = '../data/hcp_MNI_T1w/'\n",
    "\n",
    "subjlist = '../data/subjectList1200.txt'\n",
    "f = open(subjlist); mylist = f.read().split(\"\\n\"); f.close() \n",
    "subjlist = joinedlist = mylist[:-1]\n",
    "len(subjlist)"
   ]
  },
  {
   "cell_type": "markdown",
   "metadata": {},
   "source": [
    "### L_SUB, L_CA, L_DG, R_SUB, R_CA, R_DG gifti"
   ]
  },
  {
   "cell_type": "code",
   "execution_count": 13,
   "metadata": {},
   "outputs": [],
   "source": [
    "roi_strings = ['L_SUB', 'L_CA', 'L_DG', 'R_SUB', 'R_CA', 'R_DG']                                        \n",
    "\n",
    "for subjid in subjlist:\n",
    "\n",
    "    for roi in roi_strings:\n",
    "\n",
    "        # get existing files\n",
    "        fname     = os.path.join(shellsdir, 'HCP_%s_%s.obj' % (subjid, roi))  \n",
    "        volfile   = os.path.join(t1dir, subjid, 'MNINonLinear/T1w_restore.nii.gz')\n",
    "\n",
    "        if os.path.isfile(fname) and os.path.isfile(volfile): \n",
    "\n",
    "            # ... will be generated\n",
    "            fsFile    = os.path.join(outdir, os.path.basename(fname)[:-4] + '.fs')\n",
    "            giftiFile = os.path.join(outdir, os.path.basename(fname)[:-4] + '.surf.gii')\n",
    "            vol2hipp  = os.path.join(outdir, os.path.basename(fname)[:-4] + '.shape.gii')\n",
    "\n",
    "            if not os.path.isfile(vol2hipp):\n",
    "\n",
    "                # read hippocampal surface (*obj) and write in freesurfer format (*fs)\n",
    "                data = eng.SurfStatReadSurf(fname)\n",
    "                eng.SurfStatWriteSurf1(fsFile, data);\n",
    "\n",
    "                # nipype wrapper for $ mris_convert\n",
    "                mris = fs.MRIsConvert()\n",
    "                mris.inputs.in_file  = fsFile\n",
    "                mris.inputs.out_file = giftiFile\n",
    "                mris.run() \n",
    "\n",
    "                # nipype wrapper for $wb_command\n",
    "                cli = CommandLine(command = 'wb_command')\n",
    "                cli.inputs.args = ('-volume-to-surface-mapping %s %s %s  -trilinear ' \n",
    "                                   % (volfile, giftiFile, vol2hipp))\n",
    "                cli.run()\n"
   ]
  },
  {
   "cell_type": "markdown",
   "metadata": {},
   "source": [
    "### read & write man vis. quality check in main DF"
   ]
  },
  {
   "cell_type": "code",
   "execution_count": 18,
   "metadata": {},
   "outputs": [],
   "source": [
    "qc_file = '../data/qualityControl_Bayrak_manualViz.xlsx'\n",
    "\n",
    "dfMAN = pd.read_excel(qc_file, index_col=0)\n",
    "dfMAN.index = dfMAN.index.map(str)\n",
    "\n",
    "DFMAN = dfMAN.copy(deep=True)\n",
    "\n",
    "subjlist = DF.index\n",
    "\n",
    "for subj in subjlist:\n",
    "    \n",
    "    if DFMAN.at[subj, 't1-t2-man-viz'] == 1:\n",
    "        DF.at[subj, 't1-t2-man-viz'] = 1\n",
    "    \n",
    "    elif DFMAN.at[subj, 't1-t2-man-viz'] == 0:\n",
    "        DF.at[subj, 't1-t2-man-viz'] == 0"
   ]
  },
  {
   "cell_type": "markdown",
   "metadata": {},
   "source": [
    "### input PNAS study QC values in our DF"
   ]
  },
  {
   "cell_type": "code",
   "execution_count": 19,
   "metadata": {},
   "outputs": [],
   "source": [
    "for subjS900 in subjlist:\n",
    "\n",
    "    if subjS900 in DF_pnas.index :\n",
    "        \n",
    "        if DF_pnas.at[subjS900, 'Grade'] > 0: \n",
    "            \n",
    "            DF.at[subjS900, 'pnas'] = 1\n",
    "    \n",
    "        elif DF_pnas.at[subjS900, 'Grade'] <= 0: \n",
    "            \n",
    "            DF.at[subjS900, 'pnas'] = 0\n",
    "    \n"
   ]
  },
  {
   "cell_type": "code",
   "execution_count": 20,
   "metadata": {},
   "outputs": [],
   "source": [
    "m = 0    \n",
    "y = 0\n",
    "h = 0\n",
    "\n",
    "\n",
    "for subjS900 in DF_pnas.index:\n",
    "    if pd.isnull(DF.at[subjS900, 'HCP-issues']):\n",
    "        y += 1\n",
    "\n",
    "        if DF.at[subjS900, '4scans'] == 1:\n",
    "            m += 1\n",
    "\n",
    "            if DF.at[subjS900, 'pnas'] > 0  or DF.at[subjS900, 't1-t2-man-viz'] == 1: \n",
    "                h += 1\n",
    "                "
   ]
  },
  {
   "cell_type": "code",
   "execution_count": 21,
   "metadata": {},
   "outputs": [
    {
     "data": {
      "text/plain": [
       "740"
      ]
     },
     "execution_count": 21,
     "metadata": {},
     "output_type": "execute_result"
    }
   ],
   "source": [
    "h"
   ]
  },
  {
   "cell_type": "code",
   "execution_count": null,
   "metadata": {},
   "outputs": [],
   "source": [
    "# save the surviving 740 subjects to obtaine a group-level FC\n",
    "\n",
    "qc_file = '../data/qualityControl_Bayrak_v03.xlsx'\n",
    "\n",
    "df = pd.read_excel(qc_file, index_col=0)\n",
    "df.index = df.index.map(str)\n",
    "\n",
    "DF = df.copy(deep=True)\n",
    "\n",
    "subjlist = DF.index\n",
    "\n",
    "f1 = open('../data/subjectListS900_QC.txt', 'a')\n",
    "\n",
    "x = 0\n",
    "for subj in subjlist:\n",
    "    if DF.at[subj, 'inclusion'] == 1:\n",
    "        x += 1\n",
    "        f1.write(subj + \"\\n\")\n",
    "f1.close()\n"
   ]
  },
  {
   "cell_type": "code",
   "execution_count": null,
   "metadata": {},
   "outputs": [],
   "source": []
  },
  {
   "cell_type": "markdown",
   "metadata": {},
   "source": [
    "# QC-Step 4) correlations between individual- and group-level FC"
   ]
  },
  {
   "cell_type": "code",
   "execution_count": 22,
   "metadata": {},
   "outputs": [],
   "source": [
    "import os\n",
    "import h5py\n",
    "import numpy as np\n",
    "import pandas as pd\n",
    "from scipy.stats import pearsonr\n",
    "import matplotlib.pyplot as plt\n",
    "import seaborn as sns\n"
   ]
  },
  {
   "cell_type": "code",
   "execution_count": 23,
   "metadata": {},
   "outputs": [
    {
     "name": "stdout",
     "output_type": "stream",
     "text": [
      "We have now 740 subjects... \n"
     ]
    }
   ],
   "source": [
    "ddir      = '../data/'                                          #  data dir\n",
    "cordir    = '../data/tout_cortex/'\n",
    "grodir    = '../data/tout_group'\n",
    "\n",
    "# final subject list after QC         \n",
    "subjlist = os.path.join(ddir, 'subjectListS900_QC.txt');       # 740 subjects\n",
    "f = open(subjlist); mylist = f.read().split(\"\\n\"); f.close() \n",
    "mylist =  mylist[:-1] \n",
    "totnum = len(mylist)\n",
    "\n",
    "print('We have now %i subjects... ' % totnum)\n"
   ]
  },
  {
   "cell_type": "code",
   "execution_count": 24,
   "metadata": {},
   "outputs": [],
   "source": [
    "# get group-level cortex-to-subfield connectivity\n",
    "\n",
    "with h5py.File(os.path.join(grodir, 'cortex740_LSUB.h5'), \"r\") as f:  \n",
    "    avg_LSUB = np.array(f['LSUB']) \n",
    "\n",
    "with h5py.File(os.path.join(grodir, 'cortex740_RSUB.h5'), \"r\") as f:  \n",
    "    avg_RSUB = np.array(f['RSUB']) \n",
    "\n",
    "with h5py.File(os.path.join(grodir, 'cortex740_LCA.h5'), \"r\") as f:  \n",
    "    avg_LCA = np.array(f['LCA']) \n",
    "\n",
    "with h5py.File(os.path.join(grodir, 'cortex740_RCA.h5'), \"r\") as f:  \n",
    "    avg_RCA = np.array(f['RCA']) \n",
    "\n",
    "with h5py.File(os.path.join(grodir, 'cortex740_LDG.h5'), \"r\") as f:  \n",
    "    avg_LDG = np.array(f['LDG']) \n",
    "    \n",
    "with h5py.File(os.path.join(grodir, 'cortex740_RDG.h5'), \"r\") as f:  \n",
    "    avg_RDG = np.array(f['RDG']) \n",
    "    \n",
    "avg_SUB = (avg_LSUB + avg_RSUB)/2\n",
    "avg_CA  = (avg_LCA + avg_RCA)/2\n",
    "avg_DG  = (avg_LDG + avg_RDG)/2\n"
   ]
  },
  {
   "cell_type": "code",
   "execution_count": 25,
   "metadata": {},
   "outputs": [
    {
     "data": {
      "text/plain": [
       "740"
      ]
     },
     "execution_count": 25,
     "metadata": {},
     "output_type": "execute_result"
    }
   ],
   "source": [
    "len(mylist)"
   ]
  },
  {
   "cell_type": "markdown",
   "metadata": {},
   "source": [
    "### compute the individual correlations"
   ]
  },
  {
   "cell_type": "code",
   "execution_count": 47,
   "metadata": {},
   "outputs": [
    {
     "name": "stdout",
     "output_type": "stream",
     "text": [
      "111716 0.5340041552674235 0.5340041552674235 0.5340041552674235\n",
      "148032 0.6190339010993898 0.6190339010993898 0.6190339010993898\n",
      "149236 0.571172987719664 0.571172987719664 0.571172987719664\n",
      "154835 0.660900435543258 0.660900435543258 0.660900435543258\n",
      "162935 0.5877979079506098 0.5877979079506098 0.5877979079506098\n",
      "167238 0.6028237387577474 0.6028237387577474 0.6028237387577474\n",
      "171431 0.5769454459514572 0.5769454459514572 0.5769454459514572\n",
      "180129 0.6217845644817634 0.6217845644817634 0.6217845644817634\n",
      "192035 0.5206749476076504 0.5206749476076504 0.5206749476076504\n",
      "195041 0.6329490592840916 0.6329490592840916 0.6329490592840916\n",
      "197348 0.6769558102688822 0.6769558102688822 0.6769558102688822\n",
      "204521 0.640759730569356 0.640759730569356 0.640759730569356\n",
      "211720 0.4863120983776601 0.4863120983776601 0.4863120983776601\n",
      "284646 0.41430855161114954 0.41430855161114954 0.41430855161114954\n",
      "309636 0.6251210447199278 0.6251210447199278 0.6251210447199278\n",
      "310621 0.6769268744758212 0.6769268744758212 0.6769268744758212\n",
      "391748 0.6376346127351136 0.6376346127351136 0.6376346127351136\n",
      "429040 0.6789241975059491 0.6789241975059491 0.6789241975059491\n",
      "436239 0.578910904867743 0.578910904867743 0.578910904867743\n",
      "449753 0.4174037668108613 0.4174037668108613 0.4174037668108613\n",
      "525541 0.607019371120173 0.607019371120173 0.607019371120173\n",
      "599671 0.45720138530951776 0.45720138530951776 0.45720138530951776\n",
      "615744 0.6733459716385821 0.6733459716385821 0.6733459716385821\n",
      "617748 0.586727547827787 0.586727547827787 0.586727547827787\n",
      "715950 0.7085767189149698 0.7085767189149698 0.7085767189149698\n",
      "727553 0.4129620672904363 0.4129620672904363 0.4129620672904363\n",
      "735148 0.6603414989546947 0.6603414989546947 0.6603414989546947\n",
      "773257 0.6997799346377848 0.6997799346377848 0.6997799346377848\n",
      "786569 0.4997555815896488 0.4997555815896488 0.4997555815896488\n",
      "837964 0.6628778802593375 0.6628778802593375 0.6628778802593375\n",
      "843151 0.41132927177688244 0.41132927177688244 0.41132927177688244\n"
     ]
    }
   ],
   "source": [
    "num = avg_SUB.shape[0]\n",
    "\n",
    "k = 0\n",
    "for subjID in mylist:\n",
    "    \n",
    "    subjsub_L = os.path.join(cordir, subjID + '_cortex_LSUB.h5')\n",
    "    subjsub_R = os.path.join(cordir, subjID + '_cortex_RSUB.h5')\n",
    "    \n",
    "    with h5py.File(subjsub_L, \"r\") as f:        \n",
    "        subjsubdata_L = np.array(f[subjID])\n",
    "    \n",
    "    with h5py.File(subjsub_R, \"r\") as f:        \n",
    "        subjsubdata_R = np.array(f[subjID])\n",
    "\n",
    "    subjsubdata = (subjsubdata_L + subjsubdata_R) / 2   \n",
    "    \n",
    "    subjca_L = os.path.join(cordir, subjID + '_cortex_LCA.h5')\n",
    "    subjca_R = os.path.join(cordir, subjID + '_cortex_RCA.h5')\n",
    "    \n",
    "    with h5py.File(subjca_L, \"r\") as f:        \n",
    "        subjcadata_L = np.array(f[subjID])\n",
    "\n",
    "    with h5py.File(subjca_R, \"r\") as f:        \n",
    "        subjcadata_R = np.array(f[subjID])\n",
    "\n",
    "    subjcadata = (subjcadata_L + subjcadata_R) / 2      \n",
    "    \n",
    "    subjdg_L = os.path.join(cordir, subjID + '_cortex_LDG.h5')\n",
    "    subjdg_R = os.path.join(cordir, subjID + '_cortex_RDG.h5')\n",
    "    \n",
    "    with h5py.File(subjdg_L, \"r\") as f:        \n",
    "        subjdgdata_L = np.array(f[subjID])\n",
    "\n",
    "    with h5py.File(subjdg_R, \"r\") as f:        \n",
    "        subjdgdata_R = np.array(f[subjID])\n",
    "    \n",
    "    subjdgdata = (subjdgdata_L + subjdgdata_R) / 2      \n",
    "       \n",
    "    DF.at[subjID, 'corrSUB'] = pearsonr(avg_SUB.reshape(num), subjsubdata.reshape(num))[0]\n",
    "    DF.at[subjID, 'corrCA']  = pearsonr(avg_CA.reshape(num), subjcadata.reshape(num))[0]\n",
    "    DF.at[subjID, 'corrDG']  = pearsonr(avg_DG.reshape(num), subjdgdata.reshape(num))[0]\n",
    "\n",
    "    if DF.at[subjID, 'corrSUB'] >= 0.45 and DF.at[subjID,'corrCA'] >= 0.45 and DF.at[subjID,'corrDG'] >=0.45:\n",
    "        k += 1\n",
    "        DF.at[subjID, 'corr-no'] = 1    \n",
    "    \n",
    "    else:\n",
    "        print(subjID, DF.at[subjID,'corrSUB'], DF.at[subjID,'corrSUB'], DF.at[subjID,'corrSUB'])\n",
    "        DF.at[subjID,'corr-no'] = 0 \n",
    "    \n",
    "    #df.to_excel('../data/tout_group/cortex_corr_indiv.xlsx')"
   ]
  },
  {
   "cell_type": "code",
   "execution_count": 76,
   "metadata": {},
   "outputs": [],
   "source": [
    "m = 0    \n",
    "y = 0\n",
    "h = 0\n",
    "k = 0\n",
    "\n",
    "for subjS900 in DF_pnas.index:\n",
    "    if pd.isnull(DF.at[subjS900, 'HCP-issues']):\n",
    "        y += 1\n",
    "\n",
    "        if DF.at[subjS900, '4scans'] == 1:\n",
    "            m += 1\n",
    "\n",
    "            if DF.at[subjS900, 'pnas'] > 0  or DF.at[subjS900, 't1-t2-man-viz'] == 1: \n",
    "                h += 1\n",
    "                \n",
    "                if DF.at[subjS900, 'corr-no'] == 1: \n",
    "                    k += 1\n",
    "                    \n",
    "                    DF.at[subjS900, 'INCLUSION'] = 1\n",
    "                \n"
   ]
  },
  {
   "cell_type": "code",
   "execution_count": 52,
   "metadata": {},
   "outputs": [
    {
     "data": {
      "text/plain": [
       "740"
      ]
     },
     "execution_count": 52,
     "metadata": {},
     "output_type": "execute_result"
    }
   ],
   "source": [
    "h"
   ]
  },
  {
   "cell_type": "code",
   "execution_count": 53,
   "metadata": {},
   "outputs": [
    {
     "data": {
      "text/plain": [
       "709"
      ]
     },
     "execution_count": 53,
     "metadata": {},
     "output_type": "execute_result"
    }
   ],
   "source": [
    "k"
   ]
  },
  {
   "cell_type": "markdown",
   "metadata": {},
   "source": [
    "# save out subject ID's passing all of the QC steps"
   ]
  },
  {
   "cell_type": "code",
   "execution_count": 77,
   "metadata": {},
   "outputs": [],
   "source": [
    "# get HCP - S900 subject list        \n",
    "subjlist = '../data/subjectListS900_QC_gr.txt'\n",
    "f = open(subjlist); mylist = f.read().split(\"\\n\"); f.close() \n",
    "subjlist = joinedlist = mylist[:-1]\n",
    "\n"
   ]
  },
  {
   "cell_type": "markdown",
   "metadata": {},
   "source": [
    "### plot individual correlations for n=740 subjects"
   ]
  },
  {
   "cell_type": "code",
   "execution_count": 54,
   "metadata": {},
   "outputs": [
    {
     "name": "stdout",
     "output_type": "stream",
     "text": [
      "0 corrSUB\n",
      "1 corrCA\n",
      "2 corrDG\n"
     ]
    },
    {
     "data": {
      "image/png": "[encoded data removed]",
      "text/plain": [
       "<Figure size 1440x720 with 1 Axes>"
      ]
     },
     "metadata": {
      "needs_background": "light"
     },
     "output_type": "display_data"
    }
   ],
   "source": [
    "\n",
    "\n",
    "sns.set_context(\"talk\", font_scale=1.1)\n",
    "\n",
    "\n",
    "colstoplot = ['corrSUB', 'corrCA', 'corrDG']\n",
    "\n",
    "ax = DF.boxplot(column=colstoplot,                        \n",
    "                figsize=(20,10),\n",
    "                color=dict(boxes='k', whiskers='k', medians='k', caps='k'),\n",
    "                fontsize=40, \n",
    "                boxprops=dict(linestyle='-', linewidth=2),\n",
    "                flierprops=dict(linestyle='-', linewidth=2),\n",
    "                medianprops=dict(linestyle='-', linewidth=2),\n",
    "                whiskerprops=dict(linestyle='-', linewidth=2),\n",
    "                capprops=dict(linestyle='-', linewidth=2),\n",
    "                widths=(0.75, 0.75, 0.75),\n",
    "               showfliers=False)\n",
    "\n",
    "ax.set_title(\"individual FC correlations with the mean FC\", fontsize=40)\n",
    "\n",
    "for i,d in enumerate(colstoplot):\n",
    "    print(i, d)\n",
    "    y = DF[d]\n",
    "    x = np.random.normal(i+1, 0.04, len(y))\n",
    "    plt.plot(x, y, \n",
    "             marker=\"o\", linestyle=\"None\", alpha=0.6)\n",
    "\n",
    "#plt.savefig('../figures/individual_correlations.png', dpi=300)\n"
   ]
  },
  {
   "cell_type": "markdown",
   "metadata": {},
   "source": [
    "### plot correlations only for SUB"
   ]
  },
  {
   "cell_type": "code",
   "execution_count": 56,
   "metadata": {},
   "outputs": [
    {
     "data": {
      "image/png": "[encoded data removed]",
      "text/plain": [
       "<Figure size 432x288 with 1 Axes>"
      ]
     },
     "metadata": {
      "needs_background": "light"
     },
     "output_type": "display_data"
    }
   ],
   "source": [
    "sns.set_context(\"talk\", font_scale=1.1)\n",
    "ax = sns.distplot(DF['corrSUB'], \n",
    "                  hist_kws=dict(edgecolor=\"k\", linewidth=1),\n",
    "                  color='k')\n",
    "sns.despine()\n",
    "ax.set(xlim=(0,1))\n",
    "ax.set(ylabel='Frequency')\n",
    "ax.set(xlabel='Similarity to Group-Level FC (r)')\n",
    "plt.axvline(0.45, 0, 5)\n",
    "ax.set(ylim=(0,5))\n",
    "plt.tight_layout()\n",
    "#plt.savefig('../figures/qc_corr_sub.png',\n",
    "#            dpi=300)"
   ]
  },
  {
   "cell_type": "markdown",
   "metadata": {},
   "source": [
    "### plot correlations only for CA"
   ]
  },
  {
   "cell_type": "code",
   "execution_count": 59,
   "metadata": {},
   "outputs": [
    {
     "data": {
      "image/png": "[encoded data removed]",
      "text/plain": [
       "<Figure size 432x288 with 1 Axes>"
      ]
     },
     "metadata": {
      "needs_background": "light"
     },
     "output_type": "display_data"
    }
   ],
   "source": [
    "sns.set_context(\"talk\", font_scale=1.1)\n",
    "ax = sns.distplot(DF['corrCA'], \n",
    "                  hist_kws=dict(edgecolor=\"k\", linewidth=1),\n",
    "                  color='k')\n",
    "sns.despine()\n",
    "ax.set(xlim=(0,1))\n",
    "ax.set(ylim=(0,5))\n",
    "ax.set(ylabel='Frequency')\n",
    "ax.set(xlabel='Similarity to Group-Level FC (r)')\n",
    "plt.axvline(0.45, 0, 5)\n",
    "plt.tight_layout()\n",
    "#plt.savefig('../figures/qc_corr_ca.png',\n",
    "#dpi=300)"
   ]
  },
  {
   "cell_type": "markdown",
   "metadata": {},
   "source": [
    "### plot correlations only for DG"
   ]
  },
  {
   "cell_type": "code",
   "execution_count": 61,
   "metadata": {},
   "outputs": [
    {
     "data": {
      "image/png": "[encoded data removed]",
      "text/plain": [
       "<Figure size 432x288 with 1 Axes>"
      ]
     },
     "metadata": {
      "needs_background": "light"
     },
     "output_type": "display_data"
    }
   ],
   "source": [
    "sns.set_context(\"talk\", font_scale=1.1)\n",
    "ax = sns.distplot(DF['corrDG'], \n",
    "                  hist_kws=dict(edgecolor=\"k\", linewidth=1),\n",
    "                  color='k')\n",
    "sns.despine()\n",
    "ax.set(xlim=(0,1))\n",
    "ax.set(ylim=(0,5))\n",
    "ax.set(ylabel='Frequency')\n",
    "ax.set(xlabel='Similarity to Group-Level FC (r)')\n",
    "plt.axvline(0.45, 0, 5)\n",
    "plt.tight_layout()\n",
    "#plt.savefig('../hippocampus/figures/qc_corr_dg.png',dpi=300)"
   ]
  },
  {
   "cell_type": "code",
   "execution_count": null,
   "metadata": {},
   "outputs": [],
   "source": []
  },
  {
   "cell_type": "code",
   "execution_count": null,
   "metadata": {},
   "outputs": [],
   "source": []
  },
  {
   "cell_type": "code",
   "execution_count": 68,
   "metadata": {},
   "outputs": [
    {
     "data": {
      "text/plain": [
       "(0.7535437658284636, 0.5339926400963128)"
      ]
     },
     "execution_count": 68,
     "metadata": {},
     "output_type": "execute_result"
    }
   ],
   "source": [
    "DF['corrSUB'].mean(), DF['corrSUB'].mean() - 2.5 * DF['corrSUB'].std()"
   ]
  },
  {
   "cell_type": "code",
   "execution_count": 69,
   "metadata": {},
   "outputs": [
    {
     "data": {
      "text/plain": [
       "(0.7234251286665159, 0.46755916163952)"
      ]
     },
     "execution_count": 69,
     "metadata": {},
     "output_type": "execute_result"
    }
   ],
   "source": [
    "DF['corrCA'].mean(), DF['corrCA'].mean() - 2.5 * DF['corrCA'].std()"
   ]
  },
  {
   "cell_type": "code",
   "execution_count": 70,
   "metadata": {},
   "outputs": [
    {
     "data": {
      "text/plain": [
       "(0.6964798019368342, 0.42801988425049764)"
      ]
     },
     "execution_count": 70,
     "metadata": {},
     "output_type": "execute_result"
    }
   ],
   "source": [
    "DF['corrDG'].mean(), DF['corrDG'].mean() - 2.5 * DF['corrDG'].std()"
   ]
  },
  {
   "cell_type": "code",
   "execution_count": null,
   "metadata": {},
   "outputs": [],
   "source": []
  },
  {
   "cell_type": "markdown",
   "metadata": {},
   "source": [
    "# add HCP demographics to the DF\n"
   ]
  },
  {
   "cell_type": "code",
   "execution_count": 96,
   "metadata": {},
   "outputs": [
    {
     "data": {
      "text/plain": [
       "1113"
      ]
     },
     "execution_count": 96,
     "metadata": {},
     "output_type": "execute_result"
    }
   ],
   "source": [
    "subjlist = '../data/subjectList1200.txt'\n",
    "f = open(subjlist); mylist = f.read().split(\"\\n\"); f.close() \n",
    "subjlist = joinedlist = mylist[:-1]\n",
    "len(subjlist)"
   ]
  },
  {
   "cell_type": "code",
   "execution_count": 97,
   "metadata": {},
   "outputs": [],
   "source": [
    "HCP_u = pd.read_csv('../data/HCP_solar/HCP_s1200_unrestricted.csv', \n",
    "                    index_col = 0)\n",
    "\n",
    "HCP_u.index = HCP_u.index.map(str)\n",
    "\n",
    "HCP_r = pd.read_csv('../data/HCP_solar/HCP_s1200_restricted.csv', \n",
    "                    index_col = 0)\n",
    "\n",
    "HCP_r.index = HCP_r.index.map(str)"
   ]
  },
  {
   "cell_type": "code",
   "execution_count": 104,
   "metadata": {},
   "outputs": [],
   "source": [
    "DF['sex'] = DF['sex'].astype(str)\n",
    "DF['ZygositySR'] = DF['ZygositySR'].astype(str)"
   ]
  },
  {
   "cell_type": "code",
   "execution_count": 105,
   "metadata": {
    "scrolled": true
   },
   "outputs": [],
   "source": [
    "female = 0\n",
    "MZ = 0\n",
    "NotMZ = 0\n",
    "NotTwin = 0\n",
    "\n",
    "for subjID in subjlist:\n",
    "    \n",
    "    iA = HCP_r.index.get_loc(subjID)\n",
    "    iB = HCP_u.index.get_loc(subjID)\n",
    "    iC = DF.index.get_loc(subjID)\n",
    "\n",
    "    DF.at[subjID, 'age'] = HCP_r.iloc[iA]['Age_in_Yrs']\n",
    "    DF.at[subjID, 'sex'] = HCP_u.iloc[iB]['Gender']\n",
    "    DF.at[subjID, 'ZygositySR'] = HCP_r.iloc[iA]['ZygositySR']\n",
    "    \n",
    "   \n",
    "    if check.at[subjID, 'sex'] == 'F':\n",
    "        female += 1\n",
    "    if check.at[subjID, 'ZygositySR'] == 'MZ':\n",
    "        MZ += 1\n",
    "    if check.at[subjID, 'ZygositySR'] == 'NotMZ':\n",
    "        NotMZ += 1\n",
    "    if check.at[subjID, 'ZygositySR'] == 'NotTwin':\n",
    "        NotTwin += 1\n",
    "\n"
   ]
  },
  {
   "cell_type": "markdown",
   "metadata": {},
   "source": [
    "### mean and std of AGE of subjects included in study"
   ]
  },
  {
   "cell_type": "code",
   "execution_count": 120,
   "metadata": {},
   "outputs": [
    {
     "data": {
      "text/plain": [
       "(28.708039492242595, 3.7224627681932634)"
      ]
     },
     "execution_count": 120,
     "metadata": {},
     "output_type": "execute_result"
    }
   ],
   "source": [
    "DF[DF['INCLUSION'] == 1]['age'].mean(), DF[DF['INCLUSION'] == 1]['age'].std()"
   ]
  },
  {
   "cell_type": "markdown",
   "metadata": {},
   "source": [
    "### number of females included"
   ]
  },
  {
   "cell_type": "code",
   "execution_count": 125,
   "metadata": {},
   "outputs": [
    {
     "data": {
      "text/plain": [
       "395"
      ]
     },
     "execution_count": 125,
     "metadata": {},
     "output_type": "execute_result"
    }
   ],
   "source": [
    "len(DF[(DF.INCLUSION == 1) & (DF.sex == 'F')])"
   ]
  },
  {
   "cell_type": "markdown",
   "metadata": {},
   "source": [
    "### twin status of subjects included"
   ]
  },
  {
   "cell_type": "code",
   "execution_count": 128,
   "metadata": {},
   "outputs": [],
   "source": [
    "MZ = len(DF[(DF.INCLUSION == 1) & (DF.ZygositySR == 'MZ')])\n",
    "\n",
    "NotMZ = len(DF[(DF.INCLUSION == 1) & (DF.ZygositySR == 'NotMZ')])\n",
    "\n",
    "NotTwin = len(DF[(DF.INCLUSION == 1) & (DF.ZygositySR == 'NotTwin')])\n",
    "\n"
   ]
  },
  {
   "cell_type": "code",
   "execution_count": 129,
   "metadata": {},
   "outputs": [
    {
     "data": {
      "text/plain": [
       "(176, 178, 354)"
      ]
     },
     "execution_count": 129,
     "metadata": {},
     "output_type": "execute_result"
    }
   ],
   "source": [
    "MZ, NotMZ, NotTwin"
   ]
  },
  {
   "cell_type": "code",
   "execution_count": 130,
   "metadata": {},
   "outputs": [
    {
     "data": {
      "text/plain": [
       "708"
      ]
     },
     "execution_count": 130,
     "metadata": {},
     "output_type": "execute_result"
    }
   ],
   "source": [
    "MZ + NotMZ + NotTwin"
   ]
  },
  {
   "cell_type": "code",
   "execution_count": 131,
   "metadata": {},
   "outputs": [],
   "source": [
    "DF.to_excel('../data/qualityControl_Bayrak.xlsx')"
   ]
  },
  {
   "cell_type": "code",
   "execution_count": null,
   "metadata": {},
   "outputs": [],
   "source": []
  },
  {
   "cell_type": "code",
   "execution_count": 132,
   "metadata": {},
   "outputs": [
    {
     "data": {
      "text/plain": [
       "189"
      ]
     },
     "execution_count": 132,
     "metadata": {},
     "output_type": "execute_result"
    }
   ],
   "source": [
    "47 + 69 + 42 + 31"
   ]
  },
  {
   "cell_type": "code",
   "execution_count": 133,
   "metadata": {},
   "outputs": [
    {
     "data": {
      "text/plain": [
       "709"
      ]
     },
     "execution_count": 133,
     "metadata": {},
     "output_type": "execute_result"
    }
   ],
   "source": [
    "898 - 189"
   ]
  },
  {
   "cell_type": "code",
   "execution_count": null,
   "metadata": {},
   "outputs": [],
   "source": []
  },
  {
   "cell_type": "code",
   "execution_count": null,
   "metadata": {},
   "outputs": [],
   "source": []
  },
  {
   "cell_type": "code",
   "execution_count": 149,
   "metadata": {},
   "outputs": [],
   "source": [
    "m = 0    \n",
    "y = 0\n",
    "h = 0\n",
    "k = 0\n",
    "\n",
    "for subjS900 in DF_pnas.index:\n",
    "    if pd.isnull(DF.at[subjS900, 'HCP-issues']):\n",
    "        y += 1\n",
    "\n",
    "        if DF.at[subjS900, '4scans'] == 1:\n",
    "            m += 1\n",
    "\n",
    "            if DF.at[subjS900, 'pnas'] > 0  or DF.at[subjS900, 't1-t2-man-viz'] == 1: \n",
    "                h += 1\n",
    "                \n",
    "                    "
   ]
  },
  {
   "cell_type": "code",
   "execution_count": 146,
   "metadata": {},
   "outputs": [
    {
     "data": {
      "text/plain": [
       "851"
      ]
     },
     "execution_count": 146,
     "metadata": {},
     "output_type": "execute_result"
    }
   ],
   "source": [
    "y"
   ]
  },
  {
   "cell_type": "code",
   "execution_count": 147,
   "metadata": {},
   "outputs": [
    {
     "data": {
      "text/plain": [
       "782"
      ]
     },
     "execution_count": 147,
     "metadata": {},
     "output_type": "execute_result"
    }
   ],
   "source": [
    "m"
   ]
  },
  {
   "cell_type": "code",
   "execution_count": 148,
   "metadata": {},
   "outputs": [
    {
     "data": {
      "text/plain": [
       "406"
      ]
     },
     "execution_count": 148,
     "metadata": {},
     "output_type": "execute_result"
    }
   ],
   "source": [
    "h"
   ]
  },
  {
   "cell_type": "code",
   "execution_count": 150,
   "metadata": {},
   "outputs": [
    {
     "data": {
      "text/plain": [
       "740"
      ]
     },
     "execution_count": 150,
     "metadata": {},
     "output_type": "execute_result"
    }
   ],
   "source": [
    "h"
   ]
  },
  {
   "cell_type": "code",
   "execution_count": 151,
   "metadata": {},
   "outputs": [
    {
     "data": {
      "text/plain": [
       "280"
      ]
     },
     "execution_count": 151,
     "metadata": {},
     "output_type": "execute_result"
    }
   ],
   "source": [
    "740 - 460"
   ]
  },
  {
   "cell_type": "code",
   "execution_count": 155,
   "metadata": {},
   "outputs": [
    {
     "data": {
      "text/plain": [
       "Subjects\n",
       "100206    True\n",
       "100307    True\n",
       "100408    True\n",
       "100610    True\n",
       "101006    True\n",
       "          ... \n",
       "992673    True\n",
       "992774    True\n",
       "993675    True\n",
       "994273    True\n",
       "996782    True\n",
       "Name: Grade, Length: 898, dtype: bool"
      ]
     },
     "execution_count": 155,
     "metadata": {},
     "output_type": "execute_result"
    }
   ],
   "source": [
    "DF_pnas['Grade'] != np.NaN"
   ]
  },
  {
   "cell_type": "code",
   "execution_count": 158,
   "metadata": {},
   "outputs": [
    {
     "data": {
      "text/html": [
       "<div>\n",
       "<style scoped>\n",
       "    .dataframe tbody tr th:only-of-type {\n",
       "        vertical-align: middle;\n",
       "    }\n",
       "\n",
       "    .dataframe tbody tr th {\n",
       "        vertical-align: top;\n",
       "    }\n",
       "\n",
       "    .dataframe thead th {\n",
       "        text-align: right;\n",
       "    }\n",
       "</style>\n",
       "<table border=\"1\" class=\"dataframe\">\n",
       "  <thead>\n",
       "    <tr style=\"text-align: right;\">\n",
       "      <th></th>\n",
       "      <th>Comments</th>\n",
       "      <th>Grade</th>\n",
       "      <th>Inclusion</th>\n",
       "      <th>Recheck</th>\n",
       "    </tr>\n",
       "    <tr>\n",
       "      <th>Subjects</th>\n",
       "      <th></th>\n",
       "      <th></th>\n",
       "      <th></th>\n",
       "      <th></th>\n",
       "    </tr>\n",
       "  </thead>\n",
       "  <tbody>\n",
       "    <tr>\n",
       "      <th>100408</th>\n",
       "      <td>NaN</td>\n",
       "      <td>2.0</td>\n",
       "      <td>1</td>\n",
       "      <td>0</td>\n",
       "    </tr>\n",
       "    <tr>\n",
       "      <th>100610</th>\n",
       "      <td>NaN</td>\n",
       "      <td>3.0</td>\n",
       "      <td>1</td>\n",
       "      <td>0</td>\n",
       "    </tr>\n",
       "    <tr>\n",
       "      <th>101006</th>\n",
       "      <td>NaN</td>\n",
       "      <td>3.0</td>\n",
       "      <td>1</td>\n",
       "      <td>0</td>\n",
       "    </tr>\n",
       "    <tr>\n",
       "      <th>102513</th>\n",
       "      <td>NaN</td>\n",
       "      <td>3.0</td>\n",
       "      <td>1</td>\n",
       "      <td>0</td>\n",
       "    </tr>\n",
       "    <tr>\n",
       "      <th>102816</th>\n",
       "      <td>NaN</td>\n",
       "      <td>3.0</td>\n",
       "      <td>1</td>\n",
       "      <td>0</td>\n",
       "    </tr>\n",
       "    <tr>\n",
       "      <th>...</th>\n",
       "      <td>...</td>\n",
       "      <td>...</td>\n",
       "      <td>...</td>\n",
       "      <td>...</td>\n",
       "    </tr>\n",
       "    <tr>\n",
       "      <th>958976</th>\n",
       "      <td>NaN</td>\n",
       "      <td>2.0</td>\n",
       "      <td>1</td>\n",
       "      <td>0</td>\n",
       "    </tr>\n",
       "    <tr>\n",
       "      <th>966975</th>\n",
       "      <td>NaN</td>\n",
       "      <td>3.0</td>\n",
       "      <td>1</td>\n",
       "      <td>0</td>\n",
       "    </tr>\n",
       "    <tr>\n",
       "      <th>987983</th>\n",
       "      <td>NaN</td>\n",
       "      <td>3.0</td>\n",
       "      <td>1</td>\n",
       "      <td>0</td>\n",
       "    </tr>\n",
       "    <tr>\n",
       "      <th>992673</th>\n",
       "      <td>NaN</td>\n",
       "      <td>-1.0</td>\n",
       "      <td>0</td>\n",
       "      <td>0</td>\n",
       "    </tr>\n",
       "    <tr>\n",
       "      <th>993675</th>\n",
       "      <td>NaN</td>\n",
       "      <td>2.0</td>\n",
       "      <td>1</td>\n",
       "      <td>0</td>\n",
       "    </tr>\n",
       "  </tbody>\n",
       "</table>\n",
       "<p>399 rows × 4 columns</p>\n",
       "</div>"
      ],
      "text/plain": [
       "         Comments  Grade  Inclusion  Recheck\n",
       "Subjects                                    \n",
       "100408        NaN    2.0          1        0\n",
       "100610        NaN    3.0          1        0\n",
       "101006        NaN    3.0          1        0\n",
       "102513        NaN    3.0          1        0\n",
       "102816        NaN    3.0          1        0\n",
       "...           ...    ...        ...      ...\n",
       "958976        NaN    2.0          1        0\n",
       "966975        NaN    3.0          1        0\n",
       "987983        NaN    3.0          1        0\n",
       "992673        NaN   -1.0          0        0\n",
       "993675        NaN    2.0          1        0\n",
       "\n",
       "[399 rows x 4 columns]"
      ]
     },
     "execution_count": 158,
     "metadata": {},
     "output_type": "execute_result"
    }
   ],
   "source": [
    "DF_pnas[~DF_pnas['Grade'].isnull()]"
   ]
  },
  {
   "cell_type": "code",
   "execution_count": 159,
   "metadata": {},
   "outputs": [
    {
     "data": {
      "text/plain": [
       "499"
      ]
     },
     "execution_count": 159,
     "metadata": {},
     "output_type": "execute_result"
    }
   ],
   "source": [
    "898 - 399"
   ]
  },
  {
   "cell_type": "code",
   "execution_count": null,
   "metadata": {},
   "outputs": [],
   "source": []
  }
 ],
 "metadata": {
  "kernelspec": {
   "display_name": "Python [conda env:hippoc] *",
   "language": "python",
   "name": "conda-env-hippoc-py"
  },
  "language_info": {
   "codemirror_mode": {
    "name": "ipython",
    "version": 3
   },
   "file_extension": ".py",
   "mimetype": "text/x-python",
   "name": "python",
   "nbconvert_exporter": "python",
   "pygments_lexer": "ipython3",
   "version": "3.7.12"
  }
 },
 "nbformat": 4,
 "nbformat_minor": 4
}
