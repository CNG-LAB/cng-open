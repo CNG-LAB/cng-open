{
 "cells": [
  {
   "cell_type": "code",
   "execution_count": 1,
   "metadata": {},
   "outputs": [],
   "source": [
    "import os\n",
    "import h5py\n",
    "import numpy as np\n",
    "import pandas as pd\n",
    "from scipy.io import loadmat\n",
    "from scipy.stats import pearsonr\n",
    "import nibabel as nb\n",
    "import seaborn as sns"
   ]
  },
  {
   "cell_type": "markdown",
   "metadata": {},
   "source": [
    "### get subject id's"
   ]
  },
  {
   "cell_type": "code",
   "execution_count": 2,
   "metadata": {},
   "outputs": [
    {
     "name": "stdout",
     "output_type": "stream",
     "text": [
      "709\n"
     ]
    }
   ],
   "source": [
    "# get HCP - S900 subject list        \n",
    "subjlist = '../data/subjectListS900_QC_gr.txt'\n",
    "f = open(subjlist); mylist = f.read().split(\"\\n\"); f.close() \n",
    "subjlist = joinedlist = mylist[:-1]\n",
    "\n",
    "len(subjlist)\n",
    "\n",
    "mysubjects = []\n",
    "\n",
    "for subj in subjlist:\n",
    "    mysubjects.append(subj)\n",
    "print(len(mysubjects))\n"
   ]
  },
  {
   "cell_type": "markdown",
   "metadata": {},
   "source": [
    "# prepare for solar, t1w-t2w ratios"
   ]
  },
  {
   "cell_type": "markdown",
   "metadata": {},
   "source": [
    "### get the HCP demographics"
   ]
  },
  {
   "cell_type": "code",
   "execution_count": 3,
   "metadata": {},
   "outputs": [],
   "source": [
    "HCP_u = pd.read_csv('../data/HCP_solar/HCP_s1200_unrestricted.csv', \n",
    "                    index_col = 0)\n",
    "\n",
    "HCP_u.index = HCP_u.index.map(str)\n",
    "\n",
    "HCP_r = pd.read_csv('../data/HCP_solar/HCP_s1200_restricted.csv', \n",
    "                    index_col = 0)\n",
    "\n",
    "HCP_r.index = HCP_r.index.map(str)\n"
   ]
  },
  {
   "cell_type": "code",
   "execution_count": 4,
   "metadata": {},
   "outputs": [
    {
     "data": {
      "text/plain": [
       "(1206, 1206)"
      ]
     },
     "execution_count": 4,
     "metadata": {},
     "output_type": "execute_result"
    }
   ],
   "source": [
    "len(HCP_u), len(HCP_r)"
   ]
  },
  {
   "cell_type": "code",
   "execution_count": 5,
   "metadata": {},
   "outputs": [
    {
     "data": {
      "text/plain": [
       "Index(['100004', '100206', '100307', '100408', '100610', '101006', '101107',\n",
       "       '101208', '101309', '101410',\n",
       "       ...\n",
       "       '987983', '989987', '990366', '991267', '992673', '992774', '993675',\n",
       "       '994273', '995174', '996782'],\n",
       "      dtype='object', name='Subject', length=1206)"
      ]
     },
     "execution_count": 5,
     "metadata": {},
     "output_type": "execute_result"
    }
   ],
   "source": [
    "HCP_r.index"
   ]
  },
  {
   "cell_type": "code",
   "execution_count": null,
   "metadata": {},
   "outputs": [],
   "source": []
  },
  {
   "cell_type": "markdown",
   "metadata": {},
   "source": [
    "# combine t1t2-ratios with HCP demogr."
   ]
  },
  {
   "cell_type": "markdown",
   "metadata": {},
   "source": [
    "## Left hemisphere"
   ]
  },
  {
   "cell_type": "markdown",
   "metadata": {},
   "source": [
    "### LSUB"
   ]
  },
  {
   "cell_type": "code",
   "execution_count": 6,
   "metadata": {},
   "outputs": [
    {
     "name": "stdout",
     "output_type": "stream",
     "text": [
      "709\n",
      "1024\n"
     ]
    },
    {
     "data": {
      "text/plain": [
       "('node_1', '....', 'node_1024')"
      ]
     },
     "execution_count": 6,
     "metadata": {},
     "output_type": "execute_result"
    }
   ],
   "source": [
    "mysubjects = []\n",
    "\n",
    "for subj in subjlist:\n",
    "    mysubjects.append(subj)\n",
    "print(len(mysubjects))\n",
    "\n",
    "\n",
    "tot_node_num_lsub = 1024 ## because subiculum has 1024 points \n",
    "node_str = []\n",
    "for i in range(1, tot_node_num_lsub+1):\n",
    "    node_str.append('node_'+ str(i))\n",
    "print(len(node_str))\n",
    "node_str[0], '....', node_str[-1]"
   ]
  },
  {
   "cell_type": "code",
   "execution_count": 7,
   "metadata": {},
   "outputs": [],
   "source": [
    "mycols = ['age', 'sex'] + node_str "
   ]
  },
  {
   "cell_type": "code",
   "execution_count": 8,
   "metadata": {},
   "outputs": [],
   "source": [
    "df = pd.DataFrame(index = mysubjects,\n",
    "                 columns = mycols)\n",
    "df.index.name = 'id'"
   ]
  },
  {
   "cell_type": "code",
   "execution_count": 9,
   "metadata": {},
   "outputs": [],
   "source": [
    "ddir = '../data/tout_T1wT2w_msm50/'\n",
    "\n",
    "for subjID in mysubjects:\n",
    "    \n",
    "    iA = HCP_r.index.get_loc(subjID)\n",
    "    iB = HCP_u.index.get_loc(subjID)\n",
    "    iC = df.index.get_loc(subjID)\n",
    "\n",
    "    df.iloc[iC]['age'] = HCP_r.iloc[iA]['Age_in_Yrs']\n",
    "    df.iloc[iC]['sex'] = HCP_u.iloc[iB]['Gender']\n",
    "\n",
    "    vol2hipp  = os.path.join(ddir, 'HCP_%s_t1t2_sub_left.h5' % (subjID))\n",
    "\n",
    "    h  = h5py.File(vol2hipp, 'r')\n",
    "    \n",
    "    df.iloc[iC][node_str] = np.array(h[subjID])\n"
   ]
  },
  {
   "cell_type": "code",
   "execution_count": 10,
   "metadata": {},
   "outputs": [
    {
     "name": "stdout",
     "output_type": "stream",
     "text": [
      "709\n"
     ]
    }
   ],
   "source": [
    "df = df.dropna()\n",
    "print(len(df))\n",
    "#df.to_csv('../solar/solar_msm50_t1t2_lsub/t1t2_lsub.csv')"
   ]
  },
  {
   "cell_type": "markdown",
   "metadata": {},
   "source": [
    "### LCA"
   ]
  },
  {
   "cell_type": "code",
   "execution_count": 11,
   "metadata": {},
   "outputs": [
    {
     "name": "stdout",
     "output_type": "stream",
     "text": [
      "709\n",
      "2048\n"
     ]
    }
   ],
   "source": [
    "mysubjects = []\n",
    "\n",
    "for subj in subjlist:\n",
    "    mysubjects.append(subj)\n",
    "print(len(mysubjects))\n",
    "\n",
    "\n",
    "tot_node_num_lsub = 2048 ## because CA has 2048 points \n",
    "node_str = []\n",
    "for i in range(1, tot_node_num_lsub+1):\n",
    "    node_str.append('node_'+ str(i))\n",
    "print(len(node_str))\n",
    "node_str[0], '....', node_str[-1]\n",
    "\n",
    "mycols = ['age', 'sex'] + node_str \n",
    "\n",
    "df = pd.DataFrame(index = mysubjects,\n",
    "                 columns = mycols)\n",
    "df.index.name = 'id'"
   ]
  },
  {
   "cell_type": "code",
   "execution_count": 12,
   "metadata": {},
   "outputs": [],
   "source": [
    "ddir = '../data/tout_T1wT2w_msm50/'\n",
    "\n",
    "for subjID in mysubjects:\n",
    "    \n",
    "    iA = HCP_r.index.get_loc(subjID)\n",
    "    iB = HCP_u.index.get_loc(subjID)\n",
    "    iC = df.index.get_loc(subjID)\n",
    "\n",
    "    df.iloc[iC]['age'] = HCP_r.iloc[iA]['Age_in_Yrs']\n",
    "    df.iloc[iC]['sex'] = HCP_u.iloc[iB]['Gender']\n",
    "\n",
    "    vol2hipp  = os.path.join(ddir, 'HCP_%s_t1t2_ca_left.h5' % (subjID))\n",
    "\n",
    "    h  = h5py.File(vol2hipp, 'r')\n",
    "    \n",
    "    df.iloc[iC][node_str] = np.array(h[subjID])\n"
   ]
  },
  {
   "cell_type": "code",
   "execution_count": 13,
   "metadata": {},
   "outputs": [
    {
     "name": "stdout",
     "output_type": "stream",
     "text": [
      "709\n"
     ]
    }
   ],
   "source": [
    "df = df.dropna()\n",
    "print(len(df))\n",
    "#df.to_csv('../solar/solar_msm50_t1t2_lca/t1t2_lca.csv')"
   ]
  },
  {
   "cell_type": "markdown",
   "metadata": {},
   "source": [
    "### LDG"
   ]
  },
  {
   "cell_type": "code",
   "execution_count": 14,
   "metadata": {},
   "outputs": [
    {
     "name": "stdout",
     "output_type": "stream",
     "text": [
      "709\n",
      "1024\n"
     ]
    }
   ],
   "source": [
    "mysubjects = []\n",
    "\n",
    "for subj in subjlist:\n",
    "    mysubjects.append(subj)\n",
    "print(len(mysubjects))\n",
    "\n",
    "\n",
    "tot_node_num_lsub = 1024 ## because CA has 2048 points \n",
    "node_str = []\n",
    "for i in range(1, tot_node_num_lsub+1):\n",
    "    node_str.append('node_'+ str(i))\n",
    "print(len(node_str))\n",
    "node_str[0], '....', node_str[-1]\n",
    "\n",
    "mycols = ['age', 'sex'] + node_str \n",
    "\n",
    "df = pd.DataFrame(index = mysubjects,\n",
    "                 columns = mycols)\n",
    "df.index.name = 'id'"
   ]
  },
  {
   "cell_type": "code",
   "execution_count": 15,
   "metadata": {},
   "outputs": [],
   "source": [
    "ddir = '../data/tout_T1wT2w_msm50/'\n",
    "\n",
    "for subjID in mysubjects:\n",
    "    \n",
    "    iA = HCP_r.index.get_loc(subjID)\n",
    "    iB = HCP_u.index.get_loc(subjID)\n",
    "    iC = df.index.get_loc(subjID)\n",
    "\n",
    "    df.iloc[iC]['age'] = HCP_r.iloc[iA]['Age_in_Yrs']\n",
    "    df.iloc[iC]['sex'] = HCP_u.iloc[iB]['Gender']\n",
    "\n",
    "    vol2hipp  = os.path.join(ddir, 'HCP_%s_t1t2_dg_left.h5' % (subjID))\n",
    "\n",
    "    h  = h5py.File(vol2hipp, 'r')\n",
    "    \n",
    "    df.iloc[iC][node_str] = np.array(h[subjID])\n"
   ]
  },
  {
   "cell_type": "code",
   "execution_count": 16,
   "metadata": {},
   "outputs": [
    {
     "name": "stdout",
     "output_type": "stream",
     "text": [
      "709\n"
     ]
    }
   ],
   "source": [
    "df = df.dropna()\n",
    "print(len(df))\n",
    "#df.to_csv('../solar/solar_msm50_t1t2_ldg/t1t2_ldg.csv')"
   ]
  },
  {
   "cell_type": "markdown",
   "metadata": {},
   "source": [
    "## Right Hemisphere"
   ]
  },
  {
   "cell_type": "markdown",
   "metadata": {},
   "source": [
    "### RSUB"
   ]
  },
  {
   "cell_type": "code",
   "execution_count": 17,
   "metadata": {},
   "outputs": [
    {
     "name": "stdout",
     "output_type": "stream",
     "text": [
      "709\n",
      "1024\n"
     ]
    }
   ],
   "source": [
    "mysubjects = []\n",
    "\n",
    "for subj in subjlist:\n",
    "    mysubjects.append(subj)\n",
    "print(len(mysubjects))\n",
    "\n",
    "\n",
    "tot_node_num_lsub = 1024 \n",
    "node_str = []\n",
    "for i in range(1, tot_node_num_lsub+1):\n",
    "    node_str.append('node_'+ str(i))\n",
    "print(len(node_str))\n",
    "node_str[0], '....', node_str[-1]\n",
    "\n",
    "mycols = ['age', 'sex'] + node_str \n",
    "\n",
    "df = pd.DataFrame(index = mysubjects,\n",
    "                 columns = mycols)\n",
    "df.index.name = 'id'"
   ]
  },
  {
   "cell_type": "code",
   "execution_count": 18,
   "metadata": {},
   "outputs": [],
   "source": [
    "ddir = '../data/tout_T1wT2w_msm50/'\n",
    "\n",
    "for subjID in mysubjects:\n",
    "    \n",
    "    iA = HCP_r.index.get_loc(subjID)\n",
    "    iB = HCP_u.index.get_loc(subjID)\n",
    "    iC = df.index.get_loc(subjID)\n",
    "\n",
    "    df.iloc[iC]['age'] = HCP_r.iloc[iA]['Age_in_Yrs']\n",
    "    df.iloc[iC]['sex'] = HCP_u.iloc[iB]['Gender']\n",
    "\n",
    "    vol2hipp  = os.path.join(ddir, 'HCP_%s_t1t2_sub_right.h5' % (subjID))\n",
    "\n",
    "    h  = h5py.File(vol2hipp, 'r')\n",
    "    \n",
    "    df.iloc[iC][node_str] = np.array(h[subjID])\n"
   ]
  },
  {
   "cell_type": "code",
   "execution_count": 19,
   "metadata": {},
   "outputs": [
    {
     "name": "stdout",
     "output_type": "stream",
     "text": [
      "709\n"
     ]
    }
   ],
   "source": [
    "df = df.dropna()\n",
    "print(len(df))\n",
    "#df.to_csv('../solar/solar_msm50_t1t2_rsub/t1t2_rsub.csv')"
   ]
  },
  {
   "cell_type": "markdown",
   "metadata": {},
   "source": [
    "### RCA"
   ]
  },
  {
   "cell_type": "code",
   "execution_count": 20,
   "metadata": {},
   "outputs": [
    {
     "name": "stdout",
     "output_type": "stream",
     "text": [
      "709\n",
      "2048\n"
     ]
    }
   ],
   "source": [
    "mysubjects = []\n",
    "\n",
    "for subj in subjlist:\n",
    "    mysubjects.append(subj)\n",
    "print(len(mysubjects))\n",
    "\n",
    "\n",
    "tot_node_num_lsub = 2048\n",
    "node_str = []\n",
    "for i in range(1, tot_node_num_lsub+1):\n",
    "    node_str.append('node_'+ str(i))\n",
    "print(len(node_str))\n",
    "node_str[0], '....', node_str[-1]\n",
    "\n",
    "mycols = ['age', 'sex'] + node_str \n",
    "\n",
    "df = pd.DataFrame(index = mysubjects,\n",
    "                 columns = mycols)\n",
    "df.index.name = 'id'"
   ]
  },
  {
   "cell_type": "code",
   "execution_count": 21,
   "metadata": {},
   "outputs": [],
   "source": [
    "ddir = '../data/tout_T1wT2w_msm50/'\n",
    "\n",
    "for subjID in mysubjects:\n",
    "    \n",
    "    iA = HCP_r.index.get_loc(subjID)\n",
    "    iB = HCP_u.index.get_loc(subjID)\n",
    "    iC = df.index.get_loc(subjID)\n",
    "\n",
    "    df.iloc[iC]['age'] = HCP_r.iloc[iA]['Age_in_Yrs']\n",
    "    df.iloc[iC]['sex'] = HCP_u.iloc[iB]['Gender']\n",
    "\n",
    "    vol2hipp  = os.path.join(ddir, 'HCP_%s_t1t2_ca_right.h5' % (subjID))\n",
    "\n",
    "    h  = h5py.File(vol2hipp, 'r')\n",
    "    \n",
    "    df.iloc[iC][node_str] = np.array(h[subjID])\n"
   ]
  },
  {
   "cell_type": "code",
   "execution_count": 22,
   "metadata": {},
   "outputs": [
    {
     "name": "stdout",
     "output_type": "stream",
     "text": [
      "709\n"
     ]
    }
   ],
   "source": [
    "df = df.dropna()\n",
    "print(len(df))\n",
    "#df.to_csv('../solar/solar_msm50_t1t2_rca/t1t2_rca.csv')"
   ]
  },
  {
   "cell_type": "code",
   "execution_count": null,
   "metadata": {},
   "outputs": [],
   "source": []
  },
  {
   "cell_type": "markdown",
   "metadata": {},
   "source": [
    "### RDG"
   ]
  },
  {
   "cell_type": "code",
   "execution_count": 23,
   "metadata": {},
   "outputs": [
    {
     "name": "stdout",
     "output_type": "stream",
     "text": [
      "709\n",
      "1024\n"
     ]
    }
   ],
   "source": [
    "mysubjects = []\n",
    "\n",
    "for subj in subjlist:\n",
    "    mysubjects.append(subj)\n",
    "print(len(mysubjects))\n",
    "\n",
    "\n",
    "tot_node_num_lsub = 1024 \n",
    "node_str = []\n",
    "for i in range(1, tot_node_num_lsub+1):\n",
    "    node_str.append('node_'+ str(i))\n",
    "print(len(node_str))\n",
    "node_str[0], '....', node_str[-1]\n",
    "\n",
    "mycols = ['age', 'sex'] + node_str \n",
    "\n",
    "df = pd.DataFrame(index = mysubjects,\n",
    "                 columns = mycols)\n",
    "df.index.name = 'id'"
   ]
  },
  {
   "cell_type": "code",
   "execution_count": 24,
   "metadata": {},
   "outputs": [],
   "source": [
    "ddir = '../data/tout_T1wT2w_msm50/'\n",
    "\n",
    "for subjID in mysubjects:\n",
    "    \n",
    "    iA = HCP_r.index.get_loc(subjID)\n",
    "    iB = HCP_u.index.get_loc(subjID)\n",
    "    iC = df.index.get_loc(subjID)\n",
    "\n",
    "    df.iloc[iC]['age'] = HCP_r.iloc[iA]['Age_in_Yrs']\n",
    "    df.iloc[iC]['sex'] = HCP_u.iloc[iB]['Gender']\n",
    "\n",
    "    vol2hipp  = os.path.join(ddir, 'HCP_%s_t1t2_dg_right.h5' % (subjID))\n",
    "\n",
    "    h  = h5py.File(vol2hipp, 'r')\n",
    "    \n",
    "    df.iloc[iC][node_str] = np.array(h[subjID])\n"
   ]
  },
  {
   "cell_type": "code",
   "execution_count": 25,
   "metadata": {},
   "outputs": [
    {
     "name": "stdout",
     "output_type": "stream",
     "text": [
      "709\n"
     ]
    }
   ],
   "source": [
    "df = df.dropna()\n",
    "print(len(df))\n",
    "#df.to_csv('../solar/solar_msm50_t1t2_rdg/t1t2_rdg.csv')"
   ]
  },
  {
   "cell_type": "code",
   "execution_count": null,
   "metadata": {},
   "outputs": [],
   "source": []
  },
  {
   "cell_type": "code",
   "execution_count": null,
   "metadata": {},
   "outputs": [],
   "source": []
  },
  {
   "cell_type": "code",
   "execution_count": null,
   "metadata": {},
   "outputs": [],
   "source": []
  },
  {
   "cell_type": "markdown",
   "metadata": {},
   "source": [
    "# controlling for the mean T1w/T1w..."
   ]
  },
  {
   "cell_type": "markdown",
   "metadata": {},
   "source": [
    "### LSUB"
   ]
  },
  {
   "cell_type": "code",
   "execution_count": 26,
   "metadata": {},
   "outputs": [
    {
     "name": "stdout",
     "output_type": "stream",
     "text": [
      "709\n",
      "1024\n"
     ]
    },
    {
     "data": {
      "text/plain": [
       "('node_1', '....', 'node_1024')"
      ]
     },
     "execution_count": 26,
     "metadata": {},
     "output_type": "execute_result"
    }
   ],
   "source": [
    "mysubjects = []\n",
    "\n",
    "for subj in subjlist:\n",
    "    mysubjects.append(subj)\n",
    "print(len(mysubjects))\n",
    "\n",
    "\n",
    "tot_node_num_lsub = 1024 ## because subiculum has 1024 points \n",
    "node_str = []\n",
    "for i in range(1, tot_node_num_lsub+1):\n",
    "    node_str.append('node_'+ str(i))\n",
    "print(len(node_str))\n",
    "node_str[0], '....', node_str[-1]"
   ]
  },
  {
   "cell_type": "code",
   "execution_count": 27,
   "metadata": {},
   "outputs": [],
   "source": [
    "mycols = ['age', 'sex', 'meanW'] + node_str \n",
    "\n",
    "df = pd.DataFrame(index = mysubjects,\n",
    "                 columns = mycols)\n",
    "df.index.name = 'id'"
   ]
  },
  {
   "cell_type": "code",
   "execution_count": 28,
   "metadata": {},
   "outputs": [],
   "source": [
    "ddir = '../data/tout_T1wT2w_msm50/'\n",
    "\n",
    "for subjID in mysubjects:\n",
    "    \n",
    "    iA = HCP_r.index.get_loc(subjID)\n",
    "    iB = HCP_u.index.get_loc(subjID)\n",
    "    iC = df.index.get_loc(subjID)\n",
    "\n",
    "    df.iloc[iC]['age'] = HCP_r.iloc[iA]['Age_in_Yrs']\n",
    "    df.iloc[iC]['sex'] = HCP_u.iloc[iB]['Gender']\n",
    "\n",
    "    vol2hipp  = os.path.join(ddir, 'HCP_%s_t1t2_sub_left.h5' % (subjID))\n",
    "\n",
    "    h  = h5py.File(vol2hipp, 'r')\n",
    "    \n",
    "    df.iloc[iC][node_str] = np.array(h[subjID])\n",
    "\n",
    "    # meant t1w/t2w ratios    \n",
    "    df.iloc[iC]['meanW'] = df.iloc[iC][node_str].mean()\n",
    "    "
   ]
  },
  {
   "cell_type": "code",
   "execution_count": 29,
   "metadata": {},
   "outputs": [
    {
     "name": "stdout",
     "output_type": "stream",
     "text": [
      "709\n"
     ]
    }
   ],
   "source": [
    "df = df.dropna()\n",
    "print(len(df))\n",
    "#df.to_csv('../solar/solar_mean_msm50_t1t2_lsub/t1t2_lsub.csv')"
   ]
  },
  {
   "cell_type": "markdown",
   "metadata": {},
   "source": [
    "### LCA"
   ]
  },
  {
   "cell_type": "code",
   "execution_count": 30,
   "metadata": {},
   "outputs": [
    {
     "name": "stdout",
     "output_type": "stream",
     "text": [
      "709\n",
      "2048\n"
     ]
    }
   ],
   "source": [
    "mysubjects = []\n",
    "\n",
    "for subj in subjlist:\n",
    "    mysubjects.append(subj)\n",
    "print(len(mysubjects))\n",
    "\n",
    "\n",
    "tot_node_num_lsub = 2048 ## because CA has 2048 points \n",
    "node_str = []\n",
    "for i in range(1, tot_node_num_lsub+1):\n",
    "    node_str.append('node_'+ str(i))\n",
    "print(len(node_str))\n",
    "node_str[0], '....', node_str[-1]\n",
    "\n",
    "mycols = ['age', 'sex', 'meanW'] + node_str \n",
    "\n",
    "df = pd.DataFrame(index = mysubjects,\n",
    "                 columns = mycols)\n",
    "df.index.name = 'id'"
   ]
  },
  {
   "cell_type": "code",
   "execution_count": 31,
   "metadata": {},
   "outputs": [],
   "source": [
    "ddir = '../data/tout_T1wT2w_msm50/'\n",
    "\n",
    "for subjID in mysubjects:\n",
    "    \n",
    "    iA = HCP_r.index.get_loc(subjID)\n",
    "    iB = HCP_u.index.get_loc(subjID)\n",
    "    iC = df.index.get_loc(subjID)\n",
    "\n",
    "    df.iloc[iC]['age'] = HCP_r.iloc[iA]['Age_in_Yrs']\n",
    "    df.iloc[iC]['sex'] = HCP_u.iloc[iB]['Gender']\n",
    "\n",
    "    vol2hipp  = os.path.join(ddir, 'HCP_%s_t1t2_ca_left.h5' % (subjID))\n",
    "\n",
    "    h  = h5py.File(vol2hipp, 'r')\n",
    "    \n",
    "    df.iloc[iC][node_str] = np.array(h[subjID])\n",
    "\n",
    "    df.iloc[iC]['meanW'] = df.iloc[iC][node_str].mean()"
   ]
  },
  {
   "cell_type": "code",
   "execution_count": 32,
   "metadata": {},
   "outputs": [
    {
     "name": "stdout",
     "output_type": "stream",
     "text": [
      "709\n"
     ]
    }
   ],
   "source": [
    "df = df.dropna()\n",
    "print(len(df))\n",
    "#df.to_csv('../solar/solar_mean_msm50_t1t2_lca/t1t2_lca.csv')"
   ]
  },
  {
   "cell_type": "code",
   "execution_count": null,
   "metadata": {},
   "outputs": [],
   "source": []
  },
  {
   "cell_type": "markdown",
   "metadata": {},
   "source": [
    "### LDG"
   ]
  },
  {
   "cell_type": "code",
   "execution_count": 33,
   "metadata": {},
   "outputs": [
    {
     "name": "stdout",
     "output_type": "stream",
     "text": [
      "709\n",
      "1024\n"
     ]
    }
   ],
   "source": [
    "mysubjects = []\n",
    "\n",
    "for subj in subjlist:\n",
    "    mysubjects.append(subj)\n",
    "print(len(mysubjects))\n",
    "\n",
    "\n",
    "tot_node_num_lsub = 1024 ## because CA has 2048 points \n",
    "node_str = []\n",
    "for i in range(1, tot_node_num_lsub+1):\n",
    "    node_str.append('node_'+ str(i))\n",
    "print(len(node_str))\n",
    "node_str[0], '....', node_str[-1]\n",
    "\n",
    "mycols = ['age', 'sex', 'meanW'] + node_str \n",
    "\n",
    "df = pd.DataFrame(index = mysubjects,\n",
    "                 columns = mycols)\n",
    "df.index.name = 'id'"
   ]
  },
  {
   "cell_type": "code",
   "execution_count": 34,
   "metadata": {},
   "outputs": [],
   "source": [
    "ddir = '../data/tout_T1wT2w_msm50/'\n",
    "\n",
    "for subjID in mysubjects:\n",
    "    \n",
    "    iA = HCP_r.index.get_loc(subjID)\n",
    "    iB = HCP_u.index.get_loc(subjID)\n",
    "    iC = df.index.get_loc(subjID)\n",
    "\n",
    "    df.iloc[iC]['age'] = HCP_r.iloc[iA]['Age_in_Yrs']\n",
    "    df.iloc[iC]['sex'] = HCP_u.iloc[iB]['Gender']\n",
    "\n",
    "    vol2hipp  = os.path.join(ddir, 'HCP_%s_t1t2_dg_left.h5' % (subjID))\n",
    "\n",
    "    h  = h5py.File(vol2hipp, 'r')\n",
    "    \n",
    "    df.iloc[iC][node_str] = np.array(h[subjID])\n",
    "    df.iloc[iC]['meanW'] = df.iloc[iC][node_str].mean()"
   ]
  },
  {
   "cell_type": "code",
   "execution_count": 35,
   "metadata": {},
   "outputs": [
    {
     "name": "stdout",
     "output_type": "stream",
     "text": [
      "709\n"
     ]
    }
   ],
   "source": [
    "df = df.dropna()\n",
    "print(len(df))\n",
    "#df.to_csv('../solar/solar_mean_msm50_t1t2_ldg/t1t2_ldg.csv')"
   ]
  },
  {
   "cell_type": "code",
   "execution_count": null,
   "metadata": {},
   "outputs": [],
   "source": []
  },
  {
   "cell_type": "markdown",
   "metadata": {},
   "source": [
    "### RSUB "
   ]
  },
  {
   "cell_type": "code",
   "execution_count": 36,
   "metadata": {},
   "outputs": [
    {
     "name": "stdout",
     "output_type": "stream",
     "text": [
      "709\n",
      "1024\n"
     ]
    },
    {
     "data": {
      "text/plain": [
       "('node_1', '....', 'node_1024')"
      ]
     },
     "execution_count": 36,
     "metadata": {},
     "output_type": "execute_result"
    }
   ],
   "source": [
    "mysubjects = []\n",
    "\n",
    "for subj in subjlist:\n",
    "    mysubjects.append(subj)\n",
    "print(len(mysubjects))\n",
    "\n",
    "\n",
    "tot_node_num_lsub = 1024 ## because subiculum has 1024 points \n",
    "node_str = []\n",
    "for i in range(1, tot_node_num_lsub+1):\n",
    "    node_str.append('node_'+ str(i))\n",
    "print(len(node_str))\n",
    "node_str[0], '....', node_str[-1]\n"
   ]
  },
  {
   "cell_type": "code",
   "execution_count": 37,
   "metadata": {},
   "outputs": [],
   "source": [
    "mycols = ['age', 'sex', 'meanW'] + node_str \n",
    "\n",
    "df = pd.DataFrame(index = mysubjects,\n",
    "                 columns = mycols)\n",
    "df.index.name = 'id'"
   ]
  },
  {
   "cell_type": "code",
   "execution_count": 38,
   "metadata": {},
   "outputs": [],
   "source": [
    "ddir = '../data/tout_T1wT2w_msm50/'\n",
    "\n",
    "for subjID in mysubjects:\n",
    "    \n",
    "    iA = HCP_r.index.get_loc(subjID)\n",
    "    iB = HCP_u.index.get_loc(subjID)\n",
    "    iC = df.index.get_loc(subjID)\n",
    "\n",
    "    df.iloc[iC]['age'] = HCP_r.iloc[iA]['Age_in_Yrs']\n",
    "    df.iloc[iC]['sex'] = HCP_u.iloc[iB]['Gender']\n",
    "\n",
    "    vol2hipp  = os.path.join(ddir, 'HCP_%s_t1t2_sub_right.h5' % (subjID))\n",
    "\n",
    "    h  = h5py.File(vol2hipp, 'r')\n",
    "    \n",
    "    df.iloc[iC][node_str] = np.array(h[subjID])\n",
    "    df.iloc[iC]['meanW'] = df.iloc[iC][node_str].mean()\n",
    "    \n",
    "    "
   ]
  },
  {
   "cell_type": "code",
   "execution_count": 39,
   "metadata": {},
   "outputs": [
    {
     "name": "stdout",
     "output_type": "stream",
     "text": [
      "709\n"
     ]
    }
   ],
   "source": [
    "df = df.dropna()\n",
    "print(len(df))\n",
    "#df.to_csv('../solar/solar_mean_msm50_t1t2_rsub/t1t2_rsub.csv')"
   ]
  },
  {
   "cell_type": "code",
   "execution_count": null,
   "metadata": {},
   "outputs": [],
   "source": []
  },
  {
   "cell_type": "markdown",
   "metadata": {},
   "source": [
    "### RCA"
   ]
  },
  {
   "cell_type": "code",
   "execution_count": 40,
   "metadata": {},
   "outputs": [
    {
     "name": "stdout",
     "output_type": "stream",
     "text": [
      "709\n",
      "2048\n"
     ]
    }
   ],
   "source": [
    "mysubjects = []\n",
    "\n",
    "for subj in subjlist:\n",
    "    mysubjects.append(subj)\n",
    "print(len(mysubjects))\n",
    "\n",
    "\n",
    "tot_node_num_lsub = 2048 ## because CA has 2048 points \n",
    "node_str = []\n",
    "for i in range(1, tot_node_num_lsub+1):\n",
    "    node_str.append('node_'+ str(i))\n",
    "print(len(node_str))\n",
    "node_str[0], '....', node_str[-1]\n",
    "\n",
    "mycols = ['age', 'sex', 'meanW'] + node_str \n",
    "\n",
    "df = pd.DataFrame(index = mysubjects,\n",
    "                 columns = mycols)\n",
    "df.index.name = 'id'"
   ]
  },
  {
   "cell_type": "code",
   "execution_count": 41,
   "metadata": {},
   "outputs": [],
   "source": [
    "ddir = '../data/tout_T1wT2w_msm50/'\n",
    "\n",
    "for subjID in mysubjects:\n",
    "    \n",
    "    iA = HCP_r.index.get_loc(subjID)\n",
    "    iB = HCP_u.index.get_loc(subjID)\n",
    "    iC = df.index.get_loc(subjID)\n",
    "\n",
    "    df.iloc[iC]['age'] = HCP_r.iloc[iA]['Age_in_Yrs']\n",
    "    df.iloc[iC]['sex'] = HCP_u.iloc[iB]['Gender']\n",
    "\n",
    "    vol2hipp  = os.path.join(ddir, 'HCP_%s_t1t2_ca_right.h5' % (subjID))\n",
    "\n",
    "    h  = h5py.File(vol2hipp, 'r')\n",
    "    \n",
    "    df.iloc[iC][node_str] = np.array(h[subjID])\n",
    "    df.iloc[iC]['meanW'] = df.iloc[iC][node_str].mean()"
   ]
  },
  {
   "cell_type": "code",
   "execution_count": 42,
   "metadata": {},
   "outputs": [
    {
     "name": "stdout",
     "output_type": "stream",
     "text": [
      "709\n"
     ]
    }
   ],
   "source": [
    "df = df.dropna()\n",
    "print(len(df))\n",
    "#df.to_csv('../solar/solar_mean_msm50_t1t2_rca/t1t2_rca.csv')"
   ]
  },
  {
   "cell_type": "markdown",
   "metadata": {},
   "source": [
    "### RDG"
   ]
  },
  {
   "cell_type": "code",
   "execution_count": 43,
   "metadata": {},
   "outputs": [
    {
     "name": "stdout",
     "output_type": "stream",
     "text": [
      "709\n",
      "1024\n"
     ]
    }
   ],
   "source": [
    "mysubjects = []\n",
    "\n",
    "for subj in subjlist:\n",
    "    mysubjects.append(subj)\n",
    "print(len(mysubjects))\n",
    "\n",
    "\n",
    "tot_node_num_lsub = 1024 ## because CA has 2048 points \n",
    "node_str = []\n",
    "for i in range(1, tot_node_num_lsub+1):\n",
    "    node_str.append('node_'+ str(i))\n",
    "print(len(node_str))\n",
    "node_str[0], '....', node_str[-1]\n",
    "\n",
    "mycols = ['age', 'sex', 'meanW'] + node_str \n",
    "\n",
    "df = pd.DataFrame(index = mysubjects,\n",
    "                 columns = mycols)\n",
    "df.index.name = 'id'"
   ]
  },
  {
   "cell_type": "code",
   "execution_count": 44,
   "metadata": {},
   "outputs": [],
   "source": [
    "ddir = '../data/tout_T1wT2w_msm50/'\n",
    "\n",
    "for subjID in mysubjects:\n",
    "    \n",
    "    iA = HCP_r.index.get_loc(subjID)\n",
    "    iB = HCP_u.index.get_loc(subjID)\n",
    "    iC = df.index.get_loc(subjID)\n",
    "\n",
    "    df.iloc[iC]['age'] = HCP_r.iloc[iA]['Age_in_Yrs']\n",
    "    df.iloc[iC]['sex'] = HCP_u.iloc[iB]['Gender']\n",
    "\n",
    "    vol2hipp  = os.path.join(ddir, 'HCP_%s_t1t2_dg_right.h5' % (subjID))\n",
    "\n",
    "    h  = h5py.File(vol2hipp, 'r')\n",
    "    \n",
    "    df.iloc[iC][node_str] = np.array(h[subjID])\n",
    "    df.iloc[iC]['meanW'] = df.iloc[iC][node_str].mean()"
   ]
  },
  {
   "cell_type": "code",
   "execution_count": 45,
   "metadata": {},
   "outputs": [
    {
     "name": "stdout",
     "output_type": "stream",
     "text": [
      "709\n"
     ]
    }
   ],
   "source": [
    "df = df.dropna()\n",
    "print(len(df))\n",
    "#df.to_csv('../solar/solar_mean_msm50_t1t2_rdg/t1t2_rdg.csv')"
   ]
  },
  {
   "cell_type": "code",
   "execution_count": null,
   "metadata": {},
   "outputs": [],
   "source": []
  },
  {
   "cell_type": "markdown",
   "metadata": {},
   "source": [
    "### check heritability of T1w/T2w and G2 (fc) correlations"
   ]
  },
  {
   "cell_type": "markdown",
   "metadata": {},
   "source": [
    "### LSUB"
   ]
  },
  {
   "cell_type": "code",
   "execution_count": 46,
   "metadata": {},
   "outputs": [
    {
     "name": "stdout",
     "output_type": "stream",
     "text": [
      "709\n"
     ]
    }
   ],
   "source": [
    "mysubjects = []\n",
    "for subj in subjlist:\n",
    "    mysubjects.append(subj)\n",
    "print(len(mysubjects))\n",
    "node_str = ['node_1']\n",
    "mycols = ['age', 'sex'] + node_str \n",
    "df = pd.DataFrame(index = mysubjects,\n",
    "                 columns = mycols)\n",
    "df.index.name = 'id'"
   ]
  },
  {
   "cell_type": "code",
   "execution_count": 47,
   "metadata": {},
   "outputs": [],
   "source": [
    "ddir = '../data/tout_T1wT2w_msm50/'\n",
    "\n",
    "for subjID in mysubjects:\n",
    "    \n",
    "    iA = HCP_r.index.get_loc(subjID)\n",
    "    iB = HCP_u.index.get_loc(subjID)\n",
    "    iC = df.index.get_loc(subjID)\n",
    "\n",
    "    df.iloc[iC]['age'] = HCP_r.iloc[iA]['Age_in_Yrs']\n",
    "    df.iloc[iC]['sex'] = HCP_u.iloc[iB]['Gender']\n",
    "\n",
    "    tdir = '../data/tout_T1wT2w_msm50/'\n",
    "\n",
    "\n",
    "    vol2hipp_LSUB  = os.path.join(tdir, 'HCP_%s_t1t2_sub_left.h5' % (subjID))\n",
    "    h_LSUB   = h5py.File(vol2hipp_LSUB, 'r')\n",
    "    t_LSUB   = np.array(h_LSUB[subjID])\n",
    "\n",
    "    gdir = '../data/tout_hippoc_grad_flipped_msm50/'\n",
    "    \n",
    "\n",
    "    gfile_LSUB = h5py.File(os.path.join(gdir, 'HCP_' + subjID + '_G2_LSUB.h5'), 'r')\n",
    "    g2_LSUB = np.array(gfile_LSUB[subjID])  \n",
    "    gfile_LSUB.close()\n",
    "    \n",
    "    df.iloc[iC][node_str] = pearsonr(np.log(t_LSUB), g2_LSUB)[0]\n"
   ]
  },
  {
   "cell_type": "code",
   "execution_count": 48,
   "metadata": {},
   "outputs": [
    {
     "name": "stdout",
     "output_type": "stream",
     "text": [
      "709\n"
     ]
    }
   ],
   "source": [
    "df = df.dropna()\n",
    "print(len(df))\n",
    "#df.to_csv('../solar/r_t1t2_G2_LSUB/r_g2_lsub.csv')"
   ]
  },
  {
   "cell_type": "markdown",
   "metadata": {},
   "source": [
    "## LCA"
   ]
  },
  {
   "cell_type": "code",
   "execution_count": 49,
   "metadata": {},
   "outputs": [
    {
     "name": "stdout",
     "output_type": "stream",
     "text": [
      "709\n"
     ]
    }
   ],
   "source": [
    "mysubjects = []\n",
    "\n",
    "for subj in subjlist:\n",
    "    mysubjects.append(subj)\n",
    "print(len(mysubjects))\n",
    "\n",
    "node_str = ['node_1']\n",
    "\n",
    "mycols = ['age', 'sex'] + node_str \n",
    "\n",
    "df = pd.DataFrame(index = mysubjects,\n",
    "                 columns = mycols)\n",
    "df.index.name = 'id'\n",
    "\n",
    "ddir = '../data/tout_T1wT2w_msm50/'\n",
    "\n",
    "for subjID in mysubjects:\n",
    "    \n",
    "    iA = HCP_r.index.get_loc(subjID)\n",
    "    iB = HCP_u.index.get_loc(subjID)\n",
    "    iC = df.index.get_loc(subjID)\n",
    "\n",
    "    df.iloc[iC]['age'] = HCP_r.iloc[iA]['Age_in_Yrs']\n",
    "    df.iloc[iC]['sex'] = HCP_u.iloc[iB]['Gender']\n",
    "\n",
    "    tdir = '../data/tout_T1wT2w_msm50/'\n",
    "\n",
    "\n",
    "    vol2hipp_LCA  = os.path.join(tdir, 'HCP_%s_t1t2_ca_left.h5' % (subjID))\n",
    "    h_LCA   = h5py.File(vol2hipp_LCA, 'r')\n",
    "    t_LCA   = np.array(h_LCA[subjID])\n",
    "\n",
    "    gdir = '../data/tout_hippoc_grad_flipped_msm50/'\n",
    "    \n",
    "\n",
    "    gfile_LCA = h5py.File(os.path.join(gdir, 'HCP_' + subjID + '_G2_LCA.h5'), 'r')\n",
    "    g2_LCA = np.array(gfile_LCA[subjID])  \n",
    "    gfile_LCA.close()\n",
    "    \n",
    "    \n",
    "    df.iloc[iC][node_str] = pearsonr(np.log(t_LCA), g2_LCA)[0]\n",
    "    "
   ]
  },
  {
   "cell_type": "code",
   "execution_count": 50,
   "metadata": {},
   "outputs": [
    {
     "name": "stdout",
     "output_type": "stream",
     "text": [
      "709\n"
     ]
    }
   ],
   "source": [
    "df = df.dropna()\n",
    "print(len(df))\n",
    "#df.to_csv('../solar/r_t1t2_G2_LCA/r_g2_lca.csv')"
   ]
  },
  {
   "cell_type": "markdown",
   "metadata": {},
   "source": [
    "## LDG"
   ]
  },
  {
   "cell_type": "code",
   "execution_count": 51,
   "metadata": {},
   "outputs": [
    {
     "name": "stdout",
     "output_type": "stream",
     "text": [
      "709\n"
     ]
    }
   ],
   "source": [
    "mysubjects = []\n",
    "for subj in subjlist:\n",
    "    mysubjects.append(subj)\n",
    "print(len(mysubjects))\n",
    "\n",
    "node_str = ['node_1']\n",
    "mycols = ['age', 'sex'] + node_str \n",
    "\n",
    "df = pd.DataFrame(index = mysubjects,\n",
    "                 columns = mycols)\n",
    "df.index.name = 'id'\n",
    "ddir = '../data/tout_T1wT2w_msm50/'\n",
    "\n",
    "for subjID in mysubjects:\n",
    "    \n",
    "    iA = HCP_r.index.get_loc(subjID)\n",
    "    iB = HCP_u.index.get_loc(subjID)\n",
    "    iC = df.index.get_loc(subjID)\n",
    "\n",
    "    df.iloc[iC]['age'] = HCP_r.iloc[iA]['Age_in_Yrs']\n",
    "    df.iloc[iC]['sex'] = HCP_u.iloc[iB]['Gender']\n",
    "\n",
    "    tdir = '../data/tout_T1wT2w_msm50/'\n",
    "\n",
    "\n",
    "    vol2hipp_LDG  = os.path.join(tdir, 'HCP_%s_t1t2_dg_left.h5' % (subjID))\n",
    "    h_LDG   = h5py.File(vol2hipp_LDG, 'r')\n",
    "    t_LDG   = np.array(h_LDG[subjID])\n",
    "\n",
    "    gdir = '../data/tout_hippoc_grad_flipped_msm50/'\n",
    "    \n",
    "\n",
    "    gfile_LDG = h5py.File(os.path.join(gdir, 'HCP_' + subjID + '_G2_LDG.h5'), 'r')\n",
    "    g2_LDG = np.array(gfile_LDG[subjID])  \n",
    "    gfile_LDG.close()\n",
    "    \n",
    "    \n",
    "    df.iloc[iC][node_str] = pearsonr(np.log(t_LDG), g2_LDG)[0]\n",
    "    "
   ]
  },
  {
   "cell_type": "code",
   "execution_count": 52,
   "metadata": {},
   "outputs": [
    {
     "name": "stdout",
     "output_type": "stream",
     "text": [
      "709\n"
     ]
    }
   ],
   "source": [
    "df = df.dropna()\n",
    "print(len(df))\n",
    "#df.to_csv('../solar/r_t1t2_G2_LDG/r_g2_ldg.csv')"
   ]
  },
  {
   "cell_type": "code",
   "execution_count": null,
   "metadata": {},
   "outputs": [],
   "source": []
  }
 ],
 "metadata": {
  "kernelspec": {
   "display_name": "Python [conda env:surfstat] *",
   "language": "python",
   "name": "conda-env-surfstat-py"
  },
  "language_info": {
   "codemirror_mode": {
    "name": "ipython",
    "version": 3
   },
   "file_extension": ".py",
   "mimetype": "text/x-python",
   "name": "python",
   "nbconvert_exporter": "python",
   "pygments_lexer": "ipython3",
   "version": "3.6.10"
  }
 },
 "nbformat": 4,
 "nbformat_minor": 4
}
