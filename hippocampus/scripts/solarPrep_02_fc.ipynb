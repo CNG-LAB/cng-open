{
 "cells": [
  {
   "cell_type": "code",
   "execution_count": 1,
   "metadata": {},
   "outputs": [],
   "source": [
    "import os\n",
    "import h5py\n",
    "import numpy as np\n",
    "import pandas as pd\n",
    "from scipy.stats import pearsonr\n"
   ]
  },
  {
   "cell_type": "code",
   "execution_count": 2,
   "metadata": {},
   "outputs": [
    {
     "name": "stdout",
     "output_type": "stream",
     "text": [
      "709\n"
     ]
    }
   ],
   "source": [
    "# get HCP - S900 subject list        \n",
    "subjlist = '../data/subjectListS900_QC_gr.txt'\n",
    "f = open(subjlist); mylist = f.read().split(\"\\n\"); f.close() \n",
    "subjlist = joinedlist = mylist[:-1]\n",
    "\n",
    "mysubjects = []\n",
    "\n",
    "for subj in subjlist:\n",
    "    mysubjects.append(subj)\n",
    "print(len(mysubjects))\n"
   ]
  },
  {
   "cell_type": "markdown",
   "metadata": {},
   "source": [
    "### get HCP demographics"
   ]
  },
  {
   "cell_type": "code",
   "execution_count": 3,
   "metadata": {},
   "outputs": [
    {
     "data": {
      "text/plain": [
       "(1206, 1206)"
      ]
     },
     "execution_count": 3,
     "metadata": {},
     "output_type": "execute_result"
    }
   ],
   "source": [
    "HCP_u = pd.read_csv('../data/HCP_solar/HCP_s1200_unrestricted.csv', \n",
    "                    index_col = 0)\n",
    "\n",
    "HCP_u.index = HCP_u.index.map(str)\n",
    "\n",
    "HCP_r = pd.read_csv('../data/HCP_solar/HCP_s1200_restricted.csv', \n",
    "                    index_col = 0)\n",
    "\n",
    "HCP_r.index = HCP_r.index.map(str)\n",
    "\n",
    "len(HCP_u.index), len(HCP_r.index)"
   ]
  },
  {
   "cell_type": "markdown",
   "metadata": {},
   "source": [
    "### get hippocampus-to-cortex functional connectivity (fc) for individual subjects and subfields"
   ]
  },
  {
   "cell_type": "markdown",
   "metadata": {},
   "source": [
    "### LSUB"
   ]
  },
  {
   "cell_type": "code",
   "execution_count": 4,
   "metadata": {},
   "outputs": [
    {
     "name": "stdout",
     "output_type": "stream",
     "text": [
      "360\n"
     ]
    },
    {
     "data": {
      "text/plain": [
       "('node_1', '...', 'node_360')"
      ]
     },
     "execution_count": 4,
     "metadata": {},
     "output_type": "execute_result"
    }
   ],
   "source": [
    "# we'll have 360 nodes along the cortex (Glasser vertex number)\n",
    "tot_node_num_cortex = 360\n",
    "node_str = []\n",
    "for i in range(1, tot_node_num_cortex+1):\n",
    "    node_str.append('node_'+ str(i))\n",
    "print(len(node_str))\n",
    "node_str[0], '...', node_str[-1]\n",
    "\n"
   ]
  },
  {
   "cell_type": "code",
   "execution_count": 15,
   "metadata": {},
   "outputs": [],
   "source": [
    "mycols = ['age', 'sex'] + node_str \n",
    "\n",
    "df = pd.DataFrame(index = mysubjects,\n",
    "                 columns = mycols)\n",
    "df.index.name = 'id'"
   ]
  },
  {
   "cell_type": "code",
   "execution_count": 21,
   "metadata": {},
   "outputs": [],
   "source": [
    "# data dirs\n",
    "conndir  = '../data/tout_hippoc/' \n",
    "odir = '../solar/FC_LSUB/'\n",
    "\n",
    "# we have 1024 vertices along the subiculum\n",
    "tot_node_num = 1024\n",
    "\n",
    "for j in range(0, tot_node_num):\n",
    "\n",
    "    # generate a subdir like fc_*1*    \n",
    "    if not os.path.isdir(os.path.join(odir, 'fc_' + str(j+1))):\n",
    "        os.makedirs(os.path.join(odir, 'fc_' + str(j+1)))\n",
    "        print('aaa')\n",
    "        \n",
    "    fc_name = os.path.join(os.path.join(odir, 'fc_' + str(j+1)), \n",
    "                           'fc_lsub_nodes.csv')        \n",
    "        \n",
    "    for subjID in subjlist:\n",
    "\n",
    "        iA = HCP_r.index.get_loc(subjID)\n",
    "        iB = HCP_u.index.get_loc(subjID)\n",
    "        iC = df.index.get_loc(subjID)\n",
    "\n",
    "        df.iloc[iC]['age'] = HCP_r.iloc[iA]['Age_in_Yrs']\n",
    "        df.iloc[iC]['sex'] = HCP_u.iloc[iB]['Gender']\n",
    "\n",
    "        # get the hippocampus-cortex fc for each subject \n",
    "        subjconn_left = os.path.join(conndir, 'HCP_' + subjID + '_left.h5')\n",
    "        with h5py.File(subjconn_left, \"r\") as f:        \n",
    "            subjdata_left = np.array(f['HCP_'+subjID])   # (4096, 360)\n",
    "\n",
    "        conn = subjdata_left[j,:]    \n",
    "\n",
    "        df.iloc[iC][node_str] = conn.reshape(len(conn))\n",
    "    \n",
    "    # drop NaN's and save\n",
    "    df = df.dropna()\n",
    "    df.to_csv(fc_name)"
   ]
  },
  {
   "cell_type": "markdown",
   "metadata": {},
   "source": [
    "### LCA"
   ]
  },
  {
   "cell_type": "code",
   "execution_count": 25,
   "metadata": {},
   "outputs": [
    {
     "name": "stdout",
     "output_type": "stream",
     "text": [
      "360\n"
     ]
    },
    {
     "data": {
      "text/plain": [
       "('node_1', '...', 'node_360')"
      ]
     },
     "execution_count": 25,
     "metadata": {},
     "output_type": "execute_result"
    }
   ],
   "source": [
    "# we'll have 360 nodes (Glasser vertex number)\n",
    "tot_node_num_cortex = 360\n",
    "node_str = []\n",
    "for i in range(1, tot_node_num_cortex+1):\n",
    "    node_str.append('node_'+ str(i))\n",
    "print(len(node_str))\n",
    "node_str[0], '...', node_str[-1]\n"
   ]
  },
  {
   "cell_type": "code",
   "execution_count": 29,
   "metadata": {},
   "outputs": [],
   "source": [
    "# data dirs\n",
    "conndir  = '../data/tout_hippoc/' \n",
    "odir = '../solar/FC_LCA/'\n",
    "\n",
    "# we have 2048 vertices along the CA\n",
    "tot_node_num = 2048\n",
    "\n",
    "for j in range(0, tot_node_num):\n",
    "\n",
    "    # generate a subdir like fc_*1*    \n",
    "    if not os.path.isdir(os.path.join(odir, 'fc_' + str(j+1))):\n",
    "        os.makedirs(os.path.join(odir, 'fc_' + str(j+1)))\n",
    "        print('aaa')\n",
    "        \n",
    "    fc_name = os.path.join(os.path.join(odir, 'fc_' + str(j+1)), \n",
    "                           'fc_lca_nodes.csv')        \n",
    "        \n",
    "    for subjID in subjlist:\n",
    "\n",
    "        iA = HCP_r.index.get_loc(subjID)\n",
    "        iB = HCP_u.index.get_loc(subjID)\n",
    "        iC = df.index.get_loc(subjID)\n",
    "\n",
    "        df.iloc[iC]['age'] = HCP_r.iloc[iA]['Age_in_Yrs']\n",
    "        df.iloc[iC]['sex'] = HCP_u.iloc[iB]['Gender']\n",
    "\n",
    "        # get the hippocampus-cortex fc for each subject \n",
    "        subjconn_left = os.path.join(conndir, 'HCP_' + subjID + '_left.h5')\n",
    "        with h5py.File(subjconn_left, \"r\") as f:        \n",
    "            subjdata_left = np.array(f['HCP_'+subjID])   # (4096, 360)\n",
    "\n",
    "        conn = subjdata_left[j+1024,:]    \n",
    "\n",
    "        df.iloc[iC][node_str] = conn.reshape(len(conn))\n",
    "    \n",
    "    # drop NaN's and save\n",
    "    df = df.dropna()\n",
    "    df.to_csv(fc_name)"
   ]
  },
  {
   "cell_type": "code",
   "execution_count": null,
   "metadata": {},
   "outputs": [],
   "source": []
  },
  {
   "cell_type": "markdown",
   "metadata": {},
   "source": [
    "### LDG"
   ]
  },
  {
   "cell_type": "code",
   "execution_count": 30,
   "metadata": {},
   "outputs": [
    {
     "name": "stdout",
     "output_type": "stream",
     "text": [
      "360\n"
     ]
    },
    {
     "data": {
      "text/plain": [
       "('node_1', '...', 'node_360')"
      ]
     },
     "execution_count": 30,
     "metadata": {},
     "output_type": "execute_result"
    }
   ],
   "source": [
    "# we'll have 360 nodes (Glasser vertex number)\n",
    "tot_node_num_cortex = 360\n",
    "node_str = []\n",
    "for i in range(1, tot_node_num_cortex+1):\n",
    "    node_str.append('node_'+ str(i))\n",
    "print(len(node_str))\n",
    "node_str[0], '...', node_str[-1]"
   ]
  },
  {
   "cell_type": "code",
   "execution_count": 31,
   "metadata": {},
   "outputs": [],
   "source": [
    "# data dirs\n",
    "conndir  = '../data/tout_hippoc/' \n",
    "odir = '../solar/FC_LDG/'\n",
    "\n",
    "# we have 1024 vertices along the DG\n",
    "tot_node_num = 1024\n",
    "\n",
    "for j in range(0, tot_node_num):\n",
    "\n",
    "    # generate a subdir like fc_*1*    \n",
    "    if not os.path.isdir(os.path.join(odir, 'fc_' + str(j+1))):\n",
    "        os.makedirs(os.path.join(odir, 'fc_' + str(j+1)))\n",
    "        print('aaa')\n",
    "        \n",
    "    fc_name = os.path.join(os.path.join(odir, 'fc_' + str(j+1)), \n",
    "                           'fc_ldg_nodes.csv')        \n",
    "        \n",
    "    for subjID in subjlist:\n",
    "\n",
    "        iA = HCP_r.index.get_loc(subjID)\n",
    "        iB = HCP_u.index.get_loc(subjID)\n",
    "        iC = df.index.get_loc(subjID)\n",
    "\n",
    "        df.iloc[iC]['age'] = HCP_r.iloc[iA]['Age_in_Yrs']\n",
    "        df.iloc[iC]['sex'] = HCP_u.iloc[iB]['Gender']\n",
    "\n",
    "        # get the hippocampus-to-cortex connectivity for each subject \n",
    "        subjconn_left = os.path.join(conndir, 'HCP_' + subjID + '_left.h5')\n",
    "        with h5py.File(subjconn_left, \"r\") as f:        \n",
    "            subjdata_left = np.array(f['HCP_'+subjID])   # (4096, 360)\n",
    "\n",
    "        conn = subjdata_left[j+1024+2048,:]    \n",
    "\n",
    "        df.iloc[iC][node_str] = conn.reshape(len(conn))\n",
    "    \n",
    "    # drop NaN's and save\n",
    "    df = df.dropna()\n",
    "    df.to_csv(fc_name)"
   ]
  },
  {
   "cell_type": "code",
   "execution_count": null,
   "metadata": {},
   "outputs": [],
   "source": []
  },
  {
   "cell_type": "markdown",
   "metadata": {},
   "source": [
    "### RSUB"
   ]
  },
  {
   "cell_type": "code",
   "execution_count": 33,
   "metadata": {},
   "outputs": [],
   "source": [
    "# data dirs\n",
    "conndir  = '../data/tout_hippoc/' \n",
    "odir = '../solar/FC_RSUB/'\n",
    "\n",
    "tot_node_num = 1024\n",
    "\n",
    "for j in range(0, tot_node_num):\n",
    "\n",
    "    # generate a subdir like fc_*1*    \n",
    "    if not os.path.isdir(os.path.join(odir, 'fc_' + str(j+1))):\n",
    "        os.makedirs(os.path.join(odir, 'fc_' + str(j+1)))\n",
    "        print('aaa')\n",
    "        \n",
    "    fc_name = os.path.join(os.path.join(odir, 'fc_' + str(j+1)), \n",
    "                           'fc_rsub_nodes.csv')        \n",
    "        \n",
    "    for subjID in subjlist:\n",
    "\n",
    "        iA = HCP_r.index.get_loc(subjID)\n",
    "        iB = HCP_u.index.get_loc(subjID)\n",
    "        iC = df.index.get_loc(subjID)\n",
    "\n",
    "        df.iloc[iC]['age'] = HCP_r.iloc[iA]['Age_in_Yrs']\n",
    "        df.iloc[iC]['sex'] = HCP_u.iloc[iB]['Gender']\n",
    "\n",
    "        # get the hippocampus-cortex fc for each subject \n",
    "        subjconn_left = os.path.join(conndir, 'HCP_' + subjID + '_right.h5')\n",
    "        with h5py.File(subjconn_left, \"r\") as f:        \n",
    "            subjdata_left = np.array(f['HCP_'+subjID])   # (4096, 360)\n",
    "\n",
    "        conn = subjdata_left[j,:]    \n",
    "\n",
    "        df.iloc[iC][node_str] = conn.reshape(len(conn))\n",
    "    \n",
    "    # drop NaN's and save\n",
    "    df = df.dropna()\n",
    "    df.to_csv(fc_name)"
   ]
  },
  {
   "cell_type": "code",
   "execution_count": null,
   "metadata": {},
   "outputs": [],
   "source": []
  },
  {
   "cell_type": "markdown",
   "metadata": {},
   "source": [
    "### RCA"
   ]
  },
  {
   "cell_type": "code",
   "execution_count": 6,
   "metadata": {},
   "outputs": [
    {
     "name": "stdout",
     "output_type": "stream",
     "text": [
      "360\n"
     ]
    }
   ],
   "source": [
    "# we'll have 360 nodes (Glasser vertex number)\n",
    "tot_node_num_cortex = 360\n",
    "node_str = []\n",
    "for i in range(1, tot_node_num_cortex+1):\n",
    "    node_str.append('node_'+ str(i))\n",
    "print(len(node_str))\n",
    "node_str[0], '...', node_str[-1]\n",
    "\n",
    "mycols = ['age', 'sex'] + node_str \n",
    "\n",
    "df = pd.DataFrame(index = mysubjects,\n",
    "                 columns = mycols)\n",
    "df.index.name = 'id'"
   ]
  },
  {
   "cell_type": "code",
   "execution_count": null,
   "metadata": {
    "scrolled": true
   },
   "outputs": [],
   "source": [
    "# data dirs\n",
    "conndir  = '../data/tout_hippoc/' \n",
    "odir = '../solar/FC_RCA/'\n",
    "\n",
    "tot_node_num = 2048\n",
    "\n",
    "for j in range(0, tot_node_num):\n",
    "\n",
    "    # generate a subdir like fc_*1*    \n",
    "    if not os.path.isdir(os.path.join(odir, 'fc_' + str(j+1))):\n",
    "        os.makedirs(os.path.join(odir, 'fc_' + str(j+1)))\n",
    "        print('aaa')\n",
    "        \n",
    "    fc_name = os.path.join(os.path.join(odir, 'fc_' + str(j+1)), \n",
    "                           'fc_rca_nodes.csv')        \n",
    "        \n",
    "    for subjID in subjlist:\n",
    "\n",
    "        iA = HCP_r.index.get_loc(subjID)\n",
    "        iB = HCP_u.index.get_loc(subjID)\n",
    "        iC = df.index.get_loc(subjID)\n",
    "\n",
    "        df.iloc[iC]['age'] = HCP_r.iloc[iA]['Age_in_Yrs']\n",
    "        df.iloc[iC]['sex'] = HCP_u.iloc[iB]['Gender']\n",
    "\n",
    "        # get the hippocampus-cortex fc for each subject \n",
    "        subjconn_left = os.path.join(conndir, 'HCP_' + subjID + '_right.h5')\n",
    "        with h5py.File(subjconn_left, \"r\") as f:        \n",
    "            subjdata_left = np.array(f['HCP_'+subjID])   # (4096, 360)\n",
    "\n",
    "        conn = subjdata_left[j+1024,:]    \n",
    "\n",
    "        df.iloc[iC][node_str] = conn.reshape(len(conn))\n",
    "    \n",
    "    # drop NaN's and save\n",
    "    df = df.dropna()\n",
    "    df.to_csv(fc_name)"
   ]
  },
  {
   "cell_type": "markdown",
   "metadata": {},
   "source": [
    "### RDG"
   ]
  },
  {
   "cell_type": "code",
   "execution_count": 6,
   "metadata": {},
   "outputs": [
    {
     "name": "stdout",
     "output_type": "stream",
     "text": [
      "360\n"
     ]
    }
   ],
   "source": [
    "# we'll have 360 nodes (Glasser vertex number)\n",
    "tot_node_num_cortex = 360\n",
    "node_str = []\n",
    "for i in range(1, tot_node_num_cortex+1):\n",
    "    node_str.append('node_'+ str(i))\n",
    "print(len(node_str))\n",
    "node_str[0], '...', node_str[-1]\n",
    "\n",
    "mycols = ['age', 'sex'] + node_str \n",
    "\n",
    "df = pd.DataFrame(index = mysubjects,\n",
    "                 columns = mycols)\n",
    "df.index.name = 'id'"
   ]
  },
  {
   "cell_type": "code",
   "execution_count": null,
   "metadata": {},
   "outputs": [],
   "source": [
    "# data dirs\n",
    "conndir  = '../data/tout_hippoc/' \n",
    "odir = '../solar/FC_RDG/'\n",
    "\n",
    "tot_node_num = 1024\n",
    "\n",
    "for j in range(0, tot_node_num):\n",
    "\n",
    "    # generate a subdir like fc_*1*    \n",
    "    if not os.path.isdir(os.path.join(odir, 'fc_' + str(j+1))):\n",
    "        os.makedirs(os.path.join(odir, 'fc_' + str(j+1)))\n",
    "        print('aaa')\n",
    "        \n",
    "    fc_name = os.path.join(os.path.join(odir, 'fc_' + str(j+1)), \n",
    "                           'fc_rdg_nodes.csv')        \n",
    "        \n",
    "    for subjID in subjlist:\n",
    "\n",
    "        iA = HCP_r.index.get_loc(subjID)\n",
    "        iB = HCP_u.index.get_loc(subjID)\n",
    "        iC = df.index.get_loc(subjID)\n",
    "\n",
    "        df.iloc[iC]['age'] = HCP_r.iloc[iA]['Age_in_Yrs']\n",
    "        df.iloc[iC]['sex'] = HCP_u.iloc[iB]['Gender']\n",
    "\n",
    "        # get the hippocampus-to-cortex connectivity for each subject \n",
    "        subjconn_left = os.path.join(conndir, 'HCP_' + subjID + '_right.h5')\n",
    "        with h5py.File(subjconn_left, \"r\") as f:        \n",
    "            subjdata_left = np.array(f['HCP_'+subjID])   # (4096, 360)\n",
    "\n",
    "        conn = subjdata_left[j+1024+2048,:]    \n",
    "\n",
    "        df.iloc[iC][node_str] = conn.reshape(len(conn))\n",
    "    \n",
    "    # drop NaN's and save\n",
    "    df = df.dropna()\n",
    "    df.to_csv(fc_name)"
   ]
  },
  {
   "cell_type": "code",
   "execution_count": null,
   "metadata": {},
   "outputs": [],
   "source": []
  }
 ],
 "metadata": {
  "kernelspec": {
   "display_name": "Python [conda env:hippoc]",
   "language": "python",
   "name": "conda-env-hippoc-py"
  },
  "language_info": {
   "codemirror_mode": {
    "name": "ipython",
    "version": 3
   },
   "file_extension": ".py",
   "mimetype": "text/x-python",
   "name": "python",
   "nbconvert_exporter": "python",
   "pygments_lexer": "ipython3",
   "version": "3.6.10"
  }
 },
 "nbformat": 4,
 "nbformat_minor": 4
}
