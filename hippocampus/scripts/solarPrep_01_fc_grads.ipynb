{
 "cells": [
  {
   "cell_type": "code",
   "execution_count": 1,
   "metadata": {},
   "outputs": [],
   "source": [
    "import os\n",
    "import h5py\n",
    "import numpy as np\n",
    "import pandas as pd\n",
    "from scipy.io import loadmat\n",
    "from scipy.stats import pearsonr"
   ]
  },
  {
   "cell_type": "markdown",
   "metadata": {},
   "source": [
    "### get the HCP demographics"
   ]
  },
  {
   "cell_type": "code",
   "execution_count": 2,
   "metadata": {},
   "outputs": [],
   "source": [
    "HCP_u = pd.read_csv('../data/HCP_solar/HCP_s1200_unrestricted.csv', \n",
    "                    index_col = 0)\n",
    "\n",
    "HCP_u.index = HCP_u.index.map(str)\n",
    "\n",
    "HCP_r = pd.read_csv('../data/HCP_solar/HCP_s1200_restricted.csv', \n",
    "                    index_col = 0)\n",
    "\n",
    "HCP_r.index = HCP_r.index.map(str)\n"
   ]
  },
  {
   "cell_type": "code",
   "execution_count": 3,
   "metadata": {},
   "outputs": [
    {
     "data": {
      "text/plain": [
       "(1206, 1206)"
      ]
     },
     "execution_count": 3,
     "metadata": {},
     "output_type": "execute_result"
    }
   ],
   "source": [
    "len(HCP_u), len(HCP_r)"
   ]
  },
  {
   "cell_type": "markdown",
   "metadata": {},
   "source": [
    "### combine S900 Gradients with HCP demogr."
   ]
  },
  {
   "cell_type": "code",
   "execution_count": 4,
   "metadata": {},
   "outputs": [
    {
     "data": {
      "text/plain": [
       "709"
      ]
     },
     "execution_count": 4,
     "metadata": {},
     "output_type": "execute_result"
    }
   ],
   "source": [
    "# get HCP - S900 subject list        \n",
    "subjlist = '../data/subjectListS900_QC_gr.txt'\n",
    "f = open(subjlist); mylist = f.read().split(\"\\n\"); f.close() \n",
    "subjlist = joinedlist = mylist[:-1]\n",
    "\n",
    "len(subjlist)"
   ]
  },
  {
   "cell_type": "markdown",
   "metadata": {},
   "source": [
    "### G1, LSUB"
   ]
  },
  {
   "cell_type": "code",
   "execution_count": 5,
   "metadata": {},
   "outputs": [
    {
     "name": "stdout",
     "output_type": "stream",
     "text": [
      "709\n",
      "1024\n"
     ]
    }
   ],
   "source": [
    "mysubjects = []\n",
    "\n",
    "for subj in subjlist:\n",
    "    mysubjects.append(subj)\n",
    "print(len(mysubjects))\n",
    "\n",
    "tot_node_num_lsub = 1024 # subiculum has 1024 vertices\n",
    "node_str = []\n",
    "for i in range(1, tot_node_num_lsub+1):\n",
    "    node_str.append('node_'+ str(i))\n",
    "print(len(node_str))\n",
    "node_str[0], '....', node_str[-1]\n",
    "\n",
    "mycols = ['age', 'sex'] + node_str \n",
    "\n",
    "df = pd.DataFrame(index = mysubjects,\n",
    "                 columns = mycols)\n",
    "df.index.name = 'id'"
   ]
  },
  {
   "cell_type": "code",
   "execution_count": 6,
   "metadata": {},
   "outputs": [],
   "source": [
    "gdir = '../data/tout_hippoc_grad_flipped_msm50'\n",
    "\n",
    "for subjID in mysubjects:\n",
    "    \n",
    "    iA = HCP_r.index.get_loc(subjID)\n",
    "    iB = HCP_u.index.get_loc(subjID)\n",
    "    iC = df.index.get_loc(subjID)\n",
    "\n",
    "    df.iloc[iC]['age'] = HCP_r.iloc[iA]['Age_in_Yrs']\n",
    "    df.iloc[iC]['sex'] = HCP_u.iloc[iB]['Gender']\n",
    "\n",
    "    gfile_LSUB = h5py.File(os.path.join(gdir, 'HCP_' + subjID + '_G1_LSUB.h5'), 'r')\n",
    "    g1_LSUB = np.array(gfile_LSUB[subjID])  \n",
    "    gfile_LSUB.close()\n",
    "\n",
    "    df.iloc[iC][node_str] = g1_LSUB\n"
   ]
  },
  {
   "cell_type": "code",
   "execution_count": 7,
   "metadata": {},
   "outputs": [
    {
     "name": "stdout",
     "output_type": "stream",
     "text": [
      "709\n"
     ]
    }
   ],
   "source": [
    "print(len(df))\n",
    "df = df.dropna()\n",
    "df.to_csv('../solar/msm50_G1_LSUB/G1_LSUB.csv')"
   ]
  },
  {
   "cell_type": "code",
   "execution_count": null,
   "metadata": {},
   "outputs": [],
   "source": []
  },
  {
   "cell_type": "markdown",
   "metadata": {},
   "source": [
    "### G1, LCA"
   ]
  },
  {
   "cell_type": "code",
   "execution_count": 8,
   "metadata": {},
   "outputs": [
    {
     "name": "stdout",
     "output_type": "stream",
     "text": [
      "709\n",
      "2048\n"
     ]
    }
   ],
   "source": [
    "mysubjects = []\n",
    "\n",
    "for subj in subjlist:\n",
    "    mysubjects.append(subj)\n",
    "print(len(mysubjects))\n",
    "\n",
    "tot_node_num_lca = 2048 ## CA has 2048 vertices\n",
    "node_str = []\n",
    "for i in range(1, tot_node_num_lca+1):\n",
    "    node_str.append('node_'+ str(i))\n",
    "print(len(node_str))\n",
    "node_str[0], '....', node_str[-1]\n",
    "\n",
    "mycols = ['age', 'sex'] + node_str\n",
    "len(mycols)\n",
    "\n",
    "df = pd.DataFrame(index = mysubjects,\n",
    "                 columns = mycols)\n",
    "df.index.name = 'id'"
   ]
  },
  {
   "cell_type": "code",
   "execution_count": 9,
   "metadata": {},
   "outputs": [],
   "source": [
    "gdir = '../data/tout_hippoc_grad_flipped_msm50'\n",
    "\n",
    "for subjID in mysubjects:\n",
    "    \n",
    "    iA = HCP_r.index.get_loc(subjID)\n",
    "    iB = HCP_u.index.get_loc(subjID)\n",
    "    iC = df.index.get_loc(subjID)\n",
    "\n",
    "    df.iloc[iC]['age'] = HCP_r.iloc[iA]['Age_in_Yrs']\n",
    "    df.iloc[iC]['sex'] = HCP_u.iloc[iB]['Gender']\n",
    "\n",
    "    gfile_LCA = h5py.File(os.path.join(gdir, 'HCP_' + subjID + '_G1_LCA.h5'), 'r')\n",
    "    g1_LCA = np.array(gfile_LCA[subjID])  \n",
    "    gfile_LCA.close()\n",
    "    \n",
    "    df.iloc[iC][node_str] = g1_LCA\n"
   ]
  },
  {
   "cell_type": "code",
   "execution_count": 10,
   "metadata": {},
   "outputs": [
    {
     "name": "stdout",
     "output_type": "stream",
     "text": [
      "709\n"
     ]
    }
   ],
   "source": [
    "print(len(df))\n",
    "df = df.dropna()\n",
    "df.to_csv('../solar/msm50_G1_LCA/G1_LCA.csv')"
   ]
  },
  {
   "cell_type": "code",
   "execution_count": null,
   "metadata": {},
   "outputs": [],
   "source": []
  },
  {
   "cell_type": "markdown",
   "metadata": {},
   "source": [
    "### G1, LDG"
   ]
  },
  {
   "cell_type": "code",
   "execution_count": 11,
   "metadata": {},
   "outputs": [
    {
     "name": "stdout",
     "output_type": "stream",
     "text": [
      "709\n",
      "1024\n"
     ]
    }
   ],
   "source": [
    "mysubjects = []\n",
    "\n",
    "for subj in subjlist:\n",
    "    mysubjects.append(subj)\n",
    "print(len(mysubjects))\n",
    "\n",
    "tot_node_num_ldg = 1024 ## DG has 1024 points \n",
    "node_str = []\n",
    "for i in range(1, tot_node_num_ldg+1):\n",
    "    node_str.append('node_'+ str(i))\n",
    "print(len(node_str))\n",
    "node_str[0], '....', node_str[-1]\n",
    "\n",
    "mycols = ['age', 'sex'] + node_str \n",
    "len(mycols)\n",
    "\n",
    "df = pd.DataFrame(index = mysubjects,\n",
    "                 columns = mycols)\n",
    "df.index.name = 'id'"
   ]
  },
  {
   "cell_type": "code",
   "execution_count": 12,
   "metadata": {},
   "outputs": [],
   "source": [
    "gdir = '../data/tout_hippoc_grad_flipped_msm50'\n",
    "\n",
    "for subjID in mysubjects:\n",
    "    \n",
    "    iA = HCP_r.index.get_loc(subjID)\n",
    "    iB = HCP_u.index.get_loc(subjID)\n",
    "    iC = df.index.get_loc(subjID)\n",
    "\n",
    "    df.iloc[iC]['age'] = HCP_r.iloc[iA]['Age_in_Yrs']\n",
    "    df.iloc[iC]['sex'] = HCP_u.iloc[iB]['Gender']\n",
    "\n",
    "    gfile_LDG = h5py.File(os.path.join(gdir, 'HCP_' + subjID + '_G1_LDG.h5'), 'r')\n",
    "    g1_LDG = np.array(gfile_LDG[subjID])  \n",
    "    gfile_LDG.close()\n",
    "    \n",
    "    df.iloc[iC][node_str] = g1_LDG\n",
    "\n",
    "    \n"
   ]
  },
  {
   "cell_type": "code",
   "execution_count": 13,
   "metadata": {},
   "outputs": [
    {
     "name": "stdout",
     "output_type": "stream",
     "text": [
      "709\n"
     ]
    }
   ],
   "source": [
    "print(len(df))\n",
    "df = df.dropna()\n",
    "df.to_csv('../solar/msm50_G1_LDG/G1_LDG.csv')"
   ]
  },
  {
   "cell_type": "code",
   "execution_count": null,
   "metadata": {},
   "outputs": [],
   "source": []
  },
  {
   "cell_type": "markdown",
   "metadata": {},
   "source": [
    "### G2, LSUB"
   ]
  },
  {
   "cell_type": "code",
   "execution_count": 14,
   "metadata": {},
   "outputs": [
    {
     "name": "stdout",
     "output_type": "stream",
     "text": [
      "709\n",
      "1024\n"
     ]
    }
   ],
   "source": [
    "mysubjects = []\n",
    "\n",
    "for subj in subjlist:\n",
    "    mysubjects.append(subj)\n",
    "print(len(mysubjects))\n",
    "\n",
    "tot_node_num_lsub = 1024 \n",
    "node_str = []\n",
    "for i in range(1, tot_node_num_lsub+1):\n",
    "    node_str.append('node_'+ str(i))\n",
    "print(len(node_str))\n",
    "node_str[0], '....', node_str[-1]\n",
    "\n",
    "mycols = ['age', 'sex'] + node_str \n",
    "\n",
    "df = pd.DataFrame(index = mysubjects,\n",
    "                 columns = mycols)\n",
    "df.index.name = 'id'"
   ]
  },
  {
   "cell_type": "code",
   "execution_count": 15,
   "metadata": {},
   "outputs": [],
   "source": [
    "gdir = '../data/tout_hippoc_grad_flipped_msm50'\n",
    "\n",
    "for subjID in mysubjects:\n",
    "    \n",
    "    iA = HCP_r.index.get_loc(subjID)\n",
    "    iB = HCP_u.index.get_loc(subjID)\n",
    "    iC = df.index.get_loc(subjID)\n",
    "\n",
    "    df.iloc[iC]['age'] = HCP_r.iloc[iA]['Age_in_Yrs']\n",
    "    df.iloc[iC]['sex'] = HCP_u.iloc[iB]['Gender']\n",
    "\n",
    "    gfile_LSUB = h5py.File(os.path.join(gdir, 'HCP_' + subjID + '_G2_LSUB.h5'), 'r')\n",
    "    g2_LSUB = np.array(gfile_LSUB[subjID])  \n",
    "    gfile_LSUB.close()\n",
    "\n",
    "    df.iloc[iC][node_str] = g2_LSUB\n"
   ]
  },
  {
   "cell_type": "code",
   "execution_count": 16,
   "metadata": {},
   "outputs": [
    {
     "name": "stdout",
     "output_type": "stream",
     "text": [
      "709\n"
     ]
    }
   ],
   "source": [
    "print(len(df))\n",
    "df = df.dropna()\n",
    "df.to_csv('../solar/msm50_G2_LSUB/G2_LSUB.csv')"
   ]
  },
  {
   "cell_type": "code",
   "execution_count": null,
   "metadata": {},
   "outputs": [],
   "source": []
  },
  {
   "cell_type": "markdown",
   "metadata": {},
   "source": [
    "### G2, LCA"
   ]
  },
  {
   "cell_type": "code",
   "execution_count": 17,
   "metadata": {},
   "outputs": [
    {
     "name": "stdout",
     "output_type": "stream",
     "text": [
      "709\n",
      "2048\n"
     ]
    }
   ],
   "source": [
    "mysubjects = []\n",
    "\n",
    "for subj in subjlist:\n",
    "    mysubjects.append(subj)\n",
    "print(len(mysubjects))\n",
    "\n",
    "tot_node_num_lca = 2048 ## because ca has 2048 points \n",
    "node_str = []\n",
    "for i in range(1, tot_node_num_lca+1):\n",
    "    node_str.append('node_'+ str(i))\n",
    "print(len(node_str))\n",
    "node_str[0], '....', node_str[-1]\n",
    "\n",
    "mycols = ['age', 'sex'] + node_str \n",
    "\n",
    "df = pd.DataFrame(index = mysubjects,\n",
    "                 columns = mycols)\n",
    "df.index.name = 'id'"
   ]
  },
  {
   "cell_type": "code",
   "execution_count": 18,
   "metadata": {},
   "outputs": [],
   "source": [
    "gdir = '../data/tout_hippoc_grad_flipped_msm50'\n",
    "\n",
    "for subjID in mysubjects:\n",
    "    \n",
    "    iA = HCP_r.index.get_loc(subjID)\n",
    "    iB = HCP_u.index.get_loc(subjID)\n",
    "    iC = df.index.get_loc(subjID)\n",
    "\n",
    "    df.iloc[iC]['age'] = HCP_r.iloc[iA]['Age_in_Yrs']\n",
    "    df.iloc[iC]['sex'] = HCP_u.iloc[iB]['Gender']\n",
    "\n",
    "    gfile_LCA = h5py.File(os.path.join(gdir, 'HCP_' + subjID + '_G2_LCA.h5'), 'r')\n",
    "    g2_LCA = np.array(gfile_LCA[subjID])  \n",
    "    gfile_LCA.close()\n",
    "    \n",
    "    df.iloc[iC][node_str] = g2_LCA\n"
   ]
  },
  {
   "cell_type": "code",
   "execution_count": 19,
   "metadata": {},
   "outputs": [
    {
     "name": "stdout",
     "output_type": "stream",
     "text": [
      "709\n"
     ]
    }
   ],
   "source": [
    "print(len(df))\n",
    "df = df.dropna()\n",
    "df.to_csv('../solar/msm50_G2_LCA/G2_LCA.csv')"
   ]
  },
  {
   "cell_type": "code",
   "execution_count": null,
   "metadata": {},
   "outputs": [],
   "source": []
  },
  {
   "cell_type": "markdown",
   "metadata": {},
   "source": [
    "### G2, LDG"
   ]
  },
  {
   "cell_type": "code",
   "execution_count": 20,
   "metadata": {},
   "outputs": [
    {
     "name": "stdout",
     "output_type": "stream",
     "text": [
      "709\n",
      "1024\n"
     ]
    }
   ],
   "source": [
    "mysubjects = []\n",
    "\n",
    "for subj in subjlist:\n",
    "    mysubjects.append(subj)\n",
    "print(len(mysubjects))\n",
    "\n",
    "tot_node_num_ldg = 1024 \n",
    "node_str = []\n",
    "for i in range(1, tot_node_num_ldg+1):\n",
    "    node_str.append('node_'+ str(i))\n",
    "print(len(node_str))\n",
    "node_str[0], '....', node_str[-1]\n",
    "\n",
    "mycols = ['age', 'sex'] + node_str \n",
    "len(mycols)\n",
    "\n",
    "df = pd.DataFrame(index = mysubjects,\n",
    "                 columns = mycols)\n",
    "df.index.name = 'id'"
   ]
  },
  {
   "cell_type": "code",
   "execution_count": 21,
   "metadata": {},
   "outputs": [],
   "source": [
    "gdir = '../data/tout_hippoc_grad_flipped_msm50'\n",
    "\n",
    "for subjID in mysubjects:\n",
    "    \n",
    "    iA = HCP_r.index.get_loc(subjID)\n",
    "    iB = HCP_u.index.get_loc(subjID)\n",
    "    iC = df.index.get_loc(subjID)\n",
    "\n",
    "    df.iloc[iC]['age'] = HCP_r.iloc[iA]['Age_in_Yrs']\n",
    "    df.iloc[iC]['sex'] = HCP_u.iloc[iB]['Gender']\n",
    "\n",
    "    gfile_LDG = h5py.File(os.path.join(gdir, 'HCP_' + subjID + '_G2_LDG.h5'), 'r')\n",
    "    g2_LDG = np.array(gfile_LDG[subjID])  \n",
    "    gfile_LDG.close()\n",
    "    \n",
    "    df.iloc[iC][node_str] = g2_LDG\n",
    "\n",
    "    \n"
   ]
  },
  {
   "cell_type": "code",
   "execution_count": 22,
   "metadata": {},
   "outputs": [
    {
     "name": "stdout",
     "output_type": "stream",
     "text": [
      "709\n"
     ]
    }
   ],
   "source": [
    "print(len(df))\n",
    "df = df.dropna()\n",
    "df.to_csv('../solar/msm50_G2_LDG/G2_LDG.csv')"
   ]
  },
  {
   "cell_type": "code",
   "execution_count": null,
   "metadata": {},
   "outputs": [],
   "source": []
  },
  {
   "cell_type": "code",
   "execution_count": null,
   "metadata": {},
   "outputs": [],
   "source": []
  }
 ],
 "metadata": {
  "kernelspec": {
   "display_name": "Python [conda env:surfstat] *",
   "language": "python",
   "name": "conda-env-surfstat-py"
  },
  "language_info": {
   "codemirror_mode": {
    "name": "ipython",
    "version": 3
   },
   "file_extension": ".py",
   "mimetype": "text/x-python",
   "name": "python",
   "nbconvert_exporter": "python",
   "pygments_lexer": "ipython3",
   "version": "3.6.10"
  }
 },
 "nbformat": 4,
 "nbformat_minor": 4
}
