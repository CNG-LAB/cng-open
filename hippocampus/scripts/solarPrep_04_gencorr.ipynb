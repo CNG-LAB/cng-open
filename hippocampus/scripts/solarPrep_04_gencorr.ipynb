{
 "cells": [
  {
   "cell_type": "code",
   "execution_count": 1,
   "metadata": {},
   "outputs": [],
   "source": [
    "import os\n",
    "import h5py\n",
    "import numpy as np\n",
    "import pandas as pd\n",
    "from scipy.stats import pearsonr\n",
    "from numpy import genfromtxt   \n",
    "import nibabel as nb\n",
    "from brainspace.utils.parcellation import reduce_by_labels\n",
    "from brainspace.utils.parcellation import map_to_labels\n",
    "import matplotlib.pyplot as plt\n",
    "from nilearn import plotting\n"
   ]
  },
  {
   "cell_type": "markdown",
   "metadata": {},
   "source": [
    "### get HCP - S900 subject list "
   ]
  },
  {
   "cell_type": "code",
   "execution_count": 2,
   "metadata": {},
   "outputs": [
    {
     "name": "stdout",
     "output_type": "stream",
     "text": [
      "709\n"
     ]
    }
   ],
   "source": [
    "subjlist = '../data/subjectListS900_QC_gr.txt'\n",
    "f = open(subjlist); mylist = f.read().split(\"\\n\"); f.close() \n",
    "subjlist = joinedlist = mylist[:-1]\n",
    "\n",
    "mysubjects = []\n",
    "\n",
    "for subj in subjlist:\n",
    "    mysubjects.append(subj)\n",
    "print(len(mysubjects))\n"
   ]
  },
  {
   "cell_type": "markdown",
   "metadata": {},
   "source": [
    "### get HCP demographics"
   ]
  },
  {
   "cell_type": "code",
   "execution_count": 3,
   "metadata": {},
   "outputs": [
    {
     "data": {
      "text/plain": [
       "(1206, 1206)"
      ]
     },
     "execution_count": 3,
     "metadata": {},
     "output_type": "execute_result"
    }
   ],
   "source": [
    "HCP_u = pd.read_csv('../data/HCP_solar/HCP_s1200_unrestricted.csv', \n",
    "                    index_col = 0)\n",
    "\n",
    "HCP_u.index = HCP_u.index.map(str)\n",
    "\n",
    "HCP_r = pd.read_csv('../data/HCP_solar/HCP_s1200_restricted.csv', \n",
    "                    index_col = 0)\n",
    "\n",
    "HCP_r.index = HCP_r.index.map(str)\n",
    "\n",
    "len(HCP_u.index), len(HCP_r.index)"
   ]
  },
  {
   "cell_type": "markdown",
   "metadata": {},
   "source": [
    "### get myelin in vivo-measures for subfields and cortex"
   ]
  },
  {
   "cell_type": "code",
   "execution_count": 4,
   "metadata": {},
   "outputs": [],
   "source": [
    "mye_cortex_fname = '../data/tout_group/H709_mye_cortex.h5'\n",
    "mye_subfie_fname = '../data/tout_group/H709_mye_subfields.h5'\n",
    "\n",
    "h1 = h5py.File(mye_cortex_fname, 'r');\n",
    "h2 = h5py.File(mye_subfie_fname, 'r');\n",
    "\n",
    "mye_cortex = np.array(h1['data'])\n",
    "mye_subfie = np.array(h2['data'])\n",
    "\n",
    "mye_LSUB = mye_subfie[0:1024,:]\n",
    "mye_LCA  = mye_subfie[1024:1024+2048,:]\n",
    "mye_LDG  = mye_subfie[1024+2048:1024+2048+1024,:]\n",
    "\n",
    "mye_LSUB_cortex_concat = np.concatenate((mye_cortex.T, mye_LSUB.T), axis=1)\n",
    "mye_LCA_cortex_concat  = np.concatenate((mye_cortex.T, mye_LCA.T), axis=1)\n",
    "mye_LDG_cortex_concat  = np.concatenate((mye_cortex.T, mye_LDG.T), axis=1)"
   ]
  },
  {
   "cell_type": "code",
   "execution_count": 5,
   "metadata": {},
   "outputs": [
    {
     "name": "stdout",
     "output_type": "stream",
     "text": [
      "(709, 1384)\n",
      "(709, 2408)\n",
      "(709, 1384)\n"
     ]
    }
   ],
   "source": [
    "print(mye_LSUB_cortex_concat.shape)\n",
    "print(mye_LCA_cortex_concat.shape)\n",
    "print(mye_LDG_cortex_concat.shape)"
   ]
  },
  {
   "cell_type": "markdown",
   "metadata": {},
   "source": [
    "## prepare cortex - LSUB data for solar analysis"
   ]
  },
  {
   "cell_type": "code",
   "execution_count": 6,
   "metadata": {
    "scrolled": true
   },
   "outputs": [],
   "source": [
    "conndir  = '../data/tout_hippoc/' \n",
    "odir = '../solar/scov_lsub'\n",
    "\n",
    "# we'll have 360 nodes (Glasser vertex number)\n",
    "for i in range(1,361):\n",
    "\n",
    "    node_str = []\n",
    "    node_str.append('nodeC_'+ str(i))\n",
    "\n",
    "    tot_node_num_hipp = 1024\n",
    "    for j in range(1, tot_node_num_hipp+1):\n",
    "        node_str.append('nodeH_'+ str(j))\n",
    "    \n",
    "    mycols = ['age', 'sex'] + node_str \n",
    "\n",
    "    df = pd.DataFrame(index = mysubjects,\n",
    "                     columns = mycols)\n",
    "    df.index.name = 'id'\n",
    "    \n",
    "    # generate sub dir and fname    \n",
    "    sub_name  = os.path.join(os.path.join(odir, 'scov_lsub_%s' % str(i)))\n",
    "    sub_fname = os.path.join(sub_name, 'scov.csv')\n",
    "    \n",
    "    if not os.path.isdir(sub_name):\n",
    "        os.makedirs(sub_name)\n",
    "\n",
    "    k = 0        \n",
    "\n",
    "    for subj in subjlist:\n",
    "\n",
    "        iA = HCP_r.index.get_loc(subj)\n",
    "        iB = HCP_u.index.get_loc(subj)\n",
    "        iC = df.index.get_loc(subj)\n",
    "\n",
    "        df.iloc[iC]['age'] = HCP_r.iloc[iA]['Age_in_Yrs']\n",
    "        df.iloc[iC]['sex'] = HCP_u.iloc[iB]['Gender']\n",
    "\n",
    "        mye = np.concatenate((mye_LSUB_cortex_concat[:, (i-1)].reshape(-1,1), \n",
    "                              mye_LSUB_cortex_concat[:, 360:]), axis=1)    \n",
    "\n",
    "        mye = mye[k,:] + 1000\n",
    " \n",
    "        df.iloc[iC][node_str] = mye.reshape(len(mye))     \n",
    "\n",
    "        k += 1\n",
    "\n",
    "    # drop NaN's and save\n",
    "    df = df.dropna()\n",
    "    df.to_csv(sub_fname)\n",
    "    "
   ]
  },
  {
   "cell_type": "code",
   "execution_count": null,
   "metadata": {},
   "outputs": [],
   "source": []
  },
  {
   "cell_type": "markdown",
   "metadata": {},
   "source": [
    "# cortex-LCA"
   ]
  },
  {
   "cell_type": "code",
   "execution_count": 7,
   "metadata": {
    "scrolled": true
   },
   "outputs": [],
   "source": [
    "conndir  = '../data/tout_hippoc/' \n",
    "odir = '../solar/scov_lca'\n",
    "\n",
    "# we'll have 360 nodes (Glasser vertex number)\n",
    "for i in range(1,361):\n",
    "\n",
    "    node_str = []\n",
    "\n",
    "    node_str.append('nodeC_'+ str(i))\n",
    "\n",
    "    tot_node_num_hipp = 2048\n",
    "    for j in range(1, tot_node_num_hipp+1):\n",
    "        node_str.append('nodeH_'+ str(j))\n",
    "    \n",
    "    mycols = ['age', 'sex'] + node_str \n",
    "\n",
    "    df = pd.DataFrame(index = mysubjects,\n",
    "                     columns = mycols)\n",
    "    df.index.name = 'id'\n",
    "    \n",
    "    # generate sub dir and fname    \n",
    "    sub_name  = os.path.join(os.path.join(odir, 'scov_lca_%s' % str(i)))\n",
    "    sub_fname = os.path.join(sub_name, 'scov.csv')\n",
    "    \n",
    "    if not os.path.isdir(sub_name):\n",
    "        os.makedirs(sub_name)\n",
    "\n",
    "    k = 0        \n",
    "\n",
    "    for subj in subjlist:\n",
    "\n",
    "        iA = HCP_r.index.get_loc(subj)\n",
    "        iB = HCP_u.index.get_loc(subj)\n",
    "        iC = df.index.get_loc(subj)\n",
    "\n",
    "        df.iloc[iC]['age'] = HCP_r.iloc[iA]['Age_in_Yrs']\n",
    "        df.iloc[iC]['sex'] = HCP_u.iloc[iB]['Gender']\n",
    "\n",
    "        mye = np.concatenate((mye_LCA_cortex_concat[:, (i-1)].reshape(-1,1), \n",
    "                              mye_LCA_cortex_concat[:, 360:]), axis=1)    \n",
    "\n",
    "        mye = mye[k,:] + 1000\n",
    " \n",
    "        df.iloc[iC][node_str] = mye.reshape(len(mye))     \n",
    "\n",
    "        k += 1\n",
    "\n",
    "    # drop NaN's and save\n",
    "    df = df.dropna()\n",
    "    df.to_csv(sub_fname)\n",
    "    "
   ]
  },
  {
   "cell_type": "markdown",
   "metadata": {},
   "source": [
    "# cortex - LDG"
   ]
  },
  {
   "cell_type": "code",
   "execution_count": 8,
   "metadata": {},
   "outputs": [],
   "source": [
    "conndir  = '../data/tout_hippoc/' \n",
    "odir = '../solar/scov_ldg'\n",
    "\n",
    "for i in range(1,361):\n",
    "\n",
    "    node_str = []\n",
    "    node_str.append('nodeC_'+ str(i))\n",
    "\n",
    "    tot_node_num_hipp = 1024\n",
    "    for j in range(1, tot_node_num_hipp+1):\n",
    "        node_str.append('nodeH_'+ str(j))\n",
    "    \n",
    "    mycols = ['age', 'sex'] + node_str \n",
    "\n",
    "    df = pd.DataFrame(index = mysubjects,\n",
    "                     columns = mycols)\n",
    "    df.index.name = 'id'\n",
    "    \n",
    "    # generate sub dir and fname    \n",
    "    sub_name  = os.path.join(os.path.join(odir, 'scov_ldg_%s' % str(i)))\n",
    "    sub_fname = os.path.join(sub_name, 'scov.csv')\n",
    "    \n",
    "    if not os.path.isdir(sub_name):\n",
    "        os.makedirs(sub_name)\n",
    "\n",
    "    k = 0        \n",
    "\n",
    "    for subj in subjlist:\n",
    "\n",
    "        iA = HCP_r.index.get_loc(subj)\n",
    "        iB = HCP_u.index.get_loc(subj)\n",
    "        iC = df.index.get_loc(subj)\n",
    "\n",
    "        df.iloc[iC]['age'] = HCP_r.iloc[iA]['Age_in_Yrs']\n",
    "        df.iloc[iC]['sex'] = HCP_u.iloc[iB]['Gender']\n",
    "\n",
    "        mye = np.concatenate((mye_LDG_cortex_concat[:, (i-1)].reshape(-1,1), \n",
    "                              mye_LDG_cortex_concat[:, 360:]), axis=1)    \n",
    "        mye = mye[k,:] + 1000\n",
    "\n",
    "        df.iloc[iC][node_str] = mye.reshape(len(mye))     \n",
    "\n",
    "        k += 1\n",
    "\n",
    "    # drop NaN's and save\n",
    "    df = df.dropna()\n",
    "    df.to_csv(sub_fname)\n",
    "    "
   ]
  },
  {
   "cell_type": "code",
   "execution_count": null,
   "metadata": {},
   "outputs": [],
   "source": []
  },
  {
   "cell_type": "code",
   "execution_count": null,
   "metadata": {},
   "outputs": [],
   "source": []
  },
  {
   "cell_type": "code",
   "execution_count": null,
   "metadata": {},
   "outputs": [],
   "source": []
  }
 ],
 "metadata": {
  "kernelspec": {
   "display_name": "Python [conda env:hippoc]",
   "language": "python",
   "name": "conda-env-hippoc-py"
  },
  "language_info": {
   "codemirror_mode": {
    "name": "ipython",
    "version": 3
   },
   "file_extension": ".py",
   "mimetype": "text/x-python",
   "name": "python",
   "nbconvert_exporter": "python",
   "pygments_lexer": "ipython3",
   "version": "3.6.10"
  }
 },
 "nbformat": 4,
 "nbformat_minor": 4
}
