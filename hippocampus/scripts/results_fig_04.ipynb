{
 "cells": [
  {
   "cell_type": "code",
   "execution_count": null,
   "metadata": {},
   "outputs": [],
   "source": [
    "import os, sys\n",
    "import h5py\n",
    "import numpy as np\n",
    "from numpy import genfromtxt\n",
    "import pandas as pd\n",
    "from scipy.stats import pearsonr, spearmanr\n",
    "import matplotlib.pyplot as plt\n",
    "import seaborn as sns\n",
    "import plot_funcs                                \n",
    "from plot_funcs import make_spider_rvalues, plot_sorted_df           \n"
   ]
  },
  {
   "cell_type": "raw",
   "metadata": {},
   "source": [
    "### DATA \n",
    "\n",
    "### ../data/tout_group/Hmean709connGradients_left.h5         -> s01_hipp_fc_grads.py\n",
    "### ../data/tout_group/Hmean709_FC_herit_gradients_left.h5   -> s06_hipp_fc_herit_grads.py\n",
    "### ../data/tout_group/H709_t1wt2w_lsub.h5                   -> s07_hipp_t1wt2w.py\n",
    "### ../data/tout_group/H709_t1wt2w_lca.h5                    -> s07_hipp_t1wt2w.py\n",
    "### ../data/tout_group/H709_t1wt2w_ldg.h5                    -> s07_hipp_t1wt2w.py\n",
    "### ../data/tout_group/Hmean709scovGradients_left.h5         -> s10_hipp_scov_grads.py\n",
    "### ../data/tout_group/Hmean709genGradients_left.h5          -> s12_hipp_gencorr_grads.py\n",
    "### ../data/tout_group/Hmean709_coupling_left.h5             -> s14_hipp_coupling.py\n"
   ]
  },
  {
   "cell_type": "markdown",
   "metadata": {},
   "source": [
    "## read-in and plot coupling maps"
   ]
  },
  {
   "cell_type": "code",
   "execution_count": null,
   "metadata": {},
   "outputs": [],
   "source": [
    "ddir = '../data/tout_group/'\n",
    " \n",
    "h  = h5py.File(os.path.join(ddir, 'Hmean709_coupling_left.h5'), 'r');\n",
    "data = np.array(h['data'])\n",
    "\n",
    "r_lsub = data[0:1024,]\n",
    "r_lca  = data[1024:1024+2048,]\n",
    "r_ldg  = data[1024+2048:1024+2048+1024,]\n",
    "\n"
   ]
  },
  {
   "cell_type": "code",
   "execution_count": null,
   "metadata": {
    "scrolled": false
   },
   "outputs": [],
   "source": [
    "fig1 = plot_funcs.plot_surf_upper2(plot_funcs.xLSUB,\n",
    "                                  plot_funcs.yLSUB, \n",
    "                                  plot_funcs.zLSUB, \n",
    "                                  plot_funcs.triLSUB, \n",
    "                                  r_lsub, \n",
    "                                  'inferno', -0.4, 0.4)\n",
    "\n",
    "fig2 = plot_funcs.plot_surf_upper2(plot_funcs.xLCA,\n",
    "                                  plot_funcs.yLCA, \n",
    "                                  plot_funcs.zLCA, \n",
    "                                  plot_funcs.triLCA, \n",
    "                                  r_lca, \n",
    "                                  'inferno', -0.4, 0.4)\n",
    "\n",
    "fig3 = plot_funcs.plot_surf_upper2(plot_funcs.xLDG,\n",
    "                                  plot_funcs.yLDG, \n",
    "                                  plot_funcs.zLDG, \n",
    "                                  plot_funcs.triLDG, \n",
    "                                  r_ldg, \n",
    "                                  'inferno', -0.4, 0.4)\n",
    "\n",
    "#fig1.savefig('../figures/rcorr_meanSCOVFC_lsub.svg', dpi=300)\n",
    "#fig2.savefig('../figures/rcorr_meanSCOVFC_lca.svg',dpi=300)\n",
    "#fig3.savefig('../figures/rcorr_meanSCOVFC_ldg.svg',dpi=300)\n"
   ]
  },
  {
   "cell_type": "markdown",
   "metadata": {},
   "source": [
    "## associations between individual gradients"
   ]
  },
  {
   "cell_type": "markdown",
   "metadata": {},
   "source": [
    "### load gradients of structural intensity covariance"
   ]
  },
  {
   "cell_type": "code",
   "execution_count": null,
   "metadata": {},
   "outputs": [],
   "source": [
    "outdir = '../data/tout_group/'\n",
    "\n",
    "h = h5py.File(os.path.join(outdir, 'Hmean709scovGradients_left.h5'), 'r')\n",
    "data = np.array(h['data']).T\n",
    "\n",
    "G1_sic_LSUB = data[0:1024,0]\n",
    "G1_sic_LCA  = data[1024:1024+2048,0]\n",
    "G1_sic_LDG  = data[1024+2048:1024+2048+1024,0] \n",
    "\n",
    "G2_sic_LSUB = data[0:1024,1]\n",
    "G2_sic_LCA  = data[1024:1024+2048,1]\n",
    "G2_sic_LDG  = data[1024+2048:1024+2048+1024,1] \n"
   ]
  },
  {
   "cell_type": "markdown",
   "metadata": {},
   "source": [
    "### get fcon gradients"
   ]
  },
  {
   "cell_type": "code",
   "execution_count": null,
   "metadata": {},
   "outputs": [],
   "source": [
    "ddir = '../data/tout_group/'\n",
    "\n",
    "# read-in primary and secongardy gradients (G1 & G2) for individual subfields\n",
    "h1  = h5py.File(os.path.join(ddir, 'Hmean709connGradients_left.h5'), 'r');\n",
    "\n",
    "G1_fc_LSUB = np.array(h1['gradients_'][0:1024,0])\n",
    "G1_fc_LCA = np.array(h1['gradients_'][1024:1024+2048,0])\n",
    "G1_fc_LDG = np.array(h1['gradients_'][1024+2048:1024+2048+1024,0])\n",
    "\n",
    "G2_fc_LSUB = np.array(h1['gradients_'][0:1024,1])\n",
    "G2_fc_LCA = np.array(h1['gradients_'][1024:1024+2048,1])\n",
    "G2_fc_LDG = np.array(h1['gradients_'][1024+2048:1024+2048+1024,1])\n"
   ]
  },
  {
   "cell_type": "markdown",
   "metadata": {},
   "source": [
    "### get gradients of heritability"
   ]
  },
  {
   "cell_type": "code",
   "execution_count": null,
   "metadata": {},
   "outputs": [],
   "source": [
    "# read-in data: gradients of fc-heritability for subfields\n",
    "h = h5py.File('../data/tout_group/Hmean709_FC_herit_gradients_left.h5', 'r')\n",
    "\n",
    "G1_herit_LSUB = np.array(h['gradients'][0:1024,0])\n",
    "G1_herit_LCA = np.array(h['gradients'][1024:1024+2048,0])\n",
    "G1_herit_LDG = np.array(h['gradients'][1024+2048:1024+2048+1024,0])\n",
    "\n",
    "G2_herit_LSUB = np.array(h['gradients'][0:1024,1])\n",
    "G2_herit_LCA = np.array(h['gradients'][1024:1024+2048,1])\n",
    "G2_herit_LDG = np.array(h['gradients'][1024+2048:1024+2048+1024,1])\n"
   ]
  },
  {
   "cell_type": "markdown",
   "metadata": {},
   "source": [
    "### get T1w/T2w maps"
   ]
  },
  {
   "cell_type": "code",
   "execution_count": null,
   "metadata": {},
   "outputs": [],
   "source": [
    "h1 = h5py.File('../data/tout_group/H709_t1wt2w_lsub.h5', 'r') \n",
    "h2 = h5py.File('../data/tout_group/H709_t1wt2w_lca.h5', 'r') \n",
    "h3 = h5py.File('../data/tout_group/H709_t1wt2w_ldg.h5', 'r') \n",
    "\n",
    "group_t1wt2w_LSUB = np.array(h1['data']).mean(axis=0)\n",
    "group_t1wt2w_LCA  = np.array(h2['data']).mean(axis=0)\n",
    "group_t1wt2w_LDG  = np.array(h3['data']).mean(axis=0)\n",
    "\n",
    "\n",
    "print(group_t1wt2w_LSUB.min(), group_t1wt2w_LSUB.max())\n",
    "print(group_t1wt2w_LCA.min(), group_t1wt2w_LCA.max())\n",
    "print(group_t1wt2w_LDG.min(), group_t1wt2w_LDG.max())"
   ]
  },
  {
   "cell_type": "markdown",
   "metadata": {},
   "source": [
    "### get GEN gradients"
   ]
  },
  {
   "cell_type": "code",
   "execution_count": null,
   "metadata": {},
   "outputs": [],
   "source": [
    "g = h5py.File(os.path.join(outdir, 'Hmean709genGradients_left.h5'), 'r')\n",
    "data = np.array(g['data']).T\n",
    "\n",
    "\n",
    "G1_gen_LSUB = data[0:1024,0]\n",
    "G1_gen_LCA  = data[1024:1024+2048,0]\n",
    "G1_gen_LDG  = data[1024+2048:1024+2048+1024,0] \n",
    "\n",
    "G2_gen_LSUB = data[0:1024,1]\n",
    "G2_gen_LCA  = data[1024:1024+2048,1]\n",
    "G2_gen_LDG  = data[1024+2048:1024+2048+1024,1] \n"
   ]
  },
  {
   "cell_type": "code",
   "execution_count": null,
   "metadata": {},
   "outputs": [],
   "source": [
    "G1_gen_LSUB.shape"
   ]
  },
  {
   "cell_type": "markdown",
   "metadata": {},
   "source": [
    "### get coupling maps"
   ]
  },
  {
   "cell_type": "code",
   "execution_count": null,
   "metadata": {},
   "outputs": [],
   "source": [
    "g = h5py.File('../data/tout_group/Hmean709_coupling_left.h5', 'r')\n",
    "data = np.array(g['data'])\n",
    "\n",
    "r_LSUB = data[0:1024]\n",
    "r_LCA  = data[1024:1024+2048]\n",
    "r_LDG  = data[1024+2048:1024+2048+1024] "
   ]
  },
  {
   "cell_type": "markdown",
   "metadata": {},
   "source": [
    "## generate data frame"
   ]
  },
  {
   "cell_type": "code",
   "execution_count": null,
   "metadata": {},
   "outputs": [],
   "source": [
    "corrlist = ['g1_fc', #A-P\n",
    "            'g1_her',\n",
    "            'g1_sic',\n",
    "            'g1_gen',\n",
    "            'g2_sic',   \n",
    "            'coup',\n",
    "\n",
    "            'g2_fc', #M-L\n",
    "            'g2_her',\n",
    "            't1wt2',\n",
    "            'g2_gen',\n",
    "               ]\n",
    "\n",
    "df = pd.DataFrame(index = corrlist, columns = corrlist)\n"
   ]
  },
  {
   "cell_type": "markdown",
   "metadata": {},
   "source": [
    "### define a function to compute the R^2 (coefficient of determination)"
   ]
  },
  {
   "cell_type": "code",
   "execution_count": null,
   "metadata": {},
   "outputs": [],
   "source": [
    "import numpy\n",
    "\n",
    "# Polynomial Regression\n",
    "def polyfit(x, y, degree):\n",
    "    results = {}\n",
    "\n",
    "    coeffs = numpy.polyfit(x, y, degree)\n",
    "\n",
    "     # Polynomial Coefficients\n",
    "    results['polynomial'] = coeffs.tolist()\n",
    "\n",
    "    # r-squared\n",
    "    p = numpy.poly1d(coeffs)\n",
    "    # fit values, and mean\n",
    "    yhat = p(x)                         # or [p(z) for z in x]\n",
    "    ybar = numpy.sum(y)/len(y)          # or sum(y)/len(y)\n",
    "    ssreg = numpy.sum((yhat-ybar)**2)   # or sum([ (yihat - ybar)**2 for yihat in yhat])\n",
    "    sstot = numpy.sum((y - ybar)**2)    # or sum([ (yi - ybar)**2 for yi in y])\n",
    "    results['determination'] = ssreg / sstot\n",
    "\n",
    "    return results"
   ]
  },
  {
   "cell_type": "markdown",
   "metadata": {},
   "source": [
    "# SUB"
   ]
  },
  {
   "cell_type": "code",
   "execution_count": null,
   "metadata": {},
   "outputs": [],
   "source": [
    "df.loc['g1_fc']['g1_her'] = polyfit(G1_fc_LSUB, G1_herit_LSUB, 1)['determination']\n",
    "df.loc['g1_fc']['g2_her'] = polyfit(G1_fc_LSUB, G2_herit_LSUB, 1)['determination']\n",
    "df.loc['g1_fc']['g1_sic'] = polyfit(G1_fc_LSUB, G1_sic_LSUB, 1)['determination']\n",
    "df.loc['g1_fc']['g1_gen'] = polyfit(G1_fc_LSUB, G1_gen_LSUB, 1)['determination']\n",
    "df.loc['g1_fc']['coup'] = polyfit(G1_fc_LSUB, r_LSUB, 1)['determination']\n",
    "df.loc['g1_fc']['g2_fc'] = polyfit(G1_fc_LSUB, G2_fc_LSUB, 1)['determination']\n",
    "df.loc['g1_fc']['t1wt2'] = polyfit(G1_fc_LSUB, np.log(group_t1wt2w_LSUB), 1)['determination']\n",
    "df.loc['g1_fc']['g2_sic'] = polyfit(G1_fc_LSUB, G2_sic_LSUB, 1)['determination']\n",
    "df.loc['g1_fc']['g2_gen'] = polyfit(G1_fc_LSUB, G2_gen_LSUB, 1)['determination']\n",
    "\n",
    "df.loc['g1_sic']['g1_fc'] = polyfit(G1_sic_LSUB, G1_fc_LSUB, 1)['determination']\n",
    "df.loc['g1_sic']['g1_gen'] = polyfit(G1_sic_LSUB, G1_gen_LSUB, 1)['determination']\n",
    "df.loc['g1_sic']['coup'] = polyfit(G1_sic_LSUB, r_LSUB, 1)['determination']\n",
    "df.loc['g1_sic']['g2_fc'] = polyfit(G1_sic_LSUB, G2_fc_LSUB, 1)['determination']\n",
    "df.loc['g1_sic']['t1wt2'] = polyfit(G1_sic_LSUB, np.log(group_t1wt2w_LSUB), 1)['determination']\n",
    "df.loc['g1_sic']['g2_sic'] = polyfit(G1_sic_LSUB, G2_sic_LSUB, 1)['determination']\n",
    "df.loc['g1_sic']['g2_gen'] = polyfit(G1_sic_LSUB, G2_gen_LSUB, 1)['determination']\n",
    "df.loc['g1_sic']['g1_her'] = polyfit(G1_sic_LSUB, G1_herit_LSUB, 1)['determination']\n",
    "df.loc['g1_sic']['g2_her'] = polyfit(G1_sic_LSUB, G2_herit_LSUB, 1)['determination']\n",
    "\n",
    "df.loc['g1_gen']['g1_fc'] = polyfit(G1_gen_LSUB, G1_fc_LSUB, 1)['determination']\n",
    "df.loc['g1_gen']['g1_sic'] = polyfit(G1_gen_LSUB, G1_sic_LSUB, 1)['determination']\n",
    "df.loc['g1_gen']['coup'] = polyfit(G1_gen_LSUB, r_LSUB, 1)['determination']\n",
    "df.loc['g1_gen']['g2_fc'] = polyfit(G1_gen_LSUB, G2_fc_LSUB, 1)['determination']\n",
    "df.loc['g1_gen']['t1wt2'] = polyfit(G1_gen_LSUB, np.log(group_t1wt2w_LSUB), 1)['determination']\n",
    "df.loc['g1_gen']['g2_sic'] = polyfit(G1_gen_LSUB, G2_sic_LSUB, 1)['determination']\n",
    "df.loc['g1_gen']['g2_gen'] = polyfit(G1_gen_LSUB, G2_gen_LSUB, 1)['determination']\n",
    "df.loc['g1_gen']['g1_her'] = polyfit(G1_gen_LSUB, G1_herit_LSUB, 1)['determination']\n",
    "df.loc['g1_gen']['g2_her'] = polyfit(G1_gen_LSUB, G2_herit_LSUB, 1)['determination']\n",
    "df.loc['g1_gen']['g2_gen'] = polyfit(G1_gen_LSUB,  G2_gen_LSUB, 1)['determination']\n",
    "\n",
    "df.loc['coup']['g1_fc'] = polyfit(r_LSUB, G1_fc_LSUB, 1)['determination']\n",
    "df.loc['coup']['g1_sic'] = polyfit(r_LSUB, G1_sic_LSUB, 1)['determination']\n",
    "df.loc['coup']['g1_gen'] = polyfit(r_LSUB, G1_gen_LSUB, 1)['determination']\n",
    "df.loc['coup']['g2_fc'] = polyfit(r_LSUB, G2_fc_LSUB, 1)['determination']\n",
    "df.loc['coup']['t1wt2'] = polyfit(r_LSUB, np.log(group_t1wt2w_LSUB), 1)['determination']\n",
    "df.loc['coup']['g2_sic'] = polyfit(r_LSUB, G2_sic_LSUB, 1)['determination']\n",
    "df.loc['coup']['g2_gen'] = polyfit(r_LSUB, G2_gen_LSUB, 1)['determination']\n",
    "df.loc['coup']['g1_her'] = polyfit(r_LSUB, G1_herit_LSUB, 1)['determination']\n",
    "df.loc['coup']['g2_her'] = polyfit(r_LSUB, G2_herit_LSUB, 1)['determination']\n",
    "\n",
    "df.loc['g2_fc']['g1_fc'] = polyfit(G2_fc_LSUB, G1_fc_LSUB, 1)['determination']\n",
    "df.loc['g2_fc']['g1_sic'] = polyfit(G2_fc_LSUB, G1_sic_LSUB, 1)['determination']\n",
    "df.loc['g2_fc']['g1_gen'] = polyfit(G2_fc_LSUB, G1_gen_LSUB, 1)['determination']\n",
    "df.loc['g2_fc']['coup'] = polyfit(G2_fc_LSUB, r_LSUB, 1)['determination']\n",
    "df.loc['g2_fc']['t1wt2'] = polyfit(G2_fc_LSUB, np.log(group_t1wt2w_LSUB), 1)['determination']\n",
    "df.loc['g2_fc']['g2_sic'] = polyfit(G2_fc_LSUB, G2_sic_LSUB, 1)['determination']\n",
    "df.loc['g2_fc']['g2_gen'] = polyfit(G2_fc_LSUB, G2_gen_LSUB, 1)['determination']\n",
    "df.loc['g2_fc']['g1_her'] = polyfit(G2_fc_LSUB, G1_herit_LSUB, 1)['determination']\n",
    "df.loc['g2_fc']['g2_her'] = polyfit(G2_fc_LSUB, G2_herit_LSUB, 1)['determination']\n",
    "\n",
    "\n",
    "df.loc['t1wt2']['g1_fc'] = polyfit(np.log(group_t1wt2w_LSUB), G1_fc_LSUB, 1)['determination']\n",
    "df.loc['t1wt2']['g1_sic'] = polyfit(np.log(group_t1wt2w_LSUB), G1_sic_LSUB, 1)['determination']\n",
    "df.loc['t1wt2']['g1_gen'] = polyfit(np.log(group_t1wt2w_LSUB), G1_gen_LSUB, 1)['determination']\n",
    "df.loc['t1wt2']['g2_gen'] = polyfit(np.log(group_t1wt2w_LSUB), G2_gen_LSUB, 1)['determination']\n",
    "df.loc['t1wt2']['coup'] = polyfit(np.log(group_t1wt2w_LSUB), r_LSUB, 1)['determination']\n",
    "df.loc['t1wt2']['g2_fc'] = polyfit(np.log(group_t1wt2w_LSUB), G2_fc_LSUB, 1)['determination']\n",
    "df.loc['t1wt2']['g2_sic'] = polyfit(np.log(group_t1wt2w_LSUB), G2_sic_LSUB, 1)['determination']\n",
    "df.loc['t1wt2']['g1_her'] = polyfit(np.log(group_t1wt2w_LSUB), G1_herit_LSUB, 1)['determination']\n",
    "df.loc['t1wt2']['g2_her'] = polyfit(np.log(group_t1wt2w_LSUB), G2_herit_LSUB, 1)['determination']\n",
    "\n",
    "\n",
    "df.loc['g2_sic']['g1_fc'] = polyfit(G2_sic_LSUB, G1_fc_LSUB, 1)['determination']\n",
    "df.loc['g2_sic']['g1_sic'] = polyfit(G2_sic_LSUB, G1_sic_LSUB, 1)['determination']\n",
    "df.loc['g2_sic']['g1_gen'] = polyfit(G2_sic_LSUB, G1_gen_LSUB, 1)['determination']\n",
    "df.loc['g2_sic']['coup'] = polyfit(G2_sic_LSUB, r_LSUB, 1)['determination']\n",
    "df.loc['g2_sic']['g2_fc'] = polyfit(G2_sic_LSUB, G2_fc_LSUB, 1)['determination']\n",
    "df.loc['g2_sic']['t1wt2'] = polyfit(G2_sic_LSUB, np.log(group_t1wt2w_LSUB), 1)['determination']\n",
    "df.loc['g2_sic']['g2_gen'] = polyfit(G2_sic_LSUB, G2_gen_LSUB, 1)['determination']\n",
    "df.loc['g2_sic']['g1_her'] = polyfit(G2_sic_LSUB, G1_herit_LSUB, 1)['determination']\n",
    "df.loc['g2_sic']['g2_her'] = polyfit(G2_sic_LSUB, G2_herit_LSUB, 1)['determination']\n",
    "\n",
    "\n",
    "df.loc['g2_gen']['g1_fc'] = polyfit(G2_gen_LSUB, G1_fc_LSUB, 1)['determination']\n",
    "df.loc['g2_gen']['g1_sic'] = polyfit(G2_gen_LSUB, G1_sic_LSUB, 1)['determination']\n",
    "df.loc['g2_gen']['g1_gen'] = polyfit(G2_gen_LSUB, G1_gen_LSUB, 1)['determination']\n",
    "df.loc['g2_gen']['coup'] = polyfit(G2_gen_LSUB, r_LSUB, 1)['determination']\n",
    "df.loc['g2_gen']['g2_fc'] = polyfit(G2_gen_LSUB, G2_fc_LSUB, 1)['determination']\n",
    "df.loc['g2_gen']['t1wt2'] = polyfit(G2_gen_LSUB, np.log(group_t1wt2w_LSUB), 1)['determination']\n",
    "df.loc['g2_gen']['g2_sic'] = polyfit(G2_gen_LSUB, G2_sic_LSUB, 1)['determination']\n",
    "df.loc['g2_gen']['g1_her'] = polyfit(G2_gen_LSUB, G1_herit_LSUB, 1)['determination']\n",
    "df.loc['g2_gen']['g2_her'] = polyfit(G2_gen_LSUB, G2_herit_LSUB, 1)['determination']\n",
    "\n",
    "\n",
    "df.loc['g1_her']['g1_fc'] = polyfit(G1_herit_LSUB, G1_fc_LSUB, 1)['determination']\n",
    "df.loc['g1_her']['g1_sic'] = polyfit(G1_herit_LSUB, G1_sic_LSUB, 1)['determination']\n",
    "df.loc['g1_her']['g1_gen'] = polyfit(G1_herit_LSUB, G1_gen_LSUB, 1)['determination']\n",
    "df.loc['g1_her']['g2_gen'] = polyfit(G1_herit_LSUB, G2_gen_LSUB, 1)['determination']\n",
    "df.loc['g1_her']['coup'] = polyfit(G1_herit_LSUB, r_LSUB, 1)['determination']\n",
    "df.loc['g1_her']['g2_fc'] = polyfit(G1_herit_LSUB, G2_fc_LSUB, 1)['determination']\n",
    "df.loc['g1_her']['t1wt2'] = polyfit(G1_herit_LSUB, np.log(group_t1wt2w_LSUB), 1)['determination']\n",
    "df.loc['g1_her']['g2_sic'] = polyfit(G1_herit_LSUB, G2_sic_LSUB, 1)['determination']\n",
    "df.loc['g1_her']['g1_fc'] = polyfit(G1_herit_LSUB, G1_fc_LSUB, 1)['determination']\n",
    "df.loc['g1_her']['g2_her'] = polyfit(G1_herit_LSUB, G2_herit_LSUB, 1)['determination']\n",
    "\n",
    "\n",
    "df.loc['g2_her']['g1_fc'] = polyfit(G2_herit_LSUB, G1_fc_LSUB, 1)['determination']\n",
    "df.loc['g2_her']['g1_sic'] = polyfit(G2_herit_LSUB, G1_sic_LSUB, 1)['determination']\n",
    "df.loc['g2_her']['g1_gen'] = polyfit(G2_herit_LSUB, G1_gen_LSUB, 1)['determination']\n",
    "df.loc['g2_her']['g2_gen'] = polyfit(G2_herit_LSUB, G2_gen_LSUB, 1)['determination']\n",
    "df.loc['g2_her']['coup'] = polyfit(G2_herit_LSUB, r_LSUB, 1)['determination']\n",
    "df.loc['g2_her']['g2_fc'] = polyfit(G2_herit_LSUB, G2_fc_LSUB, 1)['determination']\n",
    "df.loc['g2_her']['t1wt2'] = polyfit(G2_herit_LSUB, np.log(group_t1wt2w_LSUB), 1)['determination']\n",
    "df.loc['g2_her']['g2_sic'] = polyfit(G2_herit_LSUB, G2_sic_LSUB, 1)['determination']\n",
    "df.loc['g2_her']['g1_fc'] = polyfit(G2_herit_LSUB, G1_fc_LSUB, 1)['determination']\n",
    "df.loc['g2_her']['g1_her'] = polyfit(G1_herit_LSUB, G2_herit_LSUB, 1)['determination']\n",
    "\n"
   ]
  },
  {
   "cell_type": "code",
   "execution_count": null,
   "metadata": {},
   "outputs": [],
   "source": [
    "df"
   ]
  },
  {
   "cell_type": "code",
   "execution_count": null,
   "metadata": {},
   "outputs": [],
   "source": [
    "## check the symmetry\n",
    "DF_LSUB = df.copy()\n",
    "A = DF_LSUB.values.astype(float)\n",
    "np.allclose(A, A.T, equal_nan=True)\n"
   ]
  },
  {
   "cell_type": "code",
   "execution_count": null,
   "metadata": {},
   "outputs": [],
   "source": [
    "B = A.copy()\n",
    "    \n",
    "DF= pd.DataFrame(index = corrlist,\n",
    "                 columns = corrlist,\n",
    "                 data = B)  \n",
    "\n",
    "DF.min().min(), DF.max().max()\n"
   ]
  },
  {
   "cell_type": "code",
   "execution_count": null,
   "metadata": {},
   "outputs": [],
   "source": [
    "f = plot_sorted_df(DF, \n",
    "                   corrlist,\n",
    "                   thr = 0,\n",
    "                   vmax = 1,\n",
    "                   )\n",
    "\n",
    "#plt.savefig('../figures/heatmap_LSUB_rsquared_small.svg',dpi=300)"
   ]
  },
  {
   "cell_type": "code",
   "execution_count": null,
   "metadata": {},
   "outputs": [],
   "source": []
  },
  {
   "cell_type": "markdown",
   "metadata": {},
   "source": [
    "# CA "
   ]
  },
  {
   "cell_type": "code",
   "execution_count": null,
   "metadata": {},
   "outputs": [],
   "source": [
    "corrlist = ['g1_fc', #A-P\n",
    "            'g1_her',\n",
    "            'g1_sic',\n",
    "            'g1_gen',\n",
    "            'g2_sic',   \n",
    "            'coup',\n",
    "\n",
    "            'g2_fc', #M-L\n",
    "            'g2_her',\n",
    "            't1wt2',\n",
    "            'g2_gen',\n",
    "               ]\n",
    "\n",
    "df = pd.DataFrame(index = corrlist, columns = corrlist)\n"
   ]
  },
  {
   "cell_type": "code",
   "execution_count": null,
   "metadata": {},
   "outputs": [],
   "source": [
    "#df.loc['g1_fc']['g1_fc'] = polyfit(G1_fc_LCA, G1_fc_LCA, 1)['determination']\n",
    "\n",
    "df.loc['g1_fc']['g1_her'] = polyfit(G1_fc_LCA, G1_herit_LCA, 1)['determination']\n",
    "df.loc['g1_fc']['g2_her'] = polyfit(G1_fc_LCA, G2_herit_LCA, 1)['determination']\n",
    "df.loc['g1_fc']['g1_sic'] = polyfit(G1_fc_LCA, G1_sic_LCA, 1)['determination']\n",
    "df.loc['g1_fc']['g1_gen'] = polyfit(G1_fc_LCA, G1_gen_LCA, 1)['determination']\n",
    "df.loc['g1_fc']['coup'] = polyfit(G1_fc_LCA, r_LCA, 1)['determination']\n",
    "df.loc['g1_fc']['g2_fc'] = polyfit(G1_fc_LCA, G2_fc_LCA, 1)['determination']\n",
    "df.loc['g1_fc']['t1wt2'] = polyfit(G1_fc_LCA, np.log(group_t1wt2w_LCA), 1)['determination']\n",
    "df.loc['g1_fc']['g2_sic'] = polyfit(G1_fc_LCA, G2_sic_LCA, 1)['determination']\n",
    "df.loc['g1_fc']['g2_gen'] = polyfit(G1_fc_LCA, G2_gen_LCA, 1)['determination']\n",
    "\n",
    "df.loc['g1_sic']['g1_fc'] = polyfit(G1_sic_LCA, G1_fc_LCA, 1)['determination']\n",
    "df.loc['g1_sic']['g1_gen'] = polyfit(G1_sic_LCA, G1_gen_LCA, 1)['determination']\n",
    "df.loc['g1_sic']['coup'] = polyfit(G1_sic_LCA, r_LCA, 1)['determination']\n",
    "df.loc['g1_sic']['g2_fc'] = polyfit(G1_sic_LCA, G2_fc_LCA, 1)['determination']\n",
    "df.loc['g1_sic']['t1wt2'] = polyfit(G1_sic_LCA, np.log(group_t1wt2w_LCA), 1)['determination']\n",
    "df.loc['g1_sic']['g2_sic'] = polyfit(G1_sic_LCA, G2_sic_LCA, 1)['determination']\n",
    "df.loc['g1_sic']['g2_gen'] = polyfit(G1_sic_LCA, G2_gen_LCA, 1)['determination']\n",
    "df.loc['g1_sic']['g1_her'] = polyfit(G1_sic_LCA, G1_herit_LCA, 1)['determination']\n",
    "df.loc['g1_sic']['g2_her'] = polyfit(G1_sic_LCA, G2_herit_LCA, 1)['determination']\n",
    "\n",
    "df.loc['g1_gen']['g1_fc'] = polyfit(G1_gen_LCA, G1_fc_LCA, 1)['determination']\n",
    "df.loc['g1_gen']['g1_sic'] = polyfit(G1_gen_LCA, G1_sic_LCA, 1)['determination']\n",
    "df.loc['g1_gen']['coup'] = polyfit(G1_gen_LCA, r_LCA, 1)['determination']\n",
    "df.loc['g1_gen']['g2_fc'] = polyfit(G1_gen_LCA, G2_fc_LCA, 1)['determination']\n",
    "df.loc['g1_gen']['t1wt2'] = polyfit(G1_gen_LCA, np.log(group_t1wt2w_LCA), 1)['determination']\n",
    "df.loc['g1_gen']['g2_sic'] = polyfit(G1_gen_LCA, G2_sic_LCA, 1)['determination']\n",
    "df.loc['g1_gen']['g2_gen'] = polyfit(G1_gen_LCA, G2_gen_LCA, 1)['determination']\n",
    "df.loc['g1_gen']['g1_her'] = polyfit(G1_gen_LCA, G1_herit_LCA, 1)['determination']\n",
    "df.loc['g1_gen']['g2_her'] = polyfit(G1_gen_LCA, G2_herit_LCA, 1)['determination']\n",
    "df.loc['g1_gen']['g2_gen'] = polyfit(G1_gen_LCA,  G2_gen_LCA, 1)['determination']\n",
    "\n",
    "df.loc['coup']['g1_fc'] = polyfit(r_LCA, G1_fc_LCA, 1)['determination']\n",
    "df.loc['coup']['g1_sic'] = polyfit(r_LCA, G1_sic_LCA, 1)['determination']\n",
    "df.loc['coup']['g1_gen'] = polyfit(r_LCA, G1_gen_LCA, 1)['determination']\n",
    "df.loc['coup']['g2_fc'] = polyfit(r_LCA, G2_fc_LCA, 1)['determination']\n",
    "df.loc['coup']['t1wt2'] = polyfit(r_LCA, np.log(group_t1wt2w_LCA), 1)['determination']\n",
    "df.loc['coup']['g2_sic'] = polyfit(r_LCA, G2_sic_LCA, 1)['determination']\n",
    "df.loc['coup']['g2_gen'] = polyfit(r_LCA, G2_gen_LCA, 1)['determination']\n",
    "df.loc['coup']['g1_her'] = polyfit(r_LCA, G1_herit_LCA, 1)['determination']\n",
    "df.loc['coup']['g2_her'] = polyfit(r_LCA, G2_herit_LCA, 1)['determination']\n",
    "\n",
    "df.loc['g2_fc']['g1_fc'] = polyfit(G2_fc_LCA, G1_fc_LCA, 1)['determination']\n",
    "df.loc['g2_fc']['g1_sic'] = polyfit(G2_fc_LCA, G1_sic_LCA, 1)['determination']\n",
    "df.loc['g2_fc']['g1_gen'] = polyfit(G2_fc_LCA, G1_gen_LCA, 1)['determination']\n",
    "df.loc['g2_fc']['coup'] = polyfit(G2_fc_LCA, r_LCA, 1)['determination']\n",
    "df.loc['g2_fc']['t1wt2'] = polyfit(G2_fc_LCA, np.log(group_t1wt2w_LCA), 1)['determination']\n",
    "df.loc['g2_fc']['g2_sic'] = polyfit(G2_fc_LCA, G2_sic_LCA, 1)['determination']\n",
    "df.loc['g2_fc']['g2_gen'] = polyfit(G2_fc_LCA, G2_gen_LCA, 1)['determination']\n",
    "df.loc['g2_fc']['g1_her'] = polyfit(G2_fc_LCA, G1_herit_LCA, 1)['determination']\n",
    "df.loc['g2_fc']['g2_her'] = polyfit(G2_fc_LCA, G2_herit_LCA, 1)['determination']\n",
    "\n",
    "\n",
    "df.loc['t1wt2']['g1_fc'] = polyfit(np.log(group_t1wt2w_LCA), G1_fc_LCA, 1)['determination']\n",
    "df.loc['t1wt2']['g1_sic'] = polyfit(np.log(group_t1wt2w_LCA), G1_sic_LCA, 1)['determination']\n",
    "df.loc['t1wt2']['g1_gen'] = polyfit(np.log(group_t1wt2w_LCA), G1_gen_LCA, 1)['determination']\n",
    "df.loc['t1wt2']['g2_gen'] = polyfit(np.log(group_t1wt2w_LCA), G2_gen_LCA, 1)['determination']\n",
    "df.loc['t1wt2']['coup'] = polyfit(np.log(group_t1wt2w_LCA), r_LCA, 1)['determination']\n",
    "df.loc['t1wt2']['g2_fc'] = polyfit(np.log(group_t1wt2w_LCA), G2_fc_LCA, 1)['determination']\n",
    "df.loc['t1wt2']['g2_sic'] = polyfit(np.log(group_t1wt2w_LCA), G2_sic_LCA, 1)['determination']\n",
    "df.loc['t1wt2']['g1_her'] = polyfit(np.log(group_t1wt2w_LCA), G1_herit_LCA, 1)['determination']\n",
    "df.loc['t1wt2']['g2_her'] = polyfit(np.log(group_t1wt2w_LCA), G2_herit_LCA, 1)['determination']\n",
    "\n",
    "\n",
    "df.loc['g2_sic']['g1_fc'] = polyfit(G2_sic_LCA, G1_fc_LCA, 1)['determination']\n",
    "df.loc['g2_sic']['g1_sic'] = polyfit(G2_sic_LCA, G1_sic_LCA, 1)['determination']\n",
    "df.loc['g2_sic']['g1_gen'] = polyfit(G2_sic_LCA, G1_gen_LCA, 1)['determination']\n",
    "df.loc['g2_sic']['coup'] = polyfit(G2_sic_LCA, r_LCA, 1)['determination']\n",
    "df.loc['g2_sic']['g2_fc'] = polyfit(G2_sic_LCA, G2_fc_LCA, 1)['determination']\n",
    "df.loc['g2_sic']['t1wt2'] = polyfit(G2_sic_LCA, np.log(group_t1wt2w_LCA), 1)['determination']\n",
    "df.loc['g2_sic']['g2_gen'] = polyfit(G2_sic_LCA, G2_gen_LCA, 1)['determination']\n",
    "df.loc['g2_sic']['g1_her'] = polyfit(G2_sic_LCA, G1_herit_LCA, 1)['determination']\n",
    "df.loc['g2_sic']['g2_her'] = polyfit(G2_sic_LCA, G2_herit_LCA, 1)['determination']\n",
    "\n",
    "\n",
    "df.loc['g2_gen']['g1_fc'] = polyfit(G2_gen_LCA, G1_fc_LCA, 1)['determination']\n",
    "df.loc['g2_gen']['g1_sic'] = polyfit(G2_gen_LCA, G1_sic_LCA, 1)['determination']\n",
    "df.loc['g2_gen']['g1_gen'] = polyfit(G2_gen_LCA, G1_gen_LCA, 1)['determination']\n",
    "df.loc['g2_gen']['coup'] = polyfit(G2_gen_LCA, r_LCA, 1)['determination']\n",
    "df.loc['g2_gen']['g2_fc'] = polyfit(G2_gen_LCA, G2_fc_LCA, 1)['determination']\n",
    "df.loc['g2_gen']['t1wt2'] = polyfit(G2_gen_LCA, np.log(group_t1wt2w_LCA), 1)['determination']\n",
    "df.loc['g2_gen']['g2_sic'] = polyfit(G2_gen_LCA, G2_sic_LCA, 1)['determination']\n",
    "df.loc['g2_gen']['g1_her'] = polyfit(G2_gen_LCA, G1_herit_LCA, 1)['determination']\n",
    "df.loc['g2_gen']['g2_her'] = polyfit(G2_gen_LCA, G2_herit_LCA, 1)['determination']\n",
    "\n",
    "\n",
    "df.loc['g1_her']['g1_fc'] = polyfit(G1_herit_LCA, G1_fc_LCA, 1)['determination']\n",
    "df.loc['g1_her']['g1_sic'] = polyfit(G1_herit_LCA, G1_sic_LCA, 1)['determination']\n",
    "df.loc['g1_her']['g1_gen'] = polyfit(G1_herit_LCA, G1_gen_LCA, 1)['determination']\n",
    "df.loc['g1_her']['g2_gen'] = polyfit(G1_herit_LCA, G2_gen_LCA, 1)['determination']\n",
    "df.loc['g1_her']['coup'] = polyfit(G1_herit_LCA, r_LCA, 1)['determination']\n",
    "df.loc['g1_her']['g2_fc'] = polyfit(G1_herit_LCA, G2_fc_LCA, 1)['determination']\n",
    "df.loc['g1_her']['t1wt2'] = polyfit(G1_herit_LCA, np.log(group_t1wt2w_LCA), 1)['determination']\n",
    "df.loc['g1_her']['g2_sic'] = polyfit(G1_herit_LCA, G2_sic_LCA, 1)['determination']\n",
    "df.loc['g1_her']['g1_fc'] = polyfit(G1_herit_LCA, G1_fc_LCA, 1)['determination']\n",
    "df.loc['g1_her']['g2_her'] = polyfit(G1_herit_LCA, G2_herit_LCA, 1)['determination']\n",
    "\n",
    "\n",
    "df.loc['g2_her']['g1_fc'] = polyfit(G2_herit_LCA, G1_fc_LCA, 1)['determination']\n",
    "df.loc['g2_her']['g1_sic'] = polyfit(G2_herit_LCA, G1_sic_LCA, 1)['determination']\n",
    "df.loc['g2_her']['g1_gen'] = polyfit(G2_herit_LCA, G1_gen_LCA, 1)['determination']\n",
    "df.loc['g2_her']['g2_gen'] = polyfit(G2_herit_LCA, G2_gen_LCA, 1)['determination']\n",
    "df.loc['g2_her']['coup'] = polyfit(G2_herit_LCA, r_LCA, 1)['determination']\n",
    "df.loc['g2_her']['g2_fc'] = polyfit(G2_herit_LCA, G2_fc_LCA, 1)['determination']\n",
    "df.loc['g2_her']['t1wt2'] = polyfit(G2_herit_LCA, np.log(group_t1wt2w_LCA), 1)['determination']\n",
    "df.loc['g2_her']['g2_sic'] = polyfit(G2_herit_LCA, G2_sic_LCA, 1)['determination']\n",
    "df.loc['g2_her']['g1_fc'] = polyfit(G2_herit_LCA, G1_fc_LCA, 1)['determination']\n",
    "df.loc['g2_her']['g1_her'] = polyfit(G1_herit_LCA, G2_herit_LCA, 1)['determination']\n",
    "\n"
   ]
  },
  {
   "cell_type": "code",
   "execution_count": null,
   "metadata": {},
   "outputs": [],
   "source": [
    "df"
   ]
  },
  {
   "cell_type": "code",
   "execution_count": null,
   "metadata": {},
   "outputs": [],
   "source": [
    "## check the symmetry\n",
    "DF_LSUB = df.copy()\n",
    "A = DF_LSUB.values.astype(float)\n",
    "np.allclose(A, A.T, equal_nan=True)\n"
   ]
  },
  {
   "cell_type": "code",
   "execution_count": null,
   "metadata": {},
   "outputs": [],
   "source": [
    "DF_LCA = df.copy()\n",
    "A = DF_LCA.values.astype(float)\n",
    "print(np.allclose(A, A.T, equal_nan=True))\n",
    "\n",
    "B = A.copy()\n",
    "    \n",
    "DF= pd.DataFrame(index = corrlist,\n",
    "                 columns=corrlist,\n",
    "                 data = B)    \n",
    "    "
   ]
  },
  {
   "cell_type": "code",
   "execution_count": null,
   "metadata": {
    "scrolled": false
   },
   "outputs": [],
   "source": [
    "f = plot_sorted_df(DF, \n",
    "                   corrlist,\n",
    "                   thr = 0,\n",
    "                   vmax = 1,\n",
    "                   )\n",
    "\n",
    "plt.savefig('../figures/heatmap_LCA_rsquared_small.svg',dpi=300)"
   ]
  },
  {
   "cell_type": "markdown",
   "metadata": {},
   "source": [
    "# DG"
   ]
  },
  {
   "cell_type": "code",
   "execution_count": null,
   "metadata": {},
   "outputs": [],
   "source": [
    "corrlist = ['g1_fc', #A-P\n",
    "            'g1_her',\n",
    "            'g1_sic',\n",
    "            'g1_gen',\n",
    "            'g2_sic',   \n",
    "            'coup',\n",
    "\n",
    "            'g2_fc', #M-L\n",
    "            'g2_her',\n",
    "            't1wt2',\n",
    "            'g2_gen',\n",
    "               ]\n",
    "\n",
    "\n",
    "df = pd.DataFrame(index = corrlist, columns = corrlist)\n"
   ]
  },
  {
   "cell_type": "code",
   "execution_count": null,
   "metadata": {},
   "outputs": [],
   "source": [
    "#df.loc['g1_fc']['g1_fc'] = polyfit(G1_fc_LDG, G1_fc_LDG, 1)['determination']\n",
    "\n",
    "df.loc['g1_fc']['g1_her'] = polyfit(G1_fc_LDG, G1_herit_LDG, 1)['determination']\n",
    "df.loc['g1_fc']['g2_her'] = polyfit(G1_fc_LDG, G2_herit_LDG, 1)['determination']\n",
    "df.loc['g1_fc']['g1_sic'] = polyfit(G1_fc_LDG, G1_sic_LDG, 1)['determination']\n",
    "df.loc['g1_fc']['g1_gen'] = polyfit(G1_fc_LDG, G1_gen_LDG, 1)['determination']\n",
    "df.loc['g1_fc']['coup'] = polyfit(G1_fc_LDG, r_LDG, 1)['determination']\n",
    "df.loc['g1_fc']['g2_fc'] = polyfit(G1_fc_LDG, G2_fc_LDG, 1)['determination']\n",
    "df.loc['g1_fc']['t1wt2'] = polyfit(G1_fc_LDG, np.log(group_t1wt2w_LDG), 1)['determination']\n",
    "df.loc['g1_fc']['g2_sic'] = polyfit(G1_fc_LDG, G2_sic_LDG, 1)['determination']\n",
    "df.loc['g1_fc']['g2_gen'] = polyfit(G1_fc_LDG, G2_gen_LDG, 1)['determination']\n",
    "\n",
    "df.loc['g1_sic']['g1_fc'] = polyfit(G1_sic_LDG, G1_fc_LDG, 1)['determination']\n",
    "df.loc['g1_sic']['g1_gen'] = polyfit(G1_sic_LDG, G1_gen_LDG, 1)['determination']\n",
    "df.loc['g1_sic']['coup'] = polyfit(G1_sic_LDG, r_LDG, 1)['determination']\n",
    "df.loc['g1_sic']['g2_fc'] = polyfit(G1_sic_LDG, G2_fc_LDG, 1)['determination']\n",
    "df.loc['g1_sic']['t1wt2'] = polyfit(G1_sic_LDG, np.log(group_t1wt2w_LDG), 1)['determination']\n",
    "df.loc['g1_sic']['g2_sic'] = polyfit(G1_sic_LDG, G2_sic_LDG, 1)['determination']\n",
    "df.loc['g1_sic']['g2_gen'] = polyfit(G1_sic_LDG, G2_gen_LDG, 1)['determination']\n",
    "df.loc['g1_sic']['g1_her'] = polyfit(G1_sic_LDG, G1_herit_LDG, 1)['determination']\n",
    "df.loc['g1_sic']['g2_her'] = polyfit(G1_sic_LDG, G2_herit_LDG, 1)['determination']\n",
    "\n",
    "df.loc['g1_gen']['g1_fc'] = polyfit(G1_gen_LDG, G1_fc_LDG, 1)['determination']\n",
    "df.loc['g1_gen']['g1_sic'] = polyfit(G1_gen_LDG, G1_sic_LDG, 1)['determination']\n",
    "df.loc['g1_gen']['coup'] = polyfit(G1_gen_LDG, r_LDG, 1)['determination']\n",
    "df.loc['g1_gen']['g2_fc'] = polyfit(G1_gen_LDG, G2_fc_LDG, 1)['determination']\n",
    "df.loc['g1_gen']['t1wt2'] = polyfit(G1_gen_LDG, np.log(group_t1wt2w_LDG), 1)['determination']\n",
    "df.loc['g1_gen']['g2_sic'] = polyfit(G1_gen_LDG, G2_sic_LDG, 1)['determination']\n",
    "df.loc['g1_gen']['g2_gen'] = polyfit(G1_gen_LDG, G2_gen_LDG, 1)['determination']\n",
    "df.loc['g1_gen']['g1_her'] = polyfit(G1_gen_LDG, G1_herit_LDG, 1)['determination']\n",
    "df.loc['g1_gen']['g2_her'] = polyfit(G1_gen_LDG, G2_herit_LDG, 1)['determination']\n",
    "df.loc['g1_gen']['g2_gen'] = polyfit(G1_gen_LDG,  G2_gen_LDG, 1)['determination']\n",
    "\n",
    "df.loc['coup']['g1_fc'] = polyfit(r_LDG, G1_fc_LDG, 1)['determination']\n",
    "df.loc['coup']['g1_sic'] = polyfit(r_LDG, G1_sic_LDG, 1)['determination']\n",
    "df.loc['coup']['g1_gen'] = polyfit(r_LDG, G1_gen_LDG, 1)['determination']\n",
    "df.loc['coup']['g2_fc'] = polyfit(r_LDG, G2_fc_LDG, 1)['determination']\n",
    "df.loc['coup']['t1wt2'] = polyfit(r_LDG, np.log(group_t1wt2w_LDG), 1)['determination']\n",
    "df.loc['coup']['g2_sic'] = polyfit(r_LDG, G2_sic_LDG, 1)['determination']\n",
    "df.loc['coup']['g2_gen'] = polyfit(r_LDG, G2_gen_LDG, 1)['determination']\n",
    "df.loc['coup']['g1_her'] = polyfit(r_LDG, G1_herit_LDG, 1)['determination']\n",
    "df.loc['coup']['g2_her'] = polyfit(r_LDG, G2_herit_LDG, 1)['determination']\n",
    "\n",
    "df.loc['g2_fc']['g1_fc'] = polyfit(G2_fc_LDG, G1_fc_LDG, 1)['determination']\n",
    "df.loc['g2_fc']['g1_sic'] = polyfit(G2_fc_LDG, G1_sic_LDG, 1)['determination']\n",
    "df.loc['g2_fc']['g1_gen'] = polyfit(G2_fc_LDG, G1_gen_LDG, 1)['determination']\n",
    "df.loc['g2_fc']['coup'] = polyfit(G2_fc_LDG, r_LDG, 1)['determination']\n",
    "df.loc['g2_fc']['t1wt2'] = polyfit(G2_fc_LDG, np.log(group_t1wt2w_LDG), 1)['determination']\n",
    "df.loc['g2_fc']['g2_sic'] = polyfit(G2_fc_LDG, G2_sic_LDG, 1)['determination']\n",
    "df.loc['g2_fc']['g2_gen'] = polyfit(G2_fc_LDG, G2_gen_LDG, 1)['determination']\n",
    "df.loc['g2_fc']['g1_her'] = polyfit(G2_fc_LDG, G1_herit_LDG, 1)['determination']\n",
    "df.loc['g2_fc']['g2_her'] = polyfit(G2_fc_LDG, G2_herit_LDG, 1)['determination']\n",
    "\n",
    "\n",
    "df.loc['t1wt2']['g1_fc'] = polyfit(np.log(group_t1wt2w_LDG), G1_fc_LDG, 1)['determination']\n",
    "df.loc['t1wt2']['g1_sic'] = polyfit(np.log(group_t1wt2w_LDG), G1_sic_LDG, 1)['determination']\n",
    "df.loc['t1wt2']['g1_gen'] = polyfit(np.log(group_t1wt2w_LDG), G1_gen_LDG, 1)['determination']\n",
    "df.loc['t1wt2']['g2_gen'] = polyfit(np.log(group_t1wt2w_LDG), G2_gen_LDG, 1)['determination']\n",
    "df.loc['t1wt2']['coup'] = polyfit(np.log(group_t1wt2w_LDG), r_LDG, 1)['determination']\n",
    "df.loc['t1wt2']['g2_fc'] = polyfit(np.log(group_t1wt2w_LDG), G2_fc_LDG, 1)['determination']\n",
    "df.loc['t1wt2']['g2_sic'] = polyfit(np.log(group_t1wt2w_LDG), G2_sic_LDG, 1)['determination']\n",
    "df.loc['t1wt2']['g1_her'] = polyfit(np.log(group_t1wt2w_LDG), G1_herit_LDG, 1)['determination']\n",
    "df.loc['t1wt2']['g2_her'] = polyfit(np.log(group_t1wt2w_LDG), G2_herit_LDG, 1)['determination']\n",
    "\n",
    "\n",
    "df.loc['g2_sic']['g1_fc'] = polyfit(G2_sic_LDG, G1_fc_LDG, 1)['determination']\n",
    "df.loc['g2_sic']['g1_sic'] = polyfit(G2_sic_LDG, G1_sic_LDG, 1)['determination']\n",
    "df.loc['g2_sic']['g1_gen'] = polyfit(G2_sic_LDG, G1_gen_LDG, 1)['determination']\n",
    "df.loc['g2_sic']['coup'] = polyfit(G2_sic_LDG, r_LDG, 1)['determination']\n",
    "df.loc['g2_sic']['g2_fc'] = polyfit(G2_sic_LDG, G2_fc_LDG, 1)['determination']\n",
    "df.loc['g2_sic']['t1wt2'] = polyfit(G2_sic_LDG, np.log(group_t1wt2w_LDG), 1)['determination']\n",
    "df.loc['g2_sic']['g2_gen'] = polyfit(G2_sic_LDG, G2_gen_LDG, 1)['determination']\n",
    "df.loc['g2_sic']['g1_her'] = polyfit(G2_sic_LDG, G1_herit_LDG, 1)['determination']\n",
    "df.loc['g2_sic']['g2_her'] = polyfit(G2_sic_LDG, G2_herit_LDG, 1)['determination']\n",
    "\n",
    "\n",
    "df.loc['g2_gen']['g1_fc'] = polyfit(G2_gen_LDG, G1_fc_LDG, 1)['determination']\n",
    "df.loc['g2_gen']['g1_sic'] = polyfit(G2_gen_LDG, G1_sic_LDG, 1)['determination']\n",
    "df.loc['g2_gen']['g1_gen'] = polyfit(G2_gen_LDG, G1_gen_LDG, 1)['determination']\n",
    "df.loc['g2_gen']['coup'] = polyfit(G2_gen_LDG, r_LDG, 1)['determination']\n",
    "df.loc['g2_gen']['g2_fc'] = polyfit(G2_gen_LDG, G2_fc_LDG, 1)['determination']\n",
    "df.loc['g2_gen']['t1wt2'] = polyfit(G2_gen_LDG, np.log(group_t1wt2w_LDG), 1)['determination']\n",
    "df.loc['g2_gen']['g2_sic'] = polyfit(G2_gen_LDG, G2_sic_LDG, 1)['determination']\n",
    "df.loc['g2_gen']['g1_her'] = polyfit(G2_gen_LDG, G1_herit_LDG, 1)['determination']\n",
    "df.loc['g2_gen']['g2_her'] = polyfit(G2_gen_LDG, G2_herit_LDG, 1)['determination']\n",
    "\n",
    "\n",
    "df.loc['g1_her']['g1_fc'] = polyfit(G1_herit_LDG, G1_fc_LDG, 1)['determination']\n",
    "df.loc['g1_her']['g1_sic'] = polyfit(G1_herit_LDG, G1_sic_LDG, 1)['determination']\n",
    "df.loc['g1_her']['g1_gen'] = polyfit(G1_herit_LDG, G1_gen_LDG, 1)['determination']\n",
    "df.loc['g1_her']['g2_gen'] = polyfit(G1_herit_LDG, G2_gen_LDG, 1)['determination']\n",
    "df.loc['g1_her']['coup'] = polyfit(G1_herit_LDG, r_LDG, 1)['determination']\n",
    "df.loc['g1_her']['g2_fc'] = polyfit(G1_herit_LDG, G2_fc_LDG, 1)['determination']\n",
    "df.loc['g1_her']['t1wt2'] = polyfit(G1_herit_LDG, np.log(group_t1wt2w_LDG), 1)['determination']\n",
    "df.loc['g1_her']['g2_sic'] = polyfit(G1_herit_LDG, G2_sic_LDG, 1)['determination']\n",
    "df.loc['g1_her']['g1_fc'] = polyfit(G1_herit_LDG, G1_fc_LDG, 1)['determination']\n",
    "df.loc['g1_her']['g2_her'] = polyfit(G1_herit_LDG, G2_herit_LDG, 1)['determination']\n",
    "\n",
    "\n",
    "df.loc['g2_her']['g1_fc'] = polyfit(G2_herit_LDG, G1_fc_LDG, 1)['determination']\n",
    "df.loc['g2_her']['g1_sic'] = polyfit(G2_herit_LDG, G1_sic_LDG, 1)['determination']\n",
    "df.loc['g2_her']['g1_gen'] = polyfit(G2_herit_LDG, G1_gen_LDG, 1)['determination']\n",
    "df.loc['g2_her']['g2_gen'] = polyfit(G2_herit_LDG, G2_gen_LDG, 1)['determination']\n",
    "df.loc['g2_her']['coup'] = polyfit(G2_herit_LDG, r_LDG, 1)['determination']\n",
    "df.loc['g2_her']['g2_fc'] = polyfit(G2_herit_LDG, G2_fc_LDG, 1)['determination']\n",
    "df.loc['g2_her']['t1wt2'] = polyfit(G2_herit_LDG, np.log(group_t1wt2w_LDG), 1)['determination']\n",
    "df.loc['g2_her']['g2_sic'] = polyfit(G2_herit_LDG, G2_sic_LDG, 1)['determination']\n",
    "df.loc['g2_her']['g1_fc'] = polyfit(G2_herit_LDG, G1_fc_LDG, 1)['determination']\n",
    "df.loc['g2_her']['g1_her'] = polyfit(G1_herit_LDG, G2_herit_LDG, 1)['determination']\n",
    "\n"
   ]
  },
  {
   "cell_type": "code",
   "execution_count": null,
   "metadata": {},
   "outputs": [],
   "source": [
    "df"
   ]
  },
  {
   "cell_type": "code",
   "execution_count": null,
   "metadata": {},
   "outputs": [],
   "source": [
    "DF_LDG = df.copy()\n",
    "A = DF_LDG.values.astype(float)\n",
    "print(np.allclose(A, A.T, equal_nan=True))\n",
    "\n",
    "B = A.copy()\n",
    "    \n",
    "DF= pd.DataFrame(index = corrlist,\n",
    "                 columns=corrlist,\n",
    "                 data = B)    \n",
    "    "
   ]
  },
  {
   "cell_type": "code",
   "execution_count": null,
   "metadata": {},
   "outputs": [],
   "source": [
    "f = plot_sorted_df(DF, \n",
    "                   corrlist,\n",
    "                   thr = 0,\n",
    "                   vmax = 1,\n",
    "                   )\n",
    "\n",
    "#plt.savefig('../figures/heatmap_LDG_rsquared_small.svg',dpi=300)"
   ]
  },
  {
   "cell_type": "code",
   "execution_count": null,
   "metadata": {},
   "outputs": [],
   "source": []
  }
 ],
 "metadata": {
  "kernelspec": {
   "display_name": "Python [conda env:hippoc] *",
   "language": "python",
   "name": "conda-env-hippoc-py"
  },
  "language_info": {
   "codemirror_mode": {
    "name": "ipython",
    "version": 3
   },
   "file_extension": ".py",
   "mimetype": "text/x-python",
   "name": "python",
   "nbconvert_exporter": "python",
   "pygments_lexer": "ipython3",
   "version": "3.7.12"
  }
 },
 "nbformat": 4,
 "nbformat_minor": 4
}
