{
 "cells": [
  {
   "cell_type": "code",
   "execution_count": 1,
   "metadata": {},
   "outputs": [],
   "source": [
    "import os\n",
    "import h5py\n",
    "import numpy as np\n",
    "import pandas as pd\n",
    "import matplotlib.pyplot as plt\n",
    "from scipy.io import loadmat\n",
    "from scipy.stats import pearsonr\n",
    "from scipy import stats\n",
    "import nibabel as nb\n",
    "import seaborn as sns\n",
    "import plot_funcs"
   ]
  },
  {
   "cell_type": "markdown",
   "metadata": {},
   "source": [
    "### get the subject list"
   ]
  },
  {
   "cell_type": "code",
   "execution_count": 2,
   "metadata": {},
   "outputs": [
    {
     "data": {
      "text/plain": [
       "709"
      ]
     },
     "execution_count": 2,
     "metadata": {},
     "output_type": "execute_result"
    }
   ],
   "source": [
    "subjlist = '../data/subjectListS900_QC_gr.txt'\n",
    "f = open(subjlist); mylist = f.read().split(\"\\n\"); f.close() \n",
    "subjlist = joinedlist = mylist[:-1]\n",
    "len(subjlist)\n"
   ]
  },
  {
   "cell_type": "markdown",
   "metadata": {},
   "source": [
    "## Left hemisphere "
   ]
  },
  {
   "cell_type": "code",
   "execution_count": 3,
   "metadata": {},
   "outputs": [],
   "source": [
    "# create empty dataframe for the mean T1w/T2w intensity values along the subfields and for each subject\n",
    "DF_indiv_mean_t1wt2w  = pd.DataFrame(index = subjlist, \n",
    "                                     columns = ['t1-t2-LSUB', 't1-t2-LCA', 't1-t2-LDG'])\n",
    "# create empty arrays for the group-level T1w/T2w intensity values along the subfields\n",
    "sumi_LSUB = np.zeros((1024,))\n",
    "sumi_LCA  = np.zeros((2048,))\n",
    "sumi_LDG = np.zeros((1024,))\n",
    "\n",
    "# create empty arrays for the individual-level T1w/T2w intensity values along the subfields\n",
    "sumi_all_LSUB = np.zeros((709,1024))\n",
    "sumi_all_LCA  = np.zeros((709,2048))\n",
    "sumi_all_LDG  = np.zeros((709,1024))"
   ]
  },
  {
   "cell_type": "markdown",
   "metadata": {},
   "source": [
    "### read-in individual T1w/T2w intensity values along the subfields for each subject"
   ]
  },
  {
   "cell_type": "code",
   "execution_count": 4,
   "metadata": {},
   "outputs": [
    {
     "name": "stdout",
     "output_type": "stream",
     "text": [
      "709\n"
     ]
    }
   ],
   "source": [
    "workdir   = '../data/bladesMniGifti_T1wT2w/'\n",
    "\n",
    "j = 0\n",
    "\n",
    "for subjid in subjlist:\n",
    "\n",
    "    # filename for t1w-t2w ratio, resampled along right hippocampus\n",
    "    vol2hipp_LSUB = os.path.join(workdir, 'HCP_%s_L_SUB_skelFinal.shape.gii' % (subjid))  \n",
    "    vol2hipp_LCA  = os.path.join(workdir, 'HCP_%s_L_CA_skelFinal.shape.gii' % (subjid)) \n",
    "    vol2hipp_LDG  = os.path.join(workdir, 'HCP_%s_L_DG_skelFinal.shape.gii' % (subjid))  \n",
    "\n",
    "    t1wt2w_LSUB = nb.load(vol2hipp_LSUB).agg_data()\n",
    "    t1wt2w_LCA  = nb.load(vol2hipp_LCA).agg_data()\n",
    "    t1wt2w_LDG  = nb.load(vol2hipp_LDG).agg_data()    \n",
    "    \n",
    "    DF_indiv_mean_t1wt2w.at[subjid, 't1-t2-LSUB'] = t1wt2w_LSUB.mean()     \n",
    "    DF_indiv_mean_t1wt2w.at[subjid, 't1-t2-LCA' ] = t1wt2w_LCA.mean()     \n",
    "    DF_indiv_mean_t1wt2w.at[subjid, 't1-t2-LDG' ] = t1wt2w_LDG.mean()     \n",
    "        \n",
    "    sumi_LSUB += t1wt2w_LSUB\n",
    "    sumi_LCA  += t1wt2w_LCA\n",
    "    sumi_LDG  += t1wt2w_LDG\n",
    "    \n",
    "    sumi_all_LSUB[j,:] = t1wt2w_LSUB\n",
    "    sumi_all_LCA[j,:]  = t1wt2w_LCA\n",
    "    sumi_all_LDG[j,:]  = t1wt2w_LDG\n",
    "    \n",
    "    j += 1    \n",
    "        \n",
    "print(j)        \n",
    "group_t1wt2w_LSUB = sumi_LSUB/j\n",
    "group_t1wt2w_LCA  = sumi_LCA/j\n",
    "group_t1wt2w_LDG  = sumi_LDG/j\n"
   ]
  },
  {
   "cell_type": "code",
   "execution_count": 5,
   "metadata": {},
   "outputs": [
    {
     "data": {
      "text/plain": [
       "(2.0242498246710703, 0.41059361997124016)"
      ]
     },
     "execution_count": 5,
     "metadata": {},
     "output_type": "execute_result"
    }
   ],
   "source": [
    "sumi_all_LSUB.mean(), sumi_all_LSUB.std()"
   ]
  },
  {
   "cell_type": "code",
   "execution_count": 6,
   "metadata": {},
   "outputs": [
    {
     "data": {
      "text/plain": [
       "(2.008639068328686, 0.7795565840586799)"
      ]
     },
     "execution_count": 6,
     "metadata": {},
     "output_type": "execute_result"
    }
   ],
   "source": [
    "sumi_all_LCA.mean(), sumi_all_LCA.std()"
   ]
  },
  {
   "cell_type": "code",
   "execution_count": 7,
   "metadata": {},
   "outputs": [
    {
     "data": {
      "text/plain": [
       "(1.6564004685715292, 0.21753406489589847)"
      ]
     },
     "execution_count": 7,
     "metadata": {},
     "output_type": "execute_result"
    }
   ],
   "source": [
    "sumi_all_LDG.mean(), sumi_all_LDG.std()"
   ]
  },
  {
   "cell_type": "code",
   "execution_count": 8,
   "metadata": {},
   "outputs": [
    {
     "name": "stdout",
     "output_type": "stream",
     "text": [
      "0 t1-t2-LSUB\n",
      "1 t1-t2-LCA\n",
      "2 t1-t2-LDG\n"
     ]
    },
    {
     "data": {
      "text/plain": [
       "[(1.2, 3.0)]"
      ]
     },
     "execution_count": 8,
     "metadata": {},
     "output_type": "execute_result"
    },
    {
     "data": {
      "image/png": "[encoded data removed]",
      "text/plain": [
       "<Figure size 432x288 with 1 Axes>"
      ]
     },
     "metadata": {
      "needs_background": "light"
     },
     "output_type": "display_data"
    }
   ],
   "source": [
    "sns.set_context(\"talk\", font_scale=1.1)\n",
    "\n",
    "colstoplot = ['t1-t2-LSUB', 't1-t2-LCA', 't1-t2-LDG']\n",
    "\n",
    "dk = pd.DataFrame({'t1-t2-LSUB':np.array(DF_indiv_mean_t1wt2w['t1-t2-LSUB']).astype(float),\n",
    "                   't1-t2-LCA':np.array(DF_indiv_mean_t1wt2w['t1-t2-LCA']).astype(float),\n",
    "                   't1-t2-LDG':np.array(DF_indiv_mean_t1wt2w['t1-t2-LDG']).astype(float),})\n",
    "\n",
    "for i,d in enumerate(colstoplot):\n",
    "    print(i, d)\n",
    "    y = dk[d]\n",
    "    x = np.random.normal(i+1, 0.08, len(y))\n",
    "    plt.plot(x, y, \n",
    "             marker=\"o\", \n",
    "             markeredgewidth = 1,\n",
    "             linestyle='None',\n",
    "             color='grey', \n",
    "             markersize=4,  \n",
    "             alpha=0.8)\n",
    "    \n",
    "ax = dk.boxplot(column=colstoplot,\n",
    "                fontsize=17, \n",
    "                color=dict(boxes='k', whiskers='k', medians='k', caps='k'),\n",
    "                boxprops=dict(linestyle='-', linewidth=2),\n",
    "                flierprops=dict(linestyle='-', linewidth=2),\n",
    "                medianprops=dict(linestyle='-', linewidth=2),\n",
    "                whiskerprops=dict(linestyle='-', linewidth=2),\n",
    "                capprops=dict(linestyle='-', linewidth=2),\n",
    "                widths=(0.75, 0.75, 0.75),\n",
    "                showfliers=False,)\n",
    "\n",
    "ax.set_title(\"T1w-T2w-ratio\")    \n",
    "ax.set(ylim=(1.2, 3))\n",
    "    "
   ]
  },
  {
   "cell_type": "code",
   "execution_count": null,
   "metadata": {},
   "outputs": [],
   "source": []
  },
  {
   "cell_type": "code",
   "execution_count": null,
   "metadata": {},
   "outputs": [],
   "source": []
  },
  {
   "cell_type": "markdown",
   "metadata": {},
   "source": [
    "## Right hemisphere"
   ]
  },
  {
   "cell_type": "markdown",
   "metadata": {},
   "source": [
    "### read-in individual T1w/T2w intensity values along the subfields for each subject"
   ]
  },
  {
   "cell_type": "code",
   "execution_count": 9,
   "metadata": {},
   "outputs": [],
   "source": [
    "# create empty dataframe for the mean T1w/T2w intensity values along the subfields and for each subject\n",
    "DF_indiv_mean_t1wt2w  = pd.DataFrame(index = subjlist, \n",
    "                                     columns = ['t1-t2-RSUB', 't1-t2-RCA', 't1-t2-RDG'])\n",
    "# create empty arrays for the group-level T1w/T2w intensity values along the subfields\n",
    "sumi_RSUB = np.zeros((1024,))\n",
    "sumi_RCA  = np.zeros((2048,))\n",
    "sumi_RDG = np.zeros((1024,))\n",
    "\n",
    "# create empty arrays for the individual-level T1w/T2w intensity values along the subfields\n",
    "sumi_all_RSUB = np.zeros((709,1024))\n",
    "sumi_all_RCA  = np.zeros((709,2048))\n",
    "sumi_all_RDG  = np.zeros((709,1024))"
   ]
  },
  {
   "cell_type": "code",
   "execution_count": 10,
   "metadata": {},
   "outputs": [
    {
     "name": "stdout",
     "output_type": "stream",
     "text": [
      "709\n"
     ]
    }
   ],
   "source": [
    "workdir   = '../data/bladesMniGifti_T1wT2w/'\n",
    "\n",
    "j = 0\n",
    "\n",
    "for subjid in subjlist:\n",
    "\n",
    "    # filename for t1w-t2w ratio, resampled along right hippocampus\n",
    "    vol2hipp_RSUB = os.path.join(workdir, 'HCP_%s_R_SUB_skelFinal.shape.gii' % (subjid))  \n",
    "    vol2hipp_RCA  = os.path.join(workdir, 'HCP_%s_R_CA_skelFinal.shape.gii' % (subjid)) \n",
    "    vol2hipp_RDG  = os.path.join(workdir, 'HCP_%s_R_DG_skelFinal.shape.gii' % (subjid))  \n",
    "\n",
    "    t1wt2w_RSUB = nb.load(vol2hipp_RSUB).agg_data()\n",
    "    t1wt2w_RCA  = nb.load(vol2hipp_RCA).agg_data()\n",
    "    t1wt2w_RDG  = nb.load(vol2hipp_RDG).agg_data()    \n",
    "    \n",
    "    DF_indiv_mean_t1wt2w.at[subjid, 't1-t2-RSUB'] = t1wt2w_RSUB.mean()     \n",
    "    DF_indiv_mean_t1wt2w.at[subjid, 't1-t2-RCA' ] = t1wt2w_RCA.mean()     \n",
    "    DF_indiv_mean_t1wt2w.at[subjid, 't1-t2-RDG' ] = t1wt2w_RDG.mean()     \n",
    "        \n",
    "    sumi_RSUB += t1wt2w_RSUB\n",
    "    sumi_RCA  += t1wt2w_RCA\n",
    "    sumi_RDG  += t1wt2w_RDG\n",
    "    \n",
    "    sumi_all_RSUB[j,:] = t1wt2w_RSUB\n",
    "    sumi_all_RCA[j,:]  = t1wt2w_RCA\n",
    "    sumi_all_RDG[j,:]  = t1wt2w_RDG\n",
    "    \n",
    "    j += 1    \n",
    "        \n",
    "print(j)        \n",
    "group_t1wt2w_RSUB = sumi_RSUB/j\n",
    "group_t1wt2w_RCA  = sumi_RCA/j\n",
    "group_t1wt2w_RDG  = sumi_RDG/j\n"
   ]
  },
  {
   "cell_type": "code",
   "execution_count": 11,
   "metadata": {},
   "outputs": [
    {
     "data": {
      "text/plain": [
       "(1.9883627728400628, 0.4306975485055465)"
      ]
     },
     "execution_count": 11,
     "metadata": {},
     "output_type": "execute_result"
    }
   ],
   "source": [
    "sumi_all_RSUB.mean(), sumi_all_RSUB.std()"
   ]
  },
  {
   "cell_type": "code",
   "execution_count": 12,
   "metadata": {},
   "outputs": [
    {
     "data": {
      "text/plain": [
       "(2.009318436923671, 0.6776930643350547)"
      ]
     },
     "execution_count": 12,
     "metadata": {},
     "output_type": "execute_result"
    }
   ],
   "source": [
    "sumi_all_RCA.mean(), sumi_all_RCA.std()"
   ]
  },
  {
   "cell_type": "code",
   "execution_count": 13,
   "metadata": {},
   "outputs": [
    {
     "data": {
      "text/plain": [
       "(1.6867449843244757, 0.22552297822684536)"
      ]
     },
     "execution_count": 13,
     "metadata": {},
     "output_type": "execute_result"
    }
   ],
   "source": [
    "sumi_all_RDG.mean(), sumi_all_RDG.std()"
   ]
  },
  {
   "cell_type": "markdown",
   "metadata": {},
   "source": [
    "### plot mean t1w/t2w intensity values for all individuals (RIGHT hemisphere)"
   ]
  },
  {
   "cell_type": "code",
   "execution_count": 14,
   "metadata": {},
   "outputs": [
    {
     "name": "stdout",
     "output_type": "stream",
     "text": [
      "0 t1-t2-RSUB\n",
      "1 t1-t2-RCA\n",
      "2 t1-t2-RDG\n"
     ]
    },
    {
     "data": {
      "text/plain": [
       "[(1.2, 3.0)]"
      ]
     },
     "execution_count": 14,
     "metadata": {},
     "output_type": "execute_result"
    },
    {
     "data": {
      "image/png": "[encoded data removed]",
      "text/plain": [
       "<Figure size 432x288 with 1 Axes>"
      ]
     },
     "metadata": {
      "needs_background": "light"
     },
     "output_type": "display_data"
    }
   ],
   "source": [
    "sns.set_context(\"talk\", font_scale=1.1)\n",
    "\n",
    "colstoplot = ['t1-t2-RSUB', 't1-t2-RCA', 't1-t2-RDG']\n",
    "\n",
    "dk = pd.DataFrame({'t1-t2-RSUB':np.array(DF_indiv_mean_t1wt2w['t1-t2-RSUB']).astype(float),\n",
    "                   't1-t2-RCA':np.array(DF_indiv_mean_t1wt2w['t1-t2-RCA']).astype(float),\n",
    "                   't1-t2-RDG':np.array(DF_indiv_mean_t1wt2w['t1-t2-RDG']).astype(float),})\n",
    "\n",
    "for i,d in enumerate(colstoplot):\n",
    "    print(i, d)\n",
    "    y = dk[d]\n",
    "    x = np.random.normal(i+1, 0.08, len(y))\n",
    "    plt.plot(x, y, \n",
    "             marker=\"o\", \n",
    "             markeredgewidth = 1,\n",
    "             linestyle='None',\n",
    "             color='grey', \n",
    "             markersize=4,  \n",
    "             alpha=0.8)\n",
    "    \n",
    "ax = dk.boxplot(column=colstoplot,\n",
    "                fontsize=17, \n",
    "                color=dict(boxes='k', whiskers='k', medians='k', caps='k'),\n",
    "                boxprops=dict(linestyle='-', linewidth=2),\n",
    "                flierprops=dict(linestyle='-', linewidth=2),\n",
    "                medianprops=dict(linestyle='-', linewidth=2),\n",
    "                whiskerprops=dict(linestyle='-', linewidth=2),\n",
    "                capprops=dict(linestyle='-', linewidth=2),\n",
    "                widths=(0.75, 0.75, 0.75),\n",
    "                showfliers=False,)\n",
    "\n",
    "ax.set_title(\"T1w-T2w-ratio\")    \n",
    "ax.set(ylim=(1.2, 3))\n",
    "    "
   ]
  },
  {
   "cell_type": "code",
   "execution_count": null,
   "metadata": {},
   "outputs": [],
   "source": []
  },
  {
   "cell_type": "code",
   "execution_count": null,
   "metadata": {},
   "outputs": [],
   "source": []
  },
  {
   "cell_type": "code",
   "execution_count": null,
   "metadata": {},
   "outputs": [],
   "source": []
  },
  {
   "cell_type": "code",
   "execution_count": null,
   "metadata": {},
   "outputs": [],
   "source": []
  }
 ],
 "metadata": {
  "kernelspec": {
   "display_name": "Python [conda env:hippoc] *",
   "language": "python",
   "name": "conda-env-hippoc-py"
  },
  "language_info": {
   "codemirror_mode": {
    "name": "ipython",
    "version": 3
   },
   "file_extension": ".py",
   "mimetype": "text/x-python",
   "name": "python",
   "nbconvert_exporter": "python",
   "pygments_lexer": "ipython3",
   "version": "3.7.12"
  }
 },
 "nbformat": 4,
 "nbformat_minor": 4
}
