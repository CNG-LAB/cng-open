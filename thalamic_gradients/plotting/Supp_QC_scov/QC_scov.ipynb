{
 "cells": [
  {
   "cell_type": "code",
   "execution_count": 7,
   "id": "4ce63b0c",
   "metadata": {},
   "outputs": [],
   "source": [
    "from brainspace.plotting import plot_hemispheres\n",
    "from brainspace.datasets import load_parcellation\n",
    "from brainspace.utils.parcellation import map_to_labels \n",
    "from brainspace.datasets import load_conte69\n",
    "import matplotlib.pyplot as plt\n",
    "import numpy as np\n",
    "import pandas as pd\n",
    "from nilearn import plotting\n",
    "import ptitprince as pt\n",
    "import nibabel as nb\n",
    "import seaborn as sns\n",
    "from matplotlib.patches import Rectangle\n",
    "import matplotlib.colors as colors\n",
    "from matplotlib.colors import ListedColormap, LinearSegmentedColormap\n",
    "from scipy import stats\n",
    "\n",
    "\n",
    "plt.rcParams[\"pdf.fonttype\"]=42  #export as editable text\n",
    "plt.rcParams[\"ps.fonttype\"]=42\n",
    "plt.rcParams[\"svg.fonttype\"]=\"none\" #export as editable text\n",
    "\n",
    "plt.rc(\"font\",size=10)\n",
    "plt.rc(\"axes\", labelsize=22)\n",
    "plt.rc(\"xtick\", labelsize=13)\n",
    "plt.rc(\"ytick\", labelsize=13)\n",
    "plt.rcParams['axes.linewidth'] = 0.8\n",
    "screenshot = False\n",
    "cmap=  \"RdBu_r\""
   ]
  },
  {
   "cell_type": "markdown",
   "id": "7c6e91c0",
   "metadata": {},
   "source": [
    "## Gradient 1"
   ]
  },
  {
   "cell_type": "code",
   "execution_count": 3,
   "id": "4ae6d8ec",
   "metadata": {},
   "outputs": [
    {
     "data": {
      "text/plain": [
       "'/data/p_02666/Project1_thalamus/plots/Supp_QC_struccov/crosscheck_lh_g1_to_wholebrain.png'"
      ]
     },
     "execution_count": 3,
     "metadata": {},
     "output_type": "execute_result"
    }
   ],
   "source": [
    "#-> structural covariance calculated from left thalamus to whole brain -> corr with grad1 left\n",
    "\n",
    "r_values=np.load(\"/Project1_thalamus_gradients/data/structural_covariance/QC/R_values_left_th_whole_cortex_g1.npy\")\n",
    "\n",
    "surf_lh, surf_rh=load_conte69()\n",
    "labeling=load_parcellation(\"schaefer\", scale=200, join=True)\n",
    "mask = labeling!= 0\n",
    "data=map_to_labels(r_values[:,0],labeling, mask=mask, fill=np.nan)\n",
    "\n",
    "plot_hemispheres(surf_lh, surf_rh, array_name=data,\n",
    "                 cmap=cmap,color_bar=True,\n",
    "                 background=(1,1,1),size=(1200,200),zoom=1.5,\n",
    "                 color_range=(-0.5,0.5),  #(-0.85,0.85),\n",
    "                 embed_nb=True,\n",
    "                 interactive=False,\n",
    "                 screenshot=screenshot, \n",
    "                 transparent_bg=True,\n",
    "                 filename = \"/Project1_thalamus_gradients/plots/Supp_QC_struccov/crosscheck_lh_g1_to_wholebrain.png\")"
   ]
  },
  {
   "cell_type": "code",
   "execution_count": 4,
   "id": "68636be7",
   "metadata": {},
   "outputs": [
    {
     "data": {
      "text/plain": [
       "'/data/p_02666/Project1_thalamus/plots/Supp_QC_struccov/crosscheck_rh_g1_to_wholebrain.png'"
      ]
     },
     "execution_count": 4,
     "metadata": {},
     "output_type": "execute_result"
    }
   ],
   "source": [
    "# structural covariance calculated from right thalamus to whole brain -> corr with grad1 right\n",
    "\n",
    "r_values=np.load(\"/Project1_thalamus_gradients/data/structural_covariance/QC/R_values_right_th_whole_cortex_g1.npy\")\n",
    "\n",
    "surf_lh, surf_rh=load_conte69()\n",
    "labeling=load_parcellation(\"schaefer\", scale=200, join=True)\n",
    "mask = labeling!= 0\n",
    "data=map_to_labels(r_values[:,0],labeling, mask=mask, fill=np.nan)\n",
    "\n",
    "plot_hemispheres(surf_lh, surf_rh, array_name=data,\n",
    "                 cmap=cmap,color_bar=True,\n",
    "                 background=(1,1,1),size=(1200,200),zoom=1.5,\n",
    "                 color_range=(-0.5,0.5),  #(-0.85,0.85),\n",
    "                 embed_nb=True,\n",
    "                 interactive=False,\n",
    "                 screenshot=screenshot, \n",
    "                 transparent_bg=True,\n",
    "                 filename = \"/Project1_thalamus_gradients/plots/Supp_QC_struccov/crosscheck_rh_g1_to_wholebrain.png\")"
   ]
  },
  {
   "cell_type": "markdown",
   "id": "2b0bccaa",
   "metadata": {},
   "source": [
    "## Gradient 2"
   ]
  },
  {
   "cell_type": "code",
   "execution_count": 5,
   "id": "1f346188",
   "metadata": {},
   "outputs": [
    {
     "data": {
      "text/plain": [
       "'/data/p_02666/Project1_thalamus/plots/Supp_QC_struccov/crosscheck_lh_g2_to_wholebrain.png'"
      ]
     },
     "execution_count": 5,
     "metadata": {},
     "output_type": "execute_result"
    }
   ],
   "source": [
    "#-> structural covariance calculated from left thalamus to whole brain -> corr with grad1 left\n",
    "\n",
    "r_values=np.load(\"/Project1_thalamus_gradients/data/structural_covariance/QC/R_values_left_th_whole_cortex_g2.npy\")\n",
    "\n",
    "surf_lh, surf_rh=load_conte69()\n",
    "labeling=load_parcellation(\"schaefer\", scale=200, join=True)\n",
    "mask = labeling!= 0\n",
    "data=map_to_labels(r_values[:,0],labeling, mask=mask, fill=np.nan)\n",
    "\n",
    "plot_hemispheres(surf_lh, surf_rh, array_name=data,\n",
    "                 cmap=cmap,color_bar=True,\n",
    "                 background=(1,1,1),size=(1200,200),zoom=1.5,\n",
    "                 color_range=(-0.5,0.5),  #(-0.85,0.85),\n",
    "                 embed_nb=True,\n",
    "                 interactive=False,\n",
    "                 screenshot=screenshot, \n",
    "                 transparent_bg=True,\n",
    "                 filename = \"/Project1_thalamus_gradients/plots/Supp_QC_struccov/crosscheck_lh_g2_to_wholebrain.png\")"
   ]
  },
  {
   "cell_type": "code",
   "execution_count": 6,
   "id": "a2a3bdc5",
   "metadata": {},
   "outputs": [
    {
     "data": {
      "text/plain": [
       "'/data/p_02666/Project1_thalamus/plots/Supp_QC_struccov/crosscheck_rh_g2_to_wholebrain.png'"
      ]
     },
     "execution_count": 6,
     "metadata": {},
     "output_type": "execute_result"
    }
   ],
   "source": [
    "# structural covariance calculated from right thalamus to whole brain -> corr with grad1 right\n",
    "\n",
    "r_values=np.load(\"/Project1_thalamus_gradients/data/structural_covariance/QC/R_values_right_th_whole_cortex_g2.npy\")\n",
    "\n",
    "surf_lh, surf_rh=load_conte69()\n",
    "labeling=load_parcellation(\"schaefer\", scale=200, join=True)\n",
    "mask = labeling!= 0\n",
    "data=map_to_labels(r_values[:,0],labeling, mask=mask, fill=np.nan)\n",
    "\n",
    "plot_hemispheres(surf_lh, surf_rh, array_name=data,\n",
    "                 cmap=cmap,color_bar=True,\n",
    "                 background=(1,1,1),size=(1200,200),zoom=1.5,\n",
    "                 color_range=(-0.5,0.5),  #(-0.85,0.85),\n",
    "                 embed_nb=True,\n",
    "                 interactive=False,\n",
    "                 screenshot=screenshot, \n",
    "                 transparent_bg=True,\n",
    "                 filename = \"/Project1_thalamus_gradients/plots/Supp_QC_struccov/crosscheck_rh_g2_to_wholebrain.png\")"
   ]
  },
  {
   "cell_type": "code",
   "execution_count": null,
   "id": "466d7be6",
   "metadata": {},
   "outputs": [],
   "source": []
  },
  {
   "cell_type": "code",
   "execution_count": null,
   "id": "ce701d9b",
   "metadata": {},
   "outputs": [],
   "source": []
  }
 ],
 "metadata": {
  "kernelspec": {
   "display_name": "Python [conda env:thalamus_AJ] *",
   "language": "python",
   "name": "conda-env-thalamus_AJ-py"
  },
  "language_info": {
   "codemirror_mode": {
    "name": "ipython",
    "version": 3
   },
   "file_extension": ".py",
   "mimetype": "text/x-python",
   "name": "python",
   "nbconvert_exporter": "python",
   "pygments_lexer": "ipython3",
   "version": "3.7.11"
  }
 },
 "nbformat": 4,
 "nbformat_minor": 5
}
